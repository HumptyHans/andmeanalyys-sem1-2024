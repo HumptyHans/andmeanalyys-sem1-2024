{
 "cells": [
  {
   "cell_type": "code",
   "execution_count": 59,
   "id": "initial_id",
   "metadata": {
    "collapsed": true,
    "ExecuteTime": {
     "end_time": "2024-11-11T12:47:29.801046Z",
     "start_time": "2024-11-11T12:47:29.798925Z"
    }
   },
   "outputs": [],
   "source": [
    "import joblib\n",
    "import pandas as pd\n",
    "import torch\n",
    "import xgboost as xgb\n",
    "\n",
    "from statistics import mode\n",
    "\n",
    "from sklearn.ensemble import RandomForestClassifier\n",
    "from sklearn.metrics import accuracy_score, f1_score\n",
    "from sklearn.model_selection import train_test_split\n",
    "from sklearn.preprocessing import LabelEncoder\n",
    "from torch import nn\n",
    "from pycaret.classification import load_model, predict_model"
   ]
  },
  {
   "cell_type": "code",
   "execution_count": 4,
   "outputs": [],
   "source": [
    "df = pd.read_csv('../LLCP2023_clean.csv', keep_default_na=False, dtype='category')"
   ],
   "metadata": {
    "collapsed": false,
    "ExecuteTime": {
     "end_time": "2024-11-11T12:23:58.557853Z",
     "start_time": "2024-11-11T12:23:58.417679Z"
    }
   },
   "id": "b546ff92f7ed7774"
  },
  {
   "cell_type": "code",
   "execution_count": 5,
   "outputs": [],
   "source": [
    "label_encoders = {}\n",
    "for column in df.columns:\n",
    "    le = LabelEncoder()\n",
    "    df[column] = le.fit_transform(df[column])\n",
    "    label_encoders[column] = le"
   ],
   "metadata": {
    "collapsed": false,
    "ExecuteTime": {
     "end_time": "2024-11-11T12:23:58.707497Z",
     "start_time": "2024-11-11T12:23:58.558965Z"
    }
   },
   "id": "2cc3b0df137d562c"
  },
  {
   "cell_type": "code",
   "execution_count": 29,
   "outputs": [],
   "source": [
    "X = df.drop(columns=['_MENT14D'])\n",
    "y = df['_MENT14D']\n",
    "\n",
    "X_train, X_test, y_train, y_test = train_test_split(X, y, test_size=0.2, random_state=42, stratify=y)"
   ],
   "metadata": {
    "collapsed": false,
    "ExecuteTime": {
     "end_time": "2024-11-11T12:40:03.229502Z",
     "start_time": "2024-11-11T12:40:03.163323Z"
    }
   },
   "id": "f9ea14092b3f3138"
  },
  {
   "cell_type": "code",
   "execution_count": 30,
   "outputs": [],
   "source": [
    "X_test.reset_index(inplace=True, drop=True)\n",
    "y_test.reset_index(inplace=True, drop=True)"
   ],
   "metadata": {
    "collapsed": false,
    "ExecuteTime": {
     "end_time": "2024-11-11T12:40:09.526301Z",
     "start_time": "2024-11-11T12:40:09.521306Z"
    }
   },
   "id": "25e39f4a66cef524"
  },
  {
   "cell_type": "markdown",
   "source": [
    "## Load pretrained models"
   ],
   "metadata": {
    "collapsed": false
   },
   "id": "91a550f1992b1978"
  },
  {
   "cell_type": "markdown",
   "source": [
    "### Pycaret"
   ],
   "metadata": {
    "collapsed": false
   },
   "id": "3e651c6913dc7ca4"
  },
  {
   "cell_type": "code",
   "execution_count": 32,
   "outputs": [
    {
     "name": "stdout",
     "output_type": "stream",
     "text": [
      "Transformation Pipeline and Model Successfully Loaded\n"
     ]
    }
   ],
   "source": [
    "pycaret_model = load_model('../model-weights/PyCaret_model_num_cat')"
   ],
   "metadata": {
    "collapsed": false,
    "ExecuteTime": {
     "end_time": "2024-11-11T12:40:28.413362Z",
     "start_time": "2024-11-11T12:40:28.379020Z"
    }
   },
   "id": "3db2cb61a28ab30"
  },
  {
   "cell_type": "markdown",
   "source": [
    "### Random forest"
   ],
   "metadata": {
    "collapsed": false
   },
   "id": "cb0210667d690685"
  },
  {
   "cell_type": "code",
   "execution_count": 43,
   "outputs": [],
   "source": [
    "rf_model: RandomForestClassifier = joblib.load('../model-weights/compressed_random_forest_model.pkl')"
   ],
   "metadata": {
    "collapsed": false,
    "ExecuteTime": {
     "end_time": "2024-11-11T12:42:48.243660Z",
     "start_time": "2024-11-11T12:42:48.103209Z"
    }
   },
   "id": "4ea7ae3d18567919"
  },
  {
   "cell_type": "markdown",
   "source": [
    "### XGBoost model"
   ],
   "metadata": {
    "collapsed": false
   },
   "id": "f8ccb22c7cf2ab25"
  },
  {
   "cell_type": "code",
   "execution_count": 44,
   "outputs": [],
   "source": [
    "xgb_model: xgb.XGBClassifier = xgb.XGBClassifier()\n",
    "xgb_model.load_model('../model-weights/xgb_model.json')"
   ],
   "metadata": {
    "collapsed": false,
    "ExecuteTime": {
     "end_time": "2024-11-11T12:43:13.290437Z",
     "start_time": "2024-11-11T12:43:13.244796Z"
    }
   },
   "id": "d6137f369759a4db"
  },
  {
   "cell_type": "markdown",
   "source": [
    "### Neural Network"
   ],
   "metadata": {
    "collapsed": false
   },
   "id": "1f66625ff4f8085b"
  },
  {
   "cell_type": "code",
   "execution_count": 35,
   "outputs": [],
   "source": [
    "class MentalHealthClassifier(nn.Module):\n",
    "    def __init__(self, input_size, num_classes):\n",
    "        super().__init__()\n",
    "        self.linear_relu_stack = nn.Sequential(\n",
    "            nn.Linear(input_size, 256),\n",
    "            nn.Tanh(),\n",
    "            nn.Linear(256, 128),\n",
    "            nn.Tanh(),\n",
    "            nn.Linear(128, 64),\n",
    "            nn.ReLU(),\n",
    "            nn.Linear(64, num_classes),\n",
    "            nn.Softmax(dim=1)\n",
    "        )\n",
    "\n",
    "    def forward(self, x):\n",
    "        return self.linear_relu_stack(x)\n",
    "\n",
    "\n",
    "input_size = 26  # Number of features\n",
    "num_classes = 3  # Number of target classes\n",
    "nn_model = MentalHealthClassifier(input_size, num_classes)"
   ],
   "metadata": {
    "collapsed": false,
    "ExecuteTime": {
     "end_time": "2024-11-11T12:40:28.562382Z",
     "start_time": "2024-11-11T12:40:28.559461Z"
    }
   },
   "id": "696fe424bd580ab4"
  },
  {
   "cell_type": "code",
   "execution_count": 36,
   "outputs": [
    {
     "data": {
      "text/plain": "MentalHealthClassifier(\n  (linear_relu_stack): Sequential(\n    (0): Linear(in_features=26, out_features=256, bias=True)\n    (1): Tanh()\n    (2): Linear(in_features=256, out_features=128, bias=True)\n    (3): Tanh()\n    (4): Linear(in_features=128, out_features=64, bias=True)\n    (5): ReLU()\n    (6): Linear(in_features=64, out_features=3, bias=True)\n    (7): Softmax(dim=1)\n  )\n)"
     },
     "execution_count": 36,
     "metadata": {},
     "output_type": "execute_result"
    }
   ],
   "source": [
    "nn_model.load_state_dict(\n",
    "    torch.load('../model-weights/nn_model.pt', map_location=torch.device('cpu'), weights_only=True))\n",
    "nn_model.eval()"
   ],
   "metadata": {
    "collapsed": false,
    "ExecuteTime": {
     "end_time": "2024-11-11T12:40:28.567921Z",
     "start_time": "2024-11-11T12:40:28.563056Z"
    }
   },
   "id": "1d3370945d12cd2f"
  },
  {
   "cell_type": "markdown",
   "source": [
    "## Combine models"
   ],
   "metadata": {
    "collapsed": false
   },
   "id": "bbe94520bad70e37"
  },
  {
   "cell_type": "code",
   "execution_count": 37,
   "outputs": [],
   "source": [
    "pred_pycaret = predict_model(pycaret_model, data=X_test)['prediction_label']"
   ],
   "metadata": {
    "collapsed": false,
    "ExecuteTime": {
     "end_time": "2024-11-11T12:40:34.516345Z",
     "start_time": "2024-11-11T12:40:33.939913Z"
    }
   },
   "id": "3adc851c964e9566"
  },
  {
   "cell_type": "code",
   "execution_count": 54,
   "outputs": [
    {
     "data": {
      "text/plain": "0    2\n1    1\n2    2\nName: prediction_label, dtype: int64"
     },
     "execution_count": 54,
     "metadata": {},
     "output_type": "execute_result"
    }
   ],
   "source": [
    "pred_pycaret[:3]"
   ],
   "metadata": {
    "collapsed": false,
    "ExecuteTime": {
     "end_time": "2024-11-11T12:44:42.675008Z",
     "start_time": "2024-11-11T12:44:42.670607Z"
    }
   },
   "id": "bcafa03171bf022f"
  },
  {
   "cell_type": "code",
   "execution_count": 45,
   "outputs": [],
   "source": [
    "pred_rf = rf_model.predict(X_test)"
   ],
   "metadata": {
    "collapsed": false,
    "ExecuteTime": {
     "end_time": "2024-11-11T12:43:29.411677Z",
     "start_time": "2024-11-11T12:43:29.282014Z"
    }
   },
   "id": "d69ac8d5783694a"
  },
  {
   "cell_type": "code",
   "execution_count": 53,
   "outputs": [
    {
     "data": {
      "text/plain": "array([2, 1, 2])"
     },
     "execution_count": 53,
     "metadata": {},
     "output_type": "execute_result"
    }
   ],
   "source": [
    "pred_rf[:3]"
   ],
   "metadata": {
    "collapsed": false,
    "ExecuteTime": {
     "end_time": "2024-11-11T12:44:38.331150Z",
     "start_time": "2024-11-11T12:44:38.326143Z"
    }
   },
   "id": "3f12c0dc6695b1d7"
  },
  {
   "cell_type": "code",
   "execution_count": 47,
   "outputs": [],
   "source": [
    "pred_xgb = xgb_model.predict(X_test)"
   ],
   "metadata": {
    "collapsed": false,
    "ExecuteTime": {
     "end_time": "2024-11-11T12:43:51.285103Z",
     "start_time": "2024-11-11T12:43:51.225668Z"
    }
   },
   "id": "925fcc427fee1643"
  },
  {
   "cell_type": "code",
   "execution_count": 50,
   "outputs": [
    {
     "data": {
      "text/plain": "array([2, 1, 2])"
     },
     "execution_count": 50,
     "metadata": {},
     "output_type": "execute_result"
    }
   ],
   "source": [
    "pred_xgb[:3]"
   ],
   "metadata": {
    "collapsed": false,
    "ExecuteTime": {
     "end_time": "2024-11-11T12:44:08.416990Z",
     "start_time": "2024-11-11T12:44:08.410611Z"
    }
   },
   "id": "285d82befba76bdb"
  },
  {
   "cell_type": "code",
   "execution_count": 51,
   "outputs": [],
   "source": [
    "pred_nn = nn_model(torch.tensor(X_test.values, dtype=torch.float32)).argmax(axis=1).numpy()"
   ],
   "metadata": {
    "collapsed": false,
    "ExecuteTime": {
     "end_time": "2024-11-11T12:44:30.706109Z",
     "start_time": "2024-11-11T12:44:30.660875Z"
    }
   },
   "id": "44e80b1fb66432f5"
  },
  {
   "cell_type": "code",
   "execution_count": 52,
   "outputs": [
    {
     "data": {
      "text/plain": "array([2, 1, 0])"
     },
     "execution_count": 52,
     "metadata": {},
     "output_type": "execute_result"
    }
   ],
   "source": [
    "pred_nn[:3]"
   ],
   "metadata": {
    "collapsed": false,
    "ExecuteTime": {
     "end_time": "2024-11-11T12:44:32.223686Z",
     "start_time": "2024-11-11T12:44:32.218886Z"
    }
   },
   "id": "4abdf739716bfe38"
  },
  {
   "cell_type": "code",
   "execution_count": 55,
   "outputs": [],
   "source": [
    "combined_predictions = pd.concat([\n",
    "    pd.Series(pred_xgb, name=\"xgb_pred\"),\n",
    "    pd.Series(pred_rf, name=\"rf_pred\"),\n",
    "    pd.Series(pred_pycaret, name=\"pycaret_pred\"),\n",
    "    pd.Series(pred_nn, name=\"nn_pred\"),\n",
    "], axis=1).apply(mode, axis=1)"
   ],
   "metadata": {
    "collapsed": false,
    "ExecuteTime": {
     "end_time": "2024-11-11T12:45:23.430418Z",
     "start_time": "2024-11-11T12:45:23.370507Z"
    }
   },
   "id": "7a967eefc1f4010d"
  },
  {
   "cell_type": "code",
   "execution_count": 56,
   "outputs": [
    {
     "data": {
      "text/plain": "0        2\n1        1\n2        2\n3        0\n4        2\n        ..\n16085    2\n16086    2\n16087    0\n16088    0\n16089    2\nLength: 16090, dtype: int64"
     },
     "execution_count": 56,
     "metadata": {},
     "output_type": "execute_result"
    }
   ],
   "source": [
    "combined_predictions"
   ],
   "metadata": {
    "collapsed": false,
    "ExecuteTime": {
     "end_time": "2024-11-11T12:45:24.522096Z",
     "start_time": "2024-11-11T12:45:24.519364Z"
    }
   },
   "id": "1418ed7fa402a065"
  },
  {
   "cell_type": "code",
   "execution_count": 60,
   "outputs": [
    {
     "data": {
      "text/plain": "0.7119328775637042"
     },
     "execution_count": 60,
     "metadata": {},
     "output_type": "execute_result"
    }
   ],
   "source": [
    "accuracy_score(y_test, combined_predictions)"
   ],
   "metadata": {
    "collapsed": false,
    "ExecuteTime": {
     "end_time": "2024-11-11T12:47:35.534797Z",
     "start_time": "2024-11-11T12:47:35.516978Z"
    }
   },
   "id": "bee79f52cf65ddba"
  },
  {
   "cell_type": "code",
   "execution_count": 62,
   "outputs": [
    {
     "data": {
      "text/plain": "0.7079679344133109"
     },
     "execution_count": 62,
     "metadata": {},
     "output_type": "execute_result"
    }
   ],
   "source": [
    "f1_score(y_test, combined_predictions, average='weighted')"
   ],
   "metadata": {
    "collapsed": false,
    "ExecuteTime": {
     "end_time": "2024-11-11T12:47:35.560337Z",
     "start_time": "2024-11-11T12:47:35.552831Z"
    }
   },
   "id": "4969092e63e7d2ef"
  }
 ],
 "metadata": {
  "kernelspec": {
   "display_name": "Python 3",
   "language": "python",
   "name": "python3"
  },
  "language_info": {
   "codemirror_mode": {
    "name": "ipython",
    "version": 2
   },
   "file_extension": ".py",
   "mimetype": "text/x-python",
   "name": "python",
   "nbconvert_exporter": "python",
   "pygments_lexer": "ipython2",
   "version": "2.7.6"
  }
 },
 "nbformat": 4,
 "nbformat_minor": 5
}
