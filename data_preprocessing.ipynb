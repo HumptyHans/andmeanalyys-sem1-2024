{
 "cells": [
  {
   "cell_type": "markdown",
   "source": [
    "# Data preprocessing"
   ],
   "metadata": {
    "collapsed": false
   },
   "id": "87759d04d40036bc"
  },
  {
   "cell_type": "code",
   "execution_count": 52,
   "id": "initial_id",
   "metadata": {
    "collapsed": true,
    "id": "initial_id",
    "executionInfo": {
     "status": "ok",
     "timestamp": 1730745959475,
     "user_tz": -120,
     "elapsed": 261,
     "user": {
      "displayName": "Lana Teras",
      "userId": "04934565953456237748"
     }
    },
    "ExecuteTime": {
     "end_time": "2024-11-06T16:21:37.588013Z",
     "start_time": "2024-11-06T16:21:37.463495Z"
    }
   },
   "outputs": [],
   "source": [
    "import pandas as pd\n",
    "import numpy as np"
   ]
  },
  {
   "cell_type": "code",
   "execution_count": 53,
   "id": "c6965ddcaa5498a2",
   "metadata": {
    "id": "c6965ddcaa5498a2",
    "executionInfo": {
     "status": "ok",
     "timestamp": 1730748657879,
     "user_tz": -120,
     "elapsed": 81527,
     "user": {
      "displayName": "Lana Teras",
      "userId": "04934565953456237748"
     }
    },
    "ExecuteTime": {
     "end_time": "2024-11-06T16:22:05.456342Z",
     "start_time": "2024-11-06T16:21:37.466304Z"
    }
   },
   "outputs": [
    {
     "data": {
      "text/plain": "   _STATE  FMONTH        IDATE IMONTH   IDAY    IYEAR  DISPCODE  \\\n0     1.0     1.0  b'03012023'  b'03'  b'01'  b'2023'    1100.0   \n1     1.0     1.0  b'01062023'  b'01'  b'06'  b'2023'    1100.0   \n2     1.0     1.0  b'03082023'  b'03'  b'08'  b'2023'    1100.0   \n3     1.0     1.0  b'03062023'  b'03'  b'06'  b'2023'    1100.0   \n4     1.0     1.0  b'01062023'  b'01'  b'06'  b'2023'    1100.0   \n\n           SEQNO          _PSU  CTELENM1  ...      DROCDY4_  _RFBING6  \\\n0  b'2023000001'  2.023000e+09       1.0  ...  5.397605e-79       1.0   \n1  b'2023000002'  2.023000e+09       1.0  ...  5.397605e-79       1.0   \n2  b'2023000003'  2.023000e+09       1.0  ...  5.397605e-79       1.0   \n3  b'2023000004'  2.023000e+09       1.0  ...  5.397605e-79       1.0   \n4  b'2023000005'  2.023000e+09       1.0  ...  7.000000e+00       1.0   \n\n       _DRNKWK2  _RFDRHV8  _FLSHOT7  _PNEUMO3  _AIDTST4  _RFSEAT2  _RFSEAT3  \\\n0  5.397605e-79       1.0       2.0       2.0       2.0       1.0       1.0   \n1  5.397605e-79       1.0       1.0       1.0       2.0       1.0       1.0   \n2  5.397605e-79       1.0       1.0       1.0       2.0       1.0       1.0   \n3  5.397605e-79       1.0       1.0       1.0       1.0       1.0       1.0   \n4  4.700000e+01       1.0       2.0       1.0       2.0       1.0       1.0   \n\n   _DRNKDRV  \n0       9.0  \n1       9.0  \n2       9.0  \n3       9.0  \n4       2.0  \n\n[5 rows x 350 columns]",
      "text/html": "<div>\n<style scoped>\n    .dataframe tbody tr th:only-of-type {\n        vertical-align: middle;\n    }\n\n    .dataframe tbody tr th {\n        vertical-align: top;\n    }\n\n    .dataframe thead th {\n        text-align: right;\n    }\n</style>\n<table border=\"1\" class=\"dataframe\">\n  <thead>\n    <tr style=\"text-align: right;\">\n      <th></th>\n      <th>_STATE</th>\n      <th>FMONTH</th>\n      <th>IDATE</th>\n      <th>IMONTH</th>\n      <th>IDAY</th>\n      <th>IYEAR</th>\n      <th>DISPCODE</th>\n      <th>SEQNO</th>\n      <th>_PSU</th>\n      <th>CTELENM1</th>\n      <th>...</th>\n      <th>DROCDY4_</th>\n      <th>_RFBING6</th>\n      <th>_DRNKWK2</th>\n      <th>_RFDRHV8</th>\n      <th>_FLSHOT7</th>\n      <th>_PNEUMO3</th>\n      <th>_AIDTST4</th>\n      <th>_RFSEAT2</th>\n      <th>_RFSEAT3</th>\n      <th>_DRNKDRV</th>\n    </tr>\n  </thead>\n  <tbody>\n    <tr>\n      <th>0</th>\n      <td>1.0</td>\n      <td>1.0</td>\n      <td>b'03012023'</td>\n      <td>b'03'</td>\n      <td>b'01'</td>\n      <td>b'2023'</td>\n      <td>1100.0</td>\n      <td>b'2023000001'</td>\n      <td>2.023000e+09</td>\n      <td>1.0</td>\n      <td>...</td>\n      <td>5.397605e-79</td>\n      <td>1.0</td>\n      <td>5.397605e-79</td>\n      <td>1.0</td>\n      <td>2.0</td>\n      <td>2.0</td>\n      <td>2.0</td>\n      <td>1.0</td>\n      <td>1.0</td>\n      <td>9.0</td>\n    </tr>\n    <tr>\n      <th>1</th>\n      <td>1.0</td>\n      <td>1.0</td>\n      <td>b'01062023'</td>\n      <td>b'01'</td>\n      <td>b'06'</td>\n      <td>b'2023'</td>\n      <td>1100.0</td>\n      <td>b'2023000002'</td>\n      <td>2.023000e+09</td>\n      <td>1.0</td>\n      <td>...</td>\n      <td>5.397605e-79</td>\n      <td>1.0</td>\n      <td>5.397605e-79</td>\n      <td>1.0</td>\n      <td>1.0</td>\n      <td>1.0</td>\n      <td>2.0</td>\n      <td>1.0</td>\n      <td>1.0</td>\n      <td>9.0</td>\n    </tr>\n    <tr>\n      <th>2</th>\n      <td>1.0</td>\n      <td>1.0</td>\n      <td>b'03082023'</td>\n      <td>b'03'</td>\n      <td>b'08'</td>\n      <td>b'2023'</td>\n      <td>1100.0</td>\n      <td>b'2023000003'</td>\n      <td>2.023000e+09</td>\n      <td>1.0</td>\n      <td>...</td>\n      <td>5.397605e-79</td>\n      <td>1.0</td>\n      <td>5.397605e-79</td>\n      <td>1.0</td>\n      <td>1.0</td>\n      <td>1.0</td>\n      <td>2.0</td>\n      <td>1.0</td>\n      <td>1.0</td>\n      <td>9.0</td>\n    </tr>\n    <tr>\n      <th>3</th>\n      <td>1.0</td>\n      <td>1.0</td>\n      <td>b'03062023'</td>\n      <td>b'03'</td>\n      <td>b'06'</td>\n      <td>b'2023'</td>\n      <td>1100.0</td>\n      <td>b'2023000004'</td>\n      <td>2.023000e+09</td>\n      <td>1.0</td>\n      <td>...</td>\n      <td>5.397605e-79</td>\n      <td>1.0</td>\n      <td>5.397605e-79</td>\n      <td>1.0</td>\n      <td>1.0</td>\n      <td>1.0</td>\n      <td>1.0</td>\n      <td>1.0</td>\n      <td>1.0</td>\n      <td>9.0</td>\n    </tr>\n    <tr>\n      <th>4</th>\n      <td>1.0</td>\n      <td>1.0</td>\n      <td>b'01062023'</td>\n      <td>b'01'</td>\n      <td>b'06'</td>\n      <td>b'2023'</td>\n      <td>1100.0</td>\n      <td>b'2023000005'</td>\n      <td>2.023000e+09</td>\n      <td>1.0</td>\n      <td>...</td>\n      <td>7.000000e+00</td>\n      <td>1.0</td>\n      <td>4.700000e+01</td>\n      <td>1.0</td>\n      <td>2.0</td>\n      <td>1.0</td>\n      <td>2.0</td>\n      <td>1.0</td>\n      <td>1.0</td>\n      <td>2.0</td>\n    </tr>\n  </tbody>\n</table>\n<p>5 rows × 350 columns</p>\n</div>"
     },
     "execution_count": 53,
     "metadata": {},
     "output_type": "execute_result"
    }
   ],
   "source": [
    "df_raw: pd.DataFrame = pd.read_sas('./content/LLCP2023.XPT ', iterator=False, chunksize=None)\n",
    "df_raw.head()"
   ]
  },
  {
   "cell_type": "code",
   "execution_count": 54,
   "id": "c43879c7cafe68dc",
   "metadata": {
    "colab": {
     "base_uri": "https://localhost:8080/"
    },
    "executionInfo": {
     "elapsed": 10,
     "status": "ok",
     "timestamp": 1730748657880,
     "user": {
      "displayName": "Lana Teras",
      "userId": "04934565953456237748"
     },
     "user_tz": -120
    },
    "id": "c43879c7cafe68dc",
    "outputId": "21465ffb-b467-41ac-841f-c25f10f63ac4",
    "ExecuteTime": {
     "end_time": "2024-11-06T16:22:05.458039Z",
     "start_time": "2024-11-06T16:22:05.451989Z"
    }
   },
   "outputs": [
    {
     "data": {
      "text/plain": "(433323, 350)"
     },
     "execution_count": 54,
     "metadata": {},
     "output_type": "execute_result"
    }
   ],
   "source": [
    "df_raw.shape"
   ]
  },
  {
   "cell_type": "markdown",
   "id": "a67ea7e6cb3bdd17",
   "metadata": {
    "collapsed": false,
    "id": "a67ea7e6cb3bdd17"
   },
   "source": [
    "Dataset has 433 323 observations and 350 columns in total"
   ]
  },
  {
   "cell_type": "markdown",
   "source": [
    "## Data cleaning\n",
    "The dataset contains multiple columns that are excessive for our task"
   ],
   "metadata": {
    "collapsed": false
   },
   "id": "29574e676ba05860"
  },
  {
   "cell_type": "markdown",
   "id": "50b0e6c374283157",
   "metadata": {
    "collapsed": false,
    "id": "50b0e6c374283157"
   },
   "source": [
    "### Dropping not needed columns:"
   ]
  },
  {
   "cell_type": "code",
   "execution_count": 55,
   "id": "ff81346ae8b8085d",
   "metadata": {
    "id": "ff81346ae8b8085d",
    "ExecuteTime": {
     "end_time": "2024-11-06T16:22:05.690054Z",
     "start_time": "2024-11-06T16:22:05.456006Z"
    }
   },
   "outputs": [],
   "source": [
    "columns_to_drop = [\n",
    "    '_STATE', # State FIPS Code\n",
    "    'FMONTH', # File Month\n",
    "    'IDATE', # Interview Date\n",
    "    'IMONTH', # Interview Month\n",
    "    'IDAY', # Interview Day\n",
    "    'IYEAR', # Interview Year\n",
    "    'DISPCODE', # Final Disposition (interview completed fully of partially)\n",
    "    'SEQNO', # Annual Sequence Number\n",
    "    '_PSU', # Primary Sampling Unit (Equal to Annual Sequence Number)\n",
    "    'CTELENM1', # Correct telephone number?\n",
    "    'PVTRESD1', # Is this a private residence?\n",
    "    'COLGHOUS', # Do you live in college housing?\n",
    "    'STATERE1', # Do you currently live in  ____(state)____?\n",
    "    'CELPHON1', # Is this a cell telephone?\n",
    "    'LADULT1', # Are you 18 years of age or older? [NA: 344,978, Yes: 88,212, No: 133]\n",
    "    'NUMADULT', # how many members of your household, including yourself, are 18 years of age or older? [NA: 344,993]\n",
    "    'RESPSLC1', # The person in your household that I need to speak with...\n",
    "    'LANDSEX2',\n",
    "    'LNDSXBRT',\n",
    "    'SAFETIME', # Is this a safe time to talk with you?\n",
    "    'CTELNUM1',\n",
    "    'CELLFON5', # Is this a cell phone?\n",
    "    'CADULT1', # Are you 18 years of age or older?\n",
    "    'CELLSEX2',\n",
    "    'CELSXBRT',\n",
    "    'PVTRESD3',\n",
    "    'CCLGHOUS',\n",
    "    'CSTATE1',\n",
    "    'LANDLINE',\n",
    "    'HHADULT',\n",
    "    'PRIMINS1', # What is the current source of your primary health insurance? (irrelevant)\n",
    "    'NUMHHOL4', # Number of landline telephones\n",
    "    'NUMPHON4',\n",
    "    'FLSHTMY3', # During what month and year did you receive your most recent flu vaccine\n",
    "    '_STSTR',\n",
    "    '_STRWT',\n",
    "    '_DUALUSE',\n",
    "    '_SEX', # Very close to SEXVAR variable\n",
    "    '_METSTAT',\n",
    "    '_URBSTAT',\n",
    "    'MSCODE',\n",
    "    '_WT2RAKE',\n",
    "    '_LLCPWT2',\n",
    "    '_RAWRAKE',\n",
    "    '_CLLCPWT',\n",
    "    '_DUALCOR',\n",
    "    '_LLCPWT',\n",
    "    'PADUR1_',\n",
    "    'PADUR2_',\n",
    "    'PAMIN13_',\n",
    "    'PAMIN23_',\n",
    "    'PA3MIN_',\n",
    "    'PAVIG13_',\n",
    "    'PAVIG23_',\n",
    "    'PA3VIGM_',\n",
    "    'HTIN4',\n",
    "    'HTM4',\n",
    "    'WTKG3',\n",
    "    '_BMI5'\n",
    "]\n",
    "df_raw.drop(columns=columns_to_drop, inplace=True)"
   ]
  },
  {
   "cell_type": "code",
   "execution_count": 56,
   "id": "58c3b3c8329fe919",
   "metadata": {
    "colab": {
     "base_uri": "https://localhost:8080/"
    },
    "executionInfo": {
     "elapsed": 4,
     "status": "ok",
     "timestamp": 1730740188147,
     "user": {
      "displayName": "Lana Teras",
      "userId": "04934565953456237748"
     },
     "user_tz": -120
    },
    "id": "58c3b3c8329fe919",
    "outputId": "ebf619d6-7106-4ca9-8f50-39e557c5247c",
    "ExecuteTime": {
     "end_time": "2024-11-06T16:22:05.693180Z",
     "start_time": "2024-11-06T16:22:05.690213Z"
    }
   },
   "outputs": [
    {
     "data": {
      "text/plain": "(433323, 291)"
     },
     "execution_count": 56,
     "metadata": {},
     "output_type": "execute_result"
    }
   ],
   "source": [
    "df_raw.shape"
   ]
  },
  {
   "cell_type": "markdown",
   "id": "14e6312cea80371e",
   "metadata": {
    "collapsed": false,
    "id": "14e6312cea80371e"
   },
   "source": [
    "59 columns were dropped"
   ]
  },
  {
   "cell_type": "markdown",
   "id": "eb40abe3371a6372",
   "metadata": {
    "collapsed": false,
    "id": "eb40abe3371a6372"
   },
   "source": [
    "### Drop columns that consist of NAs mostly:\n",
    "Limit of allowed NA percentage is set to less that 60%."
   ]
  },
  {
   "cell_type": "code",
   "execution_count": 57,
   "id": "77ae1d2c8058b811",
   "metadata": {
    "colab": {
     "base_uri": "https://localhost:8080/",
     "height": 458
    },
    "executionInfo": {
     "elapsed": 309,
     "status": "ok",
     "timestamp": 1730740188454,
     "user": {
      "displayName": "Lana Teras",
      "userId": "04934565953456237748"
     },
     "user_tz": -120
    },
    "id": "77ae1d2c8058b811",
    "outputId": "b1c3720a-1bdc-4970-c8f5-c1acafac35b6",
    "ExecuteTime": {
     "end_time": "2024-11-06T16:22:05.814694Z",
     "start_time": "2024-11-06T16:22:05.693027Z"
    }
   },
   "outputs": [
    {
     "data": {
      "text/plain": "ASTHNOW     368957\nDIABAGE4    373537\nPREGNANT    357115\nFALLINJ5    355584\nSMOKDAY2    274684\n             ...  \nCASTHNO2    428574\n_CRACE1     382113\nCAGEG       391398\n_FLSHOT7    262500\n_PNEUMO3    262500\nLength: 150, dtype: int64"
     },
     "execution_count": 57,
     "metadata": {},
     "output_type": "execute_result"
    }
   ],
   "source": [
    "cols_na_counts: pd.Series = df_raw.isna().sum()\n",
    "cols_prim_na: pd.Series = cols_na_counts[cols_na_counts >= df_raw.shape[0] * 0.6]\n",
    "cols_prim_na"
   ]
  },
  {
   "cell_type": "code",
   "execution_count": 58,
   "id": "4b79315d87f26e9e",
   "metadata": {
    "colab": {
     "base_uri": "https://localhost:8080/"
    },
    "executionInfo": {
     "elapsed": 326,
     "status": "ok",
     "timestamp": 1730740188776,
     "user": {
      "displayName": "Lana Teras",
      "userId": "04934565953456237748"
     },
     "user_tz": -120
    },
    "id": "4b79315d87f26e9e",
    "outputId": "a00f4976-2b7f-4dc9-e9ba-25177b0cdc70",
    "ExecuteTime": {
     "end_time": "2024-11-06T16:22:05.879756Z",
     "start_time": "2024-11-06T16:22:05.814529Z"
    }
   },
   "outputs": [
    {
     "data": {
      "text/plain": "(433323, 141)"
     },
     "execution_count": 58,
     "metadata": {},
     "output_type": "execute_result"
    }
   ],
   "source": [
    "df_raw.drop(columns=cols_prim_na.index, inplace=True)\n",
    "df_raw.shape"
   ]
  },
  {
   "cell_type": "markdown",
   "id": "2bf3803d3b2ff548",
   "metadata": {
    "collapsed": false,
    "id": "2bf3803d3b2ff548"
   },
   "source": [
    "150 columns were dropped"
   ]
  },
  {
   "cell_type": "markdown",
   "id": "59e35b5ee5c311b8",
   "metadata": {
    "collapsed": false,
    "id": "59e35b5ee5c311b8"
   },
   "source": [
    "### Drop columns with too much skewness in data:"
   ]
  },
  {
   "cell_type": "code",
   "execution_count": 59,
   "id": "30b33eeb2c05cd9f",
   "metadata": {
    "id": "30b33eeb2c05cd9f",
    "ExecuteTime": {
     "end_time": "2024-11-06T16:22:05.889364Z",
     "start_time": "2024-11-06T16:22:05.879975Z"
    }
   },
   "outputs": [],
   "source": [
    "# Made exceptions for columns in category \"Chronic Health Conditions\" or related that might be of use in the project\n",
    "cols_to_exclude = [\n",
    "    'CVDINFR4', # Ever Diagnosed with Heart Attack\n",
    "    'CVDCRHD4', # Ever Diagnosed with Angina or Coronary Heart Disease\n",
    "    'CVDSTRK3', # Ever Diagnosed with a Stroke\n",
    "    'ASTHMA3', # Ever Told Had Asthma\n",
    "    'CHCSCNC1', # (Ever told) (you had) skin cancer that is not melanoma?\n",
    "    'CHCOCNC1', # (Ever told) (you had) melanoma or any other types of cancer?\n",
    "    'CHCCOPD3', # (Ever told) (you had) C.O.P.D. (chronic obstructive pulmonary disease), emphysema or chronic bronchitis?\n",
    "    'ADDEPEV3', # (Ever told) you had a depressive disorder\n",
    "    'CHCKDNY2', # Ever told you have kidney disease?\n",
    "    'HAVARTH4', # Told Had Arthritis\n",
    "    'DIABETE4', # (Ever told) you had diabetes\n",
    "    'EXRACT12', # What type of physical activity or exercise did you spend the most time doing during the past month?\n",
    "    'DRNKANY6', # Drink any alcoholic beverages in past 30 days\n",
    "    'EXERANY2'\n",
    "]"
   ]
  },
  {
   "cell_type": "code",
   "execution_count": 60,
   "id": "991b723758cc46d4",
   "metadata": {
    "id": "991b723758cc46d4",
    "ExecuteTime": {
     "end_time": "2024-11-06T16:22:06.282063Z",
     "start_time": "2024-11-06T16:22:05.884628Z"
    }
   },
   "outputs": [],
   "source": [
    "# Also exclude calculated variables, will decide for each of them separately\n",
    "var_skewness = df_raw.loc[:, ~df_raw.columns.str.startswith('_')].drop(columns=cols_to_exclude).skew()\n",
    "df_raw.drop(columns=var_skewness[abs(var_skewness) > 1].index, inplace=True)"
   ]
  },
  {
   "cell_type": "code",
   "execution_count": 61,
   "id": "bba5d313c85137fe",
   "metadata": {
    "colab": {
     "base_uri": "https://localhost:8080/"
    },
    "executionInfo": {
     "elapsed": 10,
     "status": "ok",
     "timestamp": 1730740189482,
     "user": {
      "displayName": "Lana Teras",
      "userId": "04934565953456237748"
     },
     "user_tz": -120
    },
    "id": "bba5d313c85137fe",
    "outputId": "d6bf493e-d877-4fc3-e707-1b32fd2f188e",
    "ExecuteTime": {
     "end_time": "2024-11-06T16:22:06.284731Z",
     "start_time": "2024-11-06T16:22:06.280461Z"
    }
   },
   "outputs": [
    {
     "data": {
      "text/plain": "Index(['SEXVAR', 'GENHLTH', 'PHYSHLTH', 'MENTHLTH', 'POORHLTH', 'EXERANY2',\n       'EXRACT12', 'EXRACT22', 'STRENGTH', 'BPHIGH6', 'CVDINFR4', 'CVDCRHD4',\n       'CVDSTRK3', 'ASTHMA3', 'CHCSCNC1', 'CHCOCNC1', 'CHCCOPD3', 'ADDEPEV3',\n       'CHCKDNY2', 'HAVARTH4', 'DIABETE4', 'EDUCA', 'EMPLOY1', 'ALCDAY4',\n       'SDLONELY', 'SDHSTRE1', '_IMPRACE', '_CHISPNC', '_RFHLTH', '_PHYS14D',\n       '_MENT14D', '_HLTHPL1', '_HCVU653', '_TOTINDA', 'METVL12_', 'METVL22_',\n       'ACTIN13_', 'ACTIN23_', '_MINAC12', '_MINAC22', '_PACAT3', '_PAINDX3',\n       '_PA150R4', '_PA300R4', '_PA30023', '_PASTRNG', '_PAREC3', '_PASTAE3',\n       '_RFHYPE6', '_CHOLCH3', '_RFCHOL3', '_MICHD', '_LTASTH1', '_CASTHM1',\n       '_ASTHMS1', '_DRDXAR2', '_MRACE1', '_HISPANC', '_RACE', '_RACEG21',\n       '_RACEGR3', '_RACEPRV', '_AGEG5YR', '_AGE65YR', '_AGE80', '_AGE_G',\n       '_BMI5CAT', '_RFBMI5', '_CHLDCNT', '_EDUCAG', '_INCOMG1', '_SMOKER3',\n       '_RFSMOK3', '_CURECI2', 'DRNKANY6', '_RFBING6', '_DRNKWK2', '_RFDRHV8',\n       '_AIDTST4', '_RFSEAT2', '_RFSEAT3', '_DRNKDRV'],\n      dtype='object')"
     },
     "execution_count": 61,
     "metadata": {},
     "output_type": "execute_result"
    }
   ],
   "source": [
    "df_raw.columns"
   ]
  },
  {
   "cell_type": "markdown",
   "id": "610a9c062f934c9c",
   "metadata": {
    "collapsed": false,
    "id": "610a9c062f934c9c"
   },
   "source": [
    "Choose between calculated and original columns, drop not needed ones:"
   ]
  },
  {
   "cell_type": "code",
   "execution_count": 62,
   "id": "4fabbbaa6bbea968",
   "metadata": {
    "id": "4fabbbaa6bbea968",
    "ExecuteTime": {
     "end_time": "2024-11-06T16:22:06.340904Z",
     "start_time": "2024-11-06T16:22:06.284147Z"
    }
   },
   "outputs": [],
   "source": [
    "cols_with_replacement = [\n",
    "    '_RFHLTH',\n",
    "    '_PASTRNG',\n",
    "    '_PAREC3',\n",
    "    '_PASTAE3',\n",
    "    'BPHIGH6',\n",
    "    'CVDINFR4',\n",
    "    'CVDCRHD4',\n",
    "    'ASTHMA3',\n",
    "    '_LTASTH1',\n",
    "    '_CASTHM1',\n",
    "    'HAVARTH4',\n",
    "    'EDUCA',\n",
    "    'ALCDAY4',\n",
    "    '_CHISPNC',\n",
    "    '_RFHLTH',\n",
    "    '_HCVU653',\n",
    "    'METVL12_',\n",
    "    'METVL22_',\n",
    "    '_PAREC3',\n",
    "    '_PASTAE3',\n",
    "    '_HISPANC',\n",
    "    '_RACE',\n",
    "    '_RACEG21',\n",
    "    '_RACEGR3',\n",
    "    '_RACEPRV',\n",
    "    '_AGE65YR',\n",
    "    '_AGE80',\n",
    "    '_AGE_G',\n",
    "    '_RFBMI5',\n",
    "    '_RFSMOK3',\n",
    "    '_CURECI2',\n",
    "    '_RFSEAT2'\n",
    "]\n",
    "df_raw.drop(columns=cols_with_replacement, inplace=True)"
   ]
  },
  {
   "cell_type": "code",
   "execution_count": 63,
   "id": "1419dc1de8d8d6a6",
   "metadata": {
    "colab": {
     "base_uri": "https://localhost:8080/"
    },
    "executionInfo": {
     "elapsed": 8,
     "status": "ok",
     "timestamp": 1730740189482,
     "user": {
      "displayName": "Lana Teras",
      "userId": "04934565953456237748"
     },
     "user_tz": -120
    },
    "id": "1419dc1de8d8d6a6",
    "outputId": "d8ed086c-e5c0-4fda-bbbc-9e2b3b1bb77a",
    "ExecuteTime": {
     "end_time": "2024-11-06T16:22:06.353004Z",
     "start_time": "2024-11-06T16:22:06.320906Z"
    }
   },
   "outputs": [
    {
     "data": {
      "text/plain": "Index(['SEXVAR', 'GENHLTH', 'PHYSHLTH', 'MENTHLTH', 'POORHLTH', 'EXERANY2',\n       'EXRACT12', 'EXRACT22', 'STRENGTH', 'CVDSTRK3', 'CHCSCNC1', 'CHCOCNC1',\n       'CHCCOPD3', 'ADDEPEV3', 'CHCKDNY2', 'DIABETE4', 'EMPLOY1', 'SDLONELY',\n       'SDHSTRE1', '_IMPRACE', '_PHYS14D', '_MENT14D', '_HLTHPL1', '_TOTINDA',\n       'ACTIN13_', 'ACTIN23_', '_MINAC12', '_MINAC22', '_PACAT3', '_PAINDX3',\n       '_PA150R4', '_PA300R4', '_PA30023', '_RFHYPE6', '_CHOLCH3', '_RFCHOL3',\n       '_MICHD', '_ASTHMS1', '_DRDXAR2', '_MRACE1', '_AGEG5YR', '_BMI5CAT',\n       '_CHLDCNT', '_EDUCAG', '_INCOMG1', '_SMOKER3', 'DRNKANY6', '_RFBING6',\n       '_DRNKWK2', '_RFDRHV8', '_AIDTST4', '_RFSEAT3', '_DRNKDRV'],\n      dtype='object')"
     },
     "execution_count": 63,
     "metadata": {},
     "output_type": "execute_result"
    }
   ],
   "source": [
    "df_raw.columns"
   ]
  },
  {
   "cell_type": "markdown",
   "id": "eb7253fe59c59901",
   "metadata": {
    "collapsed": false,
    "id": "eb7253fe59c59901"
   },
   "source": [
    "Remaining columns and their descriptions:\n",
    "\n",
    "- SEXVAR: Sex of Respondent\n",
    "- _AGEG5YR: \"Reported age in five-year age categories calculated variable\"\n",
    "- _IMPRACE: \"Imputed race/ethnicity value\"\n",
    "- _MRACE1: \"Calculated non-Hispanic Race including multiracial\"\n",
    "- _EDUCAG: \"Computed level of education completed categories\"\n",
    "- EMPLOY1: \"Employment Status\"\n",
    "- _INCOMG1: \"Computed income categories\"\n",
    "- _HLTHPL1: \"Have any health insurance\"\n",
    "\n",
    "\n",
    "Health\n",
    "- GENHLTH: General health status\n",
    "- PHYSHLTH: Number of Days Physical Health Not Good\n",
    "- MENTHLTH: Number of Days Mental Health Not Good\n",
    "- POORHLTH: \"During the past 30 days, for about how many days did poor physical or mental health keep you from doing your usual activities, such as self-care, work, or recreation?\"\n",
    "\n",
    "Diseases\n",
    "- CVDSTRK3: \"Ever Diagnosed with a Stroke\"\n",
    "- CHCSCNC1: \"(Ever told) (you had) skin cancer that is not melanoma?\"\n",
    "- CHCOCNC1: \"(Ever told) (you had)  melanoma or any other types of cancer?\"\n",
    "- CHCCOPD3: \"Ever told you had C.O.P.D. emphysema or chronic bronchitis?\"\n",
    "- CHCKDNY2: \"Ever told you have kidney disease?\"\n",
    "- DIABETE4: \"(Ever told) you had diabetes\"\n",
    "- _RFHYPE6: \"High Blood Pressure Calculated Variable\"\n",
    "- _CHOLCH3: \"Cholesterol Checked Calculated Variable\"\n",
    "- _RFCHOL3: \"High Cholesterol Calculated Variable\"\n",
    "- _MICHD: \"Ever had CHD or MI\"\n",
    "- _ASTHMS1: \"Computed Asthma Status\"\n",
    "- _DRDXAR2: \"Respondents diagnosed with arthritis\"\n",
    "- _BMI5CAT: \"Computed body mass index categories\"\n",
    "\n",
    "Mental Health\n",
    "- ADDEPEV3: \"(Ever told) you had a depressive disorder\"\n",
    "- _MENT14D: \"Computed Mental Health Status\"\n",
    "- SDLONELY: \"How often do you feel lonely?\"\n",
    "- SDHSTRE1: \"How often have you felt this kind of stress?\"\n",
    "\n",
    "\n",
    "Physical Activity\n",
    "- EXERANY2: \"Exercise in Past 30 Days\"\n",
    "- EXRACT12: \"What type of physical activity or exercise did you spend the most time doing during the past month?\"\n",
    "- EXRACT22: \"What other type of physical activity gave you the next most exercise during the past month?\"\n",
    "- STRENGTH: \"How many times did you do physical activities or exercises to STRENGTHEN your muscles?\"\n",
    "- _PHYS14D: \"Computed Physical Health Status\"\n",
    "- _TOTINDA: \"Leisure Time Physical Activity Calculated Variable\"\n",
    "- ACTIN13_: \"Estimated Activity Intensity for First Activity\"\n",
    "- ACTIN23_: \"Estimated Activity Intensity for Second Activity\"\n",
    "- _MINAC12: \"Minutes of Physical Activity per week for First Activity\"\n",
    "- _MINAC22: \"Minutes of Physical Activity per week for Second Activity\"\n",
    "- _PACAT3: \"Physical Activity Categories\"\n",
    "- _PAINDX3: \"Physical Activity Index\"\n",
    "- _PA150R4: \"150 Minute Physical Activity Calculated Variable\"\n",
    "- _PA300R4: \"300 Minute Physical Activity Calculated Variable\"\n",
    "- _PA30023: \"300 Minute Physical Activity 2-Level Calculated Variable\"\n",
    "\n",
    "Alcohol\n",
    "- DRNKANY6: \"Drink any alcoholic beverages in past 30 days\"\n",
    "- _RFBING6: \"Binge Drinking Calculated Variable\"\n",
    "- _DRNKWK2: \"Computed number of drinks of alcohol beverages per week\"\n",
    "- _DRNKDRV: \"Drinking and Driving\"\n",
    "- _RFDRHV8: \"Heavy Alcohol Consumption  Calculated Variable\"\n",
    "\n",
    "Other\n",
    "- _SMOKER3: \"Computed Smoking Status\"\n",
    "- _RFSEAT3: \"Always Wear Seat Belts\"\n",
    "- _AIDTST4: \"Ever been tested for HIV calculated variable\"\n",
    "- _CHLDCNT: \"Computed number of children in household\"\n",
    "\n",
    "\n",
    "\n"
   ]
  },
  {
   "cell_type": "code",
   "execution_count": 63,
   "id": "_CGsmmmTON4_",
   "metadata": {
    "id": "_CGsmmmTON4_",
    "ExecuteTime": {
     "end_time": "2024-11-06T16:22:06.353152Z",
     "start_time": "2024-11-06T16:22:06.323197Z"
    }
   },
   "outputs": [],
   "source": []
  },
  {
   "cell_type": "markdown",
   "id": "E0FDDrGDNCrV",
   "metadata": {
    "id": "E0FDDrGDNCrV"
   },
   "source": [
    "\n",
    "\n",
    "*   _IMPRACE: \"Imputed race/ethnicity value\" vs _MRACE1: \"Calculated non-Hispanic Race including multiracial\" - если надо много переменныех то второе, если хватит белый, черный и т.д., то первое\n",
    "* MENTHLTH: Number of Days Mental Health Not Good vs _MENT14D: \"Computed Mental Health Status\" - первое это численное значение с плохими днями, второе это уже категорияльное с 0, 1-13 и 14+ плохих дней\n",
    "* ASTHMA3: \"Ever Told Had Asthma\" vs _ASTHMS1: \"Computed Asthma Status\" - лучше взять только вторую\n",
    "* CHCSCNC1: \"(Ever told) (you had) skin cancer that is not melanoma?\" vs CHCOCNC1: \"(Ever told) (you had)  melanoma or any other types of cancer?\" - их я бы объеденила\n",
    "* _CHOLCH3: \"Cholesterol Checked Calculated Variable\" vs _RFCHOL3: \"High Cholesterol Calculated Variable\" - оставить только вторую\n",
    "\n",
    "*   из всей физ активности оставить только EXERANY2: \"Exercise in Past 30 Days\", _PHYS14D: \"Computed Physical Health Status\", _PACAT3: \"Physical Activity Categories\"\n",
    "\n",
    "\n",
    "\n"
   ]
  },
  {
   "cell_type": "markdown",
   "source": [
    "### Leave only columns that are related to the research topic\n",
    "All remaining columns were analyzed and carefully filtered for data duplication "
   ],
   "metadata": {
    "collapsed": false
   },
   "id": "f6d59637bf404b6b"
  },
  {
   "cell_type": "code",
   "execution_count": 119,
   "outputs": [
    {
     "name": "stdout",
     "output_type": "stream",
     "text": [
      "<class 'pandas.core.frame.DataFrame'>\n",
      "RangeIndex: 433323 entries, 0 to 433322\n",
      "Data columns (total 28 columns):\n",
      " #   Column    Non-Null Count   Dtype  \n",
      "---  ------    --------------   -----  \n",
      " 0   _AGEG5YR  433323 non-null  float64\n",
      " 1   _ASTHMS1  433323 non-null  float64\n",
      " 2   _BMI5CAT  392788 non-null  float64\n",
      " 3   _CHLDCNT  433323 non-null  float64\n",
      " 4   _DRDXAR2  430763 non-null  float64\n",
      " 5   _EDUCAG   433323 non-null  float64\n",
      " 6   _IMPRACE  433323 non-null  float64\n",
      " 7   _INCOMG1  433323 non-null  float64\n",
      " 8   _MENT14D  433323 non-null  float64\n",
      " 9   _MICHD    428738 non-null  float64\n",
      " 10  _PHYS14D  433323 non-null  float64\n",
      " 11  _RFCHOL3  381512 non-null  float64\n",
      " 12  _RFHYPE6  433323 non-null  float64\n",
      " 13  _SMOKER3  433323 non-null  float64\n",
      " 14  ADDEPEV3  433320 non-null  float64\n",
      " 15  CHCCOPD3  433320 non-null  float64\n",
      " 16  CHCKDNY2  433320 non-null  float64\n",
      " 17  CHCOCNC1  433320 non-null  float64\n",
      " 18  CHCSCNC1  433320 non-null  float64\n",
      " 19  CVDSTRK3  433319 non-null  float64\n",
      " 20  DIABETE4  433318 non-null  float64\n",
      " 21  GENHLTH   433319 non-null  float64\n",
      " 22  POORHLTH  252170 non-null  float64\n",
      " 23  SDHSTRE1  223493 non-null  float64\n",
      " 24  SDLONELY  225998 non-null  float64\n",
      " 25  SEXVAR    433323 non-null  float64\n",
      " 26  _DRNKWK2  433323 non-null  float64\n",
      " 27  _TOTINDA  433323 non-null  float64\n",
      "dtypes: float64(28)\n",
      "memory usage: 92.6 MB\n"
     ]
    }
   ],
   "source": [
    "df = df_raw[['_AGEG5YR', '_ASTHMS1', '_BMI5CAT', '_CHLDCNT', '_DRDXAR2', '_EDUCAG', '_IMPRACE', '_INCOMG1', '_MENT14D', '_MICHD', '_PHYS14D', '_RFCHOL3', '_RFHYPE6', '_SMOKER3', 'ADDEPEV3', 'CHCCOPD3', 'CHCKDNY2', 'CHCOCNC1', 'CHCSCNC1', 'CVDSTRK3', 'DIABETE4', 'GENHLTH', 'POORHLTH', 'SDHSTRE1', 'SDLONELY', 'SEXVAR', '_DRNKWK2', '_TOTINDA']].copy()\n",
    "df.info()"
   ],
   "metadata": {
    "collapsed": false,
    "ExecuteTime": {
     "end_time": "2024-11-06T16:27:19.118549Z",
     "start_time": "2024-11-06T16:27:18.897891Z"
    }
   },
   "id": "102e6823aaa8937a"
  },
  {
   "cell_type": "markdown",
   "source": [
    "### Drop rows with NA"
   ],
   "metadata": {
    "collapsed": false
   },
   "id": "9cff3222ce6c6d04"
  },
  {
   "cell_type": "code",
   "execution_count": 120,
   "outputs": [
    {
     "data": {
      "text/plain": "(105257, 28)"
     },
     "execution_count": 120,
     "metadata": {},
     "output_type": "execute_result"
    }
   ],
   "source": [
    "df.dropna(inplace=True)\n",
    "df.shape"
   ],
   "metadata": {
    "collapsed": false,
    "ExecuteTime": {
     "end_time": "2024-11-06T16:27:19.121154Z",
     "start_time": "2024-11-06T16:27:19.010235Z"
    }
   },
   "id": "6385cdf75e7115f4"
  },
  {
   "cell_type": "markdown",
   "source": [
    "## Data formatting"
   ],
   "metadata": {
    "collapsed": false
   },
   "id": "5bb6173f907caced"
  },
  {
   "cell_type": "markdown",
   "source": [
    "### Replace initial values with meaningful categories"
   ],
   "metadata": {
    "collapsed": false
   },
   "id": "339f1d1b70349b95"
  },
  {
   "cell_type": "code",
   "source": [
    "df['_DRNKWK21'] = df['_DRNKWK2'].apply(lambda x: 'No' if x < 0.99 else 'Yes')\n",
    "df.drop(['_DRNKWK2'], axis=1, inplace=True)"
   ],
   "metadata": {
    "id": "yQkxH2c3uADG",
    "executionInfo": {
     "status": "ok",
     "timestamp": 1730751378125,
     "user_tz": -120,
     "elapsed": 4158,
     "user": {
      "displayName": "Lana Teras",
      "userId": "04934565953456237748"
     }
    },
    "ExecuteTime": {
     "end_time": "2024-11-06T16:27:19.121218Z",
     "start_time": "2024-11-06T16:27:19.028128Z"
    }
   },
   "id": "yQkxH2c3uADG",
   "execution_count": 121,
   "outputs": []
  },
  {
   "cell_type": "code",
   "execution_count": 122,
   "id": "e7c36bc2f1953e7e",
   "metadata": {
    "id": "_wV5INhEuJGL",
    "executionInfo": {
     "status": "ok",
     "timestamp": 1730751382426,
     "user_tz": -120,
     "elapsed": 3585,
     "user": {
      "displayName": "Lana Teras",
      "userId": "04934565953456237748"
     }
    },
    "ExecuteTime": {
     "end_time": "2024-11-06T16:27:19.121256Z",
     "start_time": "2024-11-06T16:27:19.048518Z"
    }
   },
   "outputs": [],
   "source": [
    "sex_col = {\n",
    "          1: 'Male',\n",
    "          2: 'Female'\n",
    "          }\n",
    "df['SEXVAR'] = df['SEXVAR'].replace(sex_col)"
   ]
  },
  {
   "cell_type": "code",
   "execution_count": 123,
   "outputs": [],
   "source": [
    "hlth_col = {\n",
    "          1: 'Excellent',\n",
    "          2: 'Very good',\n",
    "          3: 'Good',\n",
    "          4: 'Fair',\n",
    "          5: 'Poor'\n",
    "          }\n",
    "df['GENHLTH'] = df['GENHLTH'].replace(hlth_col)"
   ],
   "metadata": {
    "collapsed": false,
    "ExecuteTime": {
     "end_time": "2024-11-06T16:27:19.121292Z",
     "start_time": "2024-11-06T16:27:19.061531Z"
    }
   },
   "id": "a2332dbd33966ecb"
  },
  {
   "cell_type": "code",
   "execution_count": 124,
   "outputs": [],
   "source": [
    "phlth_col = {\n",
    "          88: 'None'\n",
    "          }\n",
    "df['POORHLTH'] = df['POORHLTH'].replace(phlth_col)"
   ],
   "metadata": {
    "collapsed": false,
    "ExecuteTime": {
     "end_time": "2024-11-06T16:27:19.121327Z",
     "start_time": "2024-11-06T16:27:19.070926Z"
    }
   },
   "id": "909879cb2d985622"
  },
  {
   "cell_type": "code",
   "execution_count": 125,
   "outputs": [],
   "source": [
    "exer_col = {\n",
    "          1: 'Yes',\n",
    "          2: 'No'\n",
    "          }\n",
    "df['CVDSTRK3'] = df['CVDSTRK3'].replace(exer_col)\n",
    "df['CHCCOPD3'] = df['CHCCOPD3'].replace(exer_col)\n",
    "df['ADDEPEV3'] = df['ADDEPEV3'].replace(exer_col)\n",
    "df['CHCKDNY2'] = df['CHCKDNY2'].replace(exer_col)\n",
    "df['_MICHD'] = df['_MICHD'].replace(exer_col)\n",
    "df['_DRDXAR2'] = df['_DRDXAR2'].replace(exer_col)\n",
    "df['_TOTINDA'] = df['_TOTINDA'].replace(exer_col)\n",
    "df['CHCSCNC1'] = df['CHCSCNC1'].replace(exer_col)\n",
    "df['CHCOCNC1'] = df['CHCOCNC1'].replace(exer_col)"
   ],
   "metadata": {
    "collapsed": false,
    "ExecuteTime": {
     "end_time": "2024-11-06T16:27:19.122207Z",
     "start_time": "2024-11-06T16:27:19.076676Z"
    }
   },
   "id": "3359b6727ea90386"
  },
  {
   "cell_type": "code",
   "execution_count": 126,
   "outputs": [],
   "source": [
    "diabete_col = {\n",
    "          1: 'Yes',\n",
    "          2: 'Yes',\n",
    "          3: 'No',\n",
    "          4: 'Yes'\n",
    "          }\n",
    "df['DIABETE4'] = df['DIABETE4'].replace(diabete_col)"
   ],
   "metadata": {
    "collapsed": false,
    "ExecuteTime": {
     "end_time": "2024-11-06T16:27:19.136392Z",
     "start_time": "2024-11-06T16:27:19.120816Z"
    }
   },
   "id": "cce6e46e60587bfe"
  },
  {
   "cell_type": "code",
   "execution_count": 127,
   "outputs": [],
   "source": [
    "bmi_col = {\n",
    "          1: '77',\n",
    "          2: 'Normal Weight',\n",
    "          3: 'Overweight',\n",
    "          4: 'Obese'\n",
    "          }\n",
    "df['_BMI5CAT'] = df['_BMI5CAT'].replace(bmi_col)"
   ],
   "metadata": {
    "collapsed": false,
    "ExecuteTime": {
     "end_time": "2024-11-06T16:27:19.180538Z",
     "start_time": "2024-11-06T16:27:19.129619Z"
    }
   },
   "id": "584e7fdc53f117c0"
  },
  {
   "cell_type": "code",
   "execution_count": 128,
   "outputs": [],
   "source": [
    "sad_col = {\n",
    "          1: 'Always',\n",
    "          2: 'Usually',\n",
    "          3: 'Sometimes',\n",
    "          4: 'Rarely',\n",
    "          5: 'Never'\n",
    "          }\n",
    "df['SDLONELY'] = df['SDLONELY'].replace(sad_col)\n",
    "df['SDHSTRE1'] = df['SDHSTRE1'].replace(sad_col)"
   ],
   "metadata": {
    "collapsed": false,
    "ExecuteTime": {
     "end_time": "2024-11-06T16:27:19.188165Z",
     "start_time": "2024-11-06T16:27:19.141602Z"
    }
   },
   "id": "be271d1532d764df"
  },
  {
   "cell_type": "code",
   "execution_count": 129,
   "outputs": [],
   "source": [
    "race_col = {\n",
    "          1: 'White',\n",
    "          2: 'Other',\n",
    "          3: 'Other',\n",
    "          4: 'Other',\n",
    "          5: 'Other',\n",
    "          6: 'Other'\n",
    "          }\n",
    "df['_IMPRACE'] = df['_IMPRACE'].replace(race_col)"
   ],
   "metadata": {
    "collapsed": false,
    "ExecuteTime": {
     "end_time": "2024-11-06T16:27:19.188384Z",
     "start_time": "2024-11-06T16:27:19.160443Z"
    }
   },
   "id": "c3daee35ba2da11b"
  },
  {
   "cell_type": "code",
   "execution_count": 130,
   "outputs": [],
   "source": [
    "phy_col = {\n",
    "          1: 'Zero days',\n",
    "          2: '1-13 days',\n",
    "          3: '\t14+ days'\n",
    "          }\n",
    "df['_PHYS14D'] = df['_PHYS14D'].replace(phy_col)\n",
    "df['_MENT14D'] = df['_MENT14D'].replace(phy_col)"
   ],
   "metadata": {
    "collapsed": false,
    "ExecuteTime": {
     "end_time": "2024-11-06T16:27:19.189118Z",
     "start_time": "2024-11-06T16:27:19.170936Z"
    }
   },
   "id": "28f76dd6fd07a93f"
  },
  {
   "cell_type": "code",
   "execution_count": 131,
   "outputs": [],
   "source": [
    "hbp_col = {\n",
    "          1: 'No',\n",
    "          2: 'Yes'\n",
    "          }\n",
    "df['_RFHYPE6'] = df['_RFHYPE6'].replace(hbp_col)\n",
    "df['_RFCHOL3'] = df['_RFCHOL3'].replace(hbp_col)"
   ],
   "metadata": {
    "collapsed": false,
    "ExecuteTime": {
     "end_time": "2024-11-06T16:27:19.199494Z",
     "start_time": "2024-11-06T16:27:19.185788Z"
    }
   },
   "id": "440b548c642c0528"
  },
  {
   "cell_type": "code",
   "execution_count": 132,
   "outputs": [],
   "source": [
    "ast_col = {\n",
    "          1: 'Yes',\n",
    "          2: 'Yes',\n",
    "          3: 'No'\n",
    "          }\n",
    "df['_ASTHMS1'] = df['_ASTHMS1'].replace(ast_col)"
   ],
   "metadata": {
    "collapsed": false,
    "ExecuteTime": {
     "end_time": "2024-11-06T16:27:19.209686Z",
     "start_time": "2024-11-06T16:27:19.199916Z"
    }
   },
   "id": "8e0e343893b3a49d"
  },
  {
   "cell_type": "code",
   "execution_count": 133,
   "outputs": [],
   "source": [
    "age_col = {\n",
    "          1: 'Age 18 to 29',\n",
    "          2: 'Age 18 to 29',\n",
    "          3: 'Age 30 to 39',\n",
    "          4: 'Age 30 to 39',\n",
    "          5: 'Age 40 to 49',\n",
    "          6: 'Age 40 to 49',\n",
    "          7: 'Age 50 to 59',\n",
    "          8: 'Age 50 to 59',\n",
    "          9: 'Age 60 to 69',\n",
    "          10: 'Age 60 to 69',\n",
    "          11: 'Age 70+',\n",
    "          12: 'Age 70+',\n",
    "          13: 'Age 70+',\n",
    "          14: '7'\n",
    "          }\n",
    "df['_AGEG5YR'] = df['_AGEG5YR'].replace(age_col)"
   ],
   "metadata": {
    "collapsed": false,
    "ExecuteTime": {
     "end_time": "2024-11-06T16:27:19.225677Z",
     "start_time": "2024-11-06T16:27:19.208693Z"
    }
   },
   "id": "b704cf1547b05281"
  },
  {
   "cell_type": "code",
   "execution_count": 134,
   "outputs": [],
   "source": [
    "chld_col = {\n",
    "          1: 'No',\n",
    "          2: 'Yes',\n",
    "          3: 'Yes',\n",
    "          4: 'Yes',\n",
    "          5: 'Yes',\n",
    "          6: 'Yes'\n",
    "          }\n",
    "df['_CHLDCNT'] = df['_CHLDCNT'].replace(chld_col)"
   ],
   "metadata": {
    "collapsed": false,
    "ExecuteTime": {
     "end_time": "2024-11-06T16:27:19.243878Z",
     "start_time": "2024-11-06T16:27:19.226063Z"
    }
   },
   "id": "d87032797107f5dc"
  },
  {
   "cell_type": "code",
   "execution_count": 135,
   "outputs": [],
   "source": [
    "edu_col = {\n",
    "          1: 'No',\n",
    "          2: 'High School',\n",
    "          3: 'Attended College',\n",
    "          4: 'College or Technical School'\n",
    "          }\n",
    "df['_EDUCAG'] = df['_EDUCAG'].replace(edu_col)"
   ],
   "metadata": {
    "collapsed": false,
    "ExecuteTime": {
     "end_time": "2024-11-06T16:27:19.248540Z",
     "start_time": "2024-11-06T16:27:19.237303Z"
    }
   },
   "id": "2558b4264221cbd3"
  },
  {
   "cell_type": "code",
   "execution_count": 136,
   "outputs": [],
   "source": [
    "smoker_col = {\n",
    "          1: 'Yes',\n",
    "          2: 'Yes',\n",
    "          3: 'Yes',\n",
    "          4: 'No'\n",
    "          }\n",
    "df['_SMOKER3'] = df['_SMOKER3'].replace(smoker_col)"
   ],
   "metadata": {
    "collapsed": false,
    "ExecuteTime": {
     "end_time": "2024-11-06T16:27:19.264110Z",
     "start_time": "2024-11-06T16:27:19.248176Z"
    }
   },
   "id": "c4871e80ca8901fa"
  },
  {
   "cell_type": "code",
   "execution_count": 137,
   "outputs": [],
   "source": [
    "inc_col = {\n",
    "          1: 'Less than $15,000',\n",
    "          2: '$15,000 to < $25,000',\n",
    "          3: '$25,000 to < $35,000',\n",
    "          4: '$35,000 to < $50,000',\n",
    "          5: '$50,000 to < $100,000',\n",
    "          6: '$100,000 to < $200,00',\n",
    "          7: '$200,000+',\n",
    "          9: '77'\n",
    "          }\n",
    "df['_INCOMG1'] = df['_INCOMG1'].replace(inc_col)"
   ],
   "metadata": {
    "collapsed": false,
    "ExecuteTime": {
     "end_time": "2024-11-06T16:27:19.274266Z",
     "start_time": "2024-11-06T16:27:19.258145Z"
    }
   },
   "id": "c6aca87c97ad0aba"
  },
  {
   "cell_type": "code",
   "execution_count": 138,
   "outputs": [],
   "source": [
    "df = df[~df[['GENHLTH', 'CVDSTRK3', 'CHCSCNC1', 'CHCOCNC1', 'CHCCOPD3', 'ADDEPEV3', 'CHCKDNY2', 'DIABETE4', 'SDLONELY', 'SDHSTRE1', '_PHYS14D', '_MENT14D', '_RFHYPE6', '_RFCHOL3', '_MICHD', '_ASTHMS1', '_AGEG5YR', '_CHLDCNT', '_EDUCAG', '_SMOKER3', '_TOTINDA']].isin([7, 9, '7']).any(axis=1)]\n",
    "df = df[~df[['POORHLTH', '_BMI5CAT', '_INCOMG1']].isin([77, 99, '77']).any(axis=1)]"
   ],
   "metadata": {
    "collapsed": false,
    "ExecuteTime": {
     "end_time": "2024-11-06T16:27:19.385569Z",
     "start_time": "2024-11-06T16:27:19.271081Z"
    }
   },
   "id": "_wV5INhEuJGL"
  },
  {
   "cell_type": "code",
   "source": [
    "df['CHCSCNC'] = np.where((df['CHCSCNC1'] == 'Yes') | (df['CHCOCNC1'] == 'Yes'), 'Yes', 'No')\n",
    "df.drop(['CHCSCNC1', 'CHCOCNC1'], axis=1, inplace=True)"
   ],
   "metadata": {
    "id": "b_y6LnxGxaVy",
    "executionInfo": {
     "status": "ok",
     "timestamp": 1730751394512,
     "user_tz": -120,
     "elapsed": 311,
     "user": {
      "displayName": "Lana Teras",
      "userId": "04934565953456237748"
     }
    },
    "ExecuteTime": {
     "end_time": "2024-11-06T16:27:19.415699Z",
     "start_time": "2024-11-06T16:27:19.390389Z"
    }
   },
   "id": "b_y6LnxGxaVy",
   "execution_count": 139,
   "outputs": []
  },
  {
   "cell_type": "markdown",
   "source": [
    "### Set all variables categorical"
   ],
   "metadata": {
    "collapsed": false
   },
   "id": "9b60ac3ff4b98013"
  },
  {
   "cell_type": "code",
   "execution_count": 140,
   "outputs": [],
   "source": [
    "df = df.astype('category')"
   ],
   "metadata": {
    "collapsed": false,
    "ExecuteTime": {
     "end_time": "2024-11-06T16:27:19.480516Z",
     "start_time": "2024-11-06T16:27:19.416142Z"
    }
   },
   "id": "e5936d792816ac03"
  },
  {
   "cell_type": "code",
   "source": [
    "for column in df.select_dtypes(include='category').columns:\n",
    "    print(df[column].astype(str).value_counts().sort_index())\n",
    "    print()"
   ],
   "metadata": {
    "colab": {
     "base_uri": "https://localhost:8080/"
    },
    "id": "8-Lp2kZMo67p",
    "executionInfo": {
     "status": "ok",
     "timestamp": 1730751584363,
     "user_tz": -120,
     "elapsed": 582,
     "user": {
      "displayName": "Lana Teras",
      "userId": "04934565953456237748"
     }
    },
    "outputId": "d6b563c1-85be-4f8f-df02-447840a06bd5",
    "ExecuteTime": {
     "end_time": "2024-11-06T16:27:19.679808Z",
     "start_time": "2024-11-06T16:27:19.481145Z"
    }
   },
   "id": "8-Lp2kZMo67p",
   "execution_count": 141,
   "outputs": [
    {
     "name": "stdout",
     "output_type": "stream",
     "text": [
      "_AGEG5YR\n",
      "Age 18 to 29     6577\n",
      "Age 30 to 39    10610\n",
      "Age 40 to 49    12229\n",
      "Age 50 to 59    14513\n",
      "Age 60 to 69    17300\n",
      "Age 70+         18645\n",
      "Name: count, dtype: int64\n",
      "\n",
      "_ASTHMS1\n",
      "No     65202\n",
      "Yes    14672\n",
      "Name: count, dtype: int64\n",
      "\n",
      "_BMI5CAT\n",
      "Normal Weight    21128\n",
      "Obese            31395\n",
      "Overweight       27351\n",
      "Name: count, dtype: int64\n",
      "\n",
      "_CHLDCNT\n",
      "No     58392\n",
      "Yes    21482\n",
      "Name: count, dtype: int64\n",
      "\n",
      "_DRDXAR2\n",
      "No     48037\n",
      "Yes    31837\n",
      "Name: count, dtype: int64\n",
      "\n",
      "_EDUCAG\n",
      "Attended College               22328\n",
      "College or Technical School    37222\n",
      "High School                    17027\n",
      "No                              3297\n",
      "Name: count, dtype: int64\n",
      "\n",
      "_IMPRACE\n",
      "Other    19301\n",
      "White    60573\n",
      "Name: count, dtype: int64\n",
      "\n",
      "_INCOMG1\n",
      "$100,000 to < $200,00    17638\n",
      "$15,000 to < $25,000      7370\n",
      "$200,000+                 5877\n",
      "$25,000 to < $35,000      8673\n",
      "$35,000 to < $50,000     10724\n",
      "$50,000 to < $100,000    24916\n",
      "Less than $15,000         4676\n",
      "Name: count, dtype: int64\n",
      "\n",
      "_MENT14D\n",
      "\\t14+ days    17564\n",
      "1-13 days     37189\n",
      "Zero days     25121\n",
      "Name: count, dtype: int64\n",
      "\n",
      "_MICHD\n",
      "No     71883\n",
      "Yes     7991\n",
      "Name: count, dtype: int64\n",
      "\n",
      "_PHYS14D\n",
      "\\t14+ days    18843\n",
      "1-13 days     36615\n",
      "Zero days     24416\n",
      "Name: count, dtype: int64\n",
      "\n",
      "_RFCHOL3\n",
      "No     44497\n",
      "Yes    35377\n",
      "Name: count, dtype: int64\n",
      "\n",
      "_RFHYPE6\n",
      "No     44054\n",
      "Yes    35820\n",
      "Name: count, dtype: int64\n",
      "\n",
      "_SMOKER3\n",
      "No     46771\n",
      "Yes    33103\n",
      "Name: count, dtype: int64\n",
      "\n",
      "ADDEPEV3\n",
      "No     54685\n",
      "Yes    25189\n",
      "Name: count, dtype: int64\n",
      "\n",
      "CHCCOPD3\n",
      "No     72005\n",
      "Yes     7869\n",
      "Name: count, dtype: int64\n",
      "\n",
      "CHCKDNY2\n",
      "No     75009\n",
      "Yes     4865\n",
      "Name: count, dtype: int64\n",
      "\n",
      "CVDSTRK3\n",
      "No     75821\n",
      "Yes     4053\n",
      "Name: count, dtype: int64\n",
      "\n",
      "DIABETE4\n",
      "No     63811\n",
      "Yes    16063\n",
      "Name: count, dtype: int64\n",
      "\n",
      "GENHLTH\n",
      "Excellent     7243\n",
      "Fair         15605\n",
      "Good         27244\n",
      "Poor          5658\n",
      "Very good    24124\n",
      "Name: count, dtype: int64\n",
      "\n",
      "POORHLTH\n",
      "1.0      4040\n",
      "10.0     3021\n",
      "11.0       23\n",
      "12.0      306\n",
      "13.0       45\n",
      "14.0      871\n",
      "15.0     3083\n",
      "16.0       60\n",
      "17.0       41\n",
      "18.0       70\n",
      "19.0       17\n",
      "2.0      5167\n",
      "20.0     1867\n",
      "21.0      242\n",
      "22.0       42\n",
      "23.0       33\n",
      "24.0       23\n",
      "25.0      682\n",
      "26.0       19\n",
      "27.0       31\n",
      "28.0      139\n",
      "29.0       46\n",
      "3.0      3398\n",
      "30.0     5984\n",
      "4.0      1870\n",
      "5.0      3994\n",
      "6.0       621\n",
      "7.0      1878\n",
      "8.0       442\n",
      "9.0        82\n",
      "None    41737\n",
      "Name: count, dtype: int64\n",
      "\n",
      "SDHSTRE1\n",
      "Always        5533\n",
      "Never        19356\n",
      "Rarely       23080\n",
      "Sometimes    23715\n",
      "Usually       8190\n",
      "Name: count, dtype: int64\n",
      "\n",
      "SDLONELY\n",
      "Always        2488\n",
      "Never        23306\n",
      "Rarely       27292\n",
      "Sometimes    22956\n",
      "Usually       3832\n",
      "Name: count, dtype: int64\n",
      "\n",
      "SEXVAR\n",
      "Female    45320\n",
      "Male      34554\n",
      "Name: count, dtype: int64\n",
      "\n",
      "_TOTINDA\n",
      "No     20969\n",
      "Yes    58905\n",
      "Name: count, dtype: int64\n",
      "\n",
      "_DRNKWK21\n",
      "No     36394\n",
      "Yes    43480\n",
      "Name: count, dtype: int64\n",
      "\n",
      "CHCSCNC\n",
      "No     65307\n",
      "Yes    14567\n",
      "Name: count, dtype: int64\n"
     ]
    }
   ]
  },
  {
   "cell_type": "markdown",
   "source": [],
   "metadata": {
    "collapsed": false
   },
   "id": "a48c87c8260f9290"
  },
  {
   "cell_type": "code",
   "execution_count": 142,
   "id": "sh4FCbdktVQn",
   "metadata": {
    "colab": {
     "base_uri": "https://localhost:8080/"
    },
    "executionInfo": {
     "elapsed": 338,
     "status": "ok",
     "timestamp": 1730751579890,
     "user": {
      "displayName": "Lana Teras",
      "userId": "04934565953456237748"
     },
     "user_tz": -120
    },
    "id": "sh4FCbdktVQn",
    "outputId": "b733f864-d62b-4f80-c36c-fa8f086baca7",
    "ExecuteTime": {
     "end_time": "2024-11-06T16:27:19.681715Z",
     "start_time": "2024-11-06T16:27:19.679700Z"
    }
   },
   "outputs": [
    {
     "data": {
      "text/plain": "(79874, 27)"
     },
     "execution_count": 142,
     "metadata": {},
     "output_type": "execute_result"
    }
   ],
   "source": [
    "df.shape"
   ]
  },
  {
   "cell_type": "code",
   "source": [
    "for column in df.select_dtypes(include='category').columns:\n",
    "    print(df[column].astype(str).value_counts().sort_index())\n",
    "    print()"
   ],
   "metadata": {
    "id": "gPFJBJRR1XgG",
    "ExecuteTime": {
     "end_time": "2024-11-06T16:27:19.881283Z",
     "start_time": "2024-11-06T16:27:19.682639Z"
    }
   },
   "id": "gPFJBJRR1XgG",
   "execution_count": 143,
   "outputs": [
    {
     "name": "stdout",
     "output_type": "stream",
     "text": [
      "_AGEG5YR\n",
      "Age 18 to 29     6577\n",
      "Age 30 to 39    10610\n",
      "Age 40 to 49    12229\n",
      "Age 50 to 59    14513\n",
      "Age 60 to 69    17300\n",
      "Age 70+         18645\n",
      "Name: count, dtype: int64\n",
      "_ASTHMS1\n",
      "No     65202\n",
      "Yes    14672\n",
      "Name: count, dtype: int64\n",
      "\n",
      "_BMI5CAT\n",
      "Normal Weight    21128\n",
      "Obese            31395\n",
      "Overweight       27351\n",
      "Name: count, dtype: int64\n",
      "\n",
      "_CHLDCNT\n",
      "No     58392\n",
      "Yes    21482\n",
      "Name: count, dtype: int64\n",
      "\n",
      "_DRDXAR2\n",
      "No     48037\n",
      "Yes    31837\n",
      "Name: count, dtype: int64\n",
      "\n",
      "_EDUCAG\n",
      "Attended College               22328\n",
      "College or Technical School    37222\n",
      "High School                    17027\n",
      "No                              3297\n",
      "Name: count, dtype: int64\n",
      "\n",
      "_IMPRACE\n",
      "Other    19301\n",
      "White    60573\n",
      "Name: count, dtype: int64\n",
      "\n",
      "_INCOMG1\n",
      "$100,000 to < $200,00    17638\n",
      "$15,000 to < $25,000      7370\n",
      "$200,000+                 5877\n",
      "$25,000 to < $35,000      8673\n",
      "$35,000 to < $50,000     10724\n",
      "$50,000 to < $100,000    24916\n",
      "Less than $15,000         4676\n",
      "Name: count, dtype: int64\n",
      "\n",
      "_MENT14D\n",
      "\\t14+ days    17564\n",
      "1-13 days     37189\n",
      "Zero days     25121\n",
      "Name: count, dtype: int64\n",
      "\n",
      "_MICHD\n",
      "No     71883\n",
      "Yes     7991\n",
      "Name: count, dtype: int64\n",
      "\n",
      "_PHYS14D\n",
      "\\t14+ days    18843\n",
      "1-13 days     36615\n",
      "Zero days     24416\n",
      "Name: count, dtype: int64\n",
      "\n",
      "_RFCHOL3\n",
      "No     44497\n",
      "Yes    35377\n",
      "Name: count, dtype: int64\n",
      "\n",
      "_RFHYPE6\n",
      "No     44054\n",
      "Yes    35820\n",
      "Name: count, dtype: int64\n",
      "\n",
      "_SMOKER3\n",
      "No     46771\n",
      "Yes    33103\n",
      "Name: count, dtype: int64\n",
      "\n",
      "ADDEPEV3\n",
      "No     54685\n",
      "Yes    25189\n",
      "Name: count, dtype: int64\n",
      "\n",
      "CHCCOPD3\n",
      "No     72005\n",
      "Yes     7869\n",
      "Name: count, dtype: int64\n",
      "\n",
      "CHCKDNY2\n",
      "No     75009\n",
      "Yes     4865\n",
      "Name: count, dtype: int64\n",
      "\n",
      "CVDSTRK3\n",
      "No     75821\n",
      "Yes     4053\n",
      "Name: count, dtype: int64\n",
      "\n",
      "DIABETE4\n",
      "No     63811\n",
      "Yes    16063\n",
      "Name: count, dtype: int64\n",
      "\n",
      "GENHLTH\n",
      "Excellent     7243\n",
      "Fair         15605\n",
      "Good         27244\n",
      "Poor          5658\n",
      "Very good    24124\n",
      "Name: count, dtype: int64\n",
      "\n",
      "POORHLTH\n",
      "1.0      4040\n",
      "10.0     3021\n",
      "11.0       23\n",
      "12.0      306\n",
      "13.0       45\n",
      "14.0      871\n",
      "15.0     3083\n",
      "16.0       60\n",
      "17.0       41\n",
      "18.0       70\n",
      "19.0       17\n",
      "2.0      5167\n",
      "20.0     1867\n",
      "21.0      242\n",
      "22.0       42\n",
      "23.0       33\n",
      "24.0       23\n",
      "25.0      682\n",
      "26.0       19\n",
      "27.0       31\n",
      "28.0      139\n",
      "29.0       46\n",
      "3.0      3398\n",
      "30.0     5984\n",
      "4.0      1870\n",
      "5.0      3994\n",
      "6.0       621\n",
      "7.0      1878\n",
      "8.0       442\n",
      "9.0        82\n",
      "None    41737\n",
      "Name: count, dtype: int64\n",
      "\n",
      "SDHSTRE1\n",
      "Always        5533\n",
      "Never        19356\n",
      "Rarely       23080\n",
      "Sometimes    23715\n",
      "Usually       8190\n",
      "Name: count, dtype: int64\n",
      "\n",
      "SDLONELY\n",
      "Always        2488\n",
      "Never        23306\n",
      "Rarely       27292\n",
      "Sometimes    22956\n",
      "Usually       3832\n",
      "Name: count, dtype: int64\n",
      "\n",
      "SEXVAR\n",
      "Female    45320\n",
      "Male      34554\n",
      "Name: count, dtype: int64\n",
      "\n",
      "_TOTINDA\n",
      "No     20969\n",
      "Yes    58905\n",
      "Name: count, dtype: int64\n",
      "\n",
      "_DRNKWK21\n",
      "No     36394\n",
      "Yes    43480\n",
      "Name: count, dtype: int64\n",
      "\n",
      "CHCSCNC\n",
      "No     65307\n",
      "Yes    14567\n",
      "Name: count, dtype: int64\n"
     ]
    }
   ]
  },
  {
   "cell_type": "markdown",
   "source": [
    "## Export clean dataset to CSV"
   ],
   "metadata": {
    "collapsed": false
   },
   "id": "47673003be25c4fe"
  },
  {
   "cell_type": "code",
   "execution_count": 116,
   "outputs": [
    {
     "data": {
      "text/plain": "       _AGEG5YR _ASTHMS1 _BMI5CAT _CHLDCNT _DRDXAR2  \\\ncount     79874    79874    79874    79874    79874   \nunique        6        2        3        2        2   \ntop     Age 70+       No    Obese       No       No   \nfreq      18645    65202    31395    58392    48037   \n\n                            _EDUCAG _IMPRACE               _INCOMG1  \\\ncount                         79874    79874                  79874   \nunique                            4        2                      7   \ntop     College or Technical School    White  $50,000 to < $100,000   \nfreq                          37222    60573                  24916   \n\n         _MENT14D _MICHD  ... CVDSTRK3 DIABETE4 GENHLTH POORHLTH   SDHSTRE1  \\\ncount       79874  79874  ...    79874    79874   79874    79874      79874   \nunique          3      2  ...        2        2       5       31          5   \ntop     1-13 days     No  ...       No       No    Good     None  Sometimes   \nfreq        37189  71883  ...    75821    63811   27244    41737      23715   \n\n       SDLONELY  SEXVAR _TOTINDA _DRNKWK21 CHCSCNC  \ncount     79874   79874    79874     79874   79874  \nunique        5       2        2         2       2  \ntop      Rarely  Female      Yes       Yes      No  \nfreq      27292   45320    58905     43480   65307  \n\n[4 rows x 27 columns]",
      "text/html": "<div>\n<style scoped>\n    .dataframe tbody tr th:only-of-type {\n        vertical-align: middle;\n    }\n\n    .dataframe tbody tr th {\n        vertical-align: top;\n    }\n\n    .dataframe thead th {\n        text-align: right;\n    }\n</style>\n<table border=\"1\" class=\"dataframe\">\n  <thead>\n    <tr style=\"text-align: right;\">\n      <th></th>\n      <th>_AGEG5YR</th>\n      <th>_ASTHMS1</th>\n      <th>_BMI5CAT</th>\n      <th>_CHLDCNT</th>\n      <th>_DRDXAR2</th>\n      <th>_EDUCAG</th>\n      <th>_IMPRACE</th>\n      <th>_INCOMG1</th>\n      <th>_MENT14D</th>\n      <th>_MICHD</th>\n      <th>...</th>\n      <th>CVDSTRK3</th>\n      <th>DIABETE4</th>\n      <th>GENHLTH</th>\n      <th>POORHLTH</th>\n      <th>SDHSTRE1</th>\n      <th>SDLONELY</th>\n      <th>SEXVAR</th>\n      <th>_TOTINDA</th>\n      <th>_DRNKWK21</th>\n      <th>CHCSCNC</th>\n    </tr>\n  </thead>\n  <tbody>\n    <tr>\n      <th>count</th>\n      <td>79874</td>\n      <td>79874</td>\n      <td>79874</td>\n      <td>79874</td>\n      <td>79874</td>\n      <td>79874</td>\n      <td>79874</td>\n      <td>79874</td>\n      <td>79874</td>\n      <td>79874</td>\n      <td>...</td>\n      <td>79874</td>\n      <td>79874</td>\n      <td>79874</td>\n      <td>79874</td>\n      <td>79874</td>\n      <td>79874</td>\n      <td>79874</td>\n      <td>79874</td>\n      <td>79874</td>\n      <td>79874</td>\n    </tr>\n    <tr>\n      <th>unique</th>\n      <td>6</td>\n      <td>2</td>\n      <td>3</td>\n      <td>2</td>\n      <td>2</td>\n      <td>4</td>\n      <td>2</td>\n      <td>7</td>\n      <td>3</td>\n      <td>2</td>\n      <td>...</td>\n      <td>2</td>\n      <td>2</td>\n      <td>5</td>\n      <td>31</td>\n      <td>5</td>\n      <td>5</td>\n      <td>2</td>\n      <td>2</td>\n      <td>2</td>\n      <td>2</td>\n    </tr>\n    <tr>\n      <th>top</th>\n      <td>Age 70+</td>\n      <td>No</td>\n      <td>Obese</td>\n      <td>No</td>\n      <td>No</td>\n      <td>College or Technical School</td>\n      <td>White</td>\n      <td>$50,000 to &lt; $100,000</td>\n      <td>1-13 days</td>\n      <td>No</td>\n      <td>...</td>\n      <td>No</td>\n      <td>No</td>\n      <td>Good</td>\n      <td>None</td>\n      <td>Sometimes</td>\n      <td>Rarely</td>\n      <td>Female</td>\n      <td>Yes</td>\n      <td>Yes</td>\n      <td>No</td>\n    </tr>\n    <tr>\n      <th>freq</th>\n      <td>18645</td>\n      <td>65202</td>\n      <td>31395</td>\n      <td>58392</td>\n      <td>48037</td>\n      <td>37222</td>\n      <td>60573</td>\n      <td>24916</td>\n      <td>37189</td>\n      <td>71883</td>\n      <td>...</td>\n      <td>75821</td>\n      <td>63811</td>\n      <td>27244</td>\n      <td>41737</td>\n      <td>23715</td>\n      <td>27292</td>\n      <td>45320</td>\n      <td>58905</td>\n      <td>43480</td>\n      <td>65307</td>\n    </tr>\n  </tbody>\n</table>\n<p>4 rows × 27 columns</p>\n</div>"
     },
     "execution_count": 116,
     "metadata": {},
     "output_type": "execute_result"
    }
   ],
   "source": [
    "df.describe()"
   ],
   "metadata": {
    "collapsed": false,
    "ExecuteTime": {
     "end_time": "2024-11-06T16:22:38.000541Z",
     "start_time": "2024-11-06T16:22:37.979300Z"
    }
   },
   "id": "2bd90b76a40aa1d2"
  },
  {
   "cell_type": "code",
   "source": [
    "df.to_csv('LLCP2023_clean.csv', index=False)"
   ],
   "metadata": {
    "id": "iTDDfhJB1eTw",
    "executionInfo": {
     "status": "ok",
     "timestamp": 1730751679630,
     "user_tz": -120,
     "elapsed": 947,
     "user": {
      "displayName": "Lana Teras",
      "userId": "04934565953456237748"
     }
    },
    "ExecuteTime": {
     "end_time": "2024-11-06T16:22:38.214186Z",
     "start_time": "2024-11-06T16:22:37.998133Z"
    }
   },
   "id": "iTDDfhJB1eTw",
   "execution_count": 117,
   "outputs": []
  }
 ],
 "metadata": {
  "colab": {
   "provenance": [],
   "collapsed_sections": [
    "6-vxa8rv1a1_",
    "-8PmGM4yrH0f"
   ]
  },
  "kernelspec": {
   "display_name": "Python 3",
   "language": "python",
   "name": "python3"
  },
  "language_info": {
   "codemirror_mode": {
    "name": "ipython",
    "version": 2
   },
   "file_extension": ".py",
   "mimetype": "text/x-python",
   "name": "python",
   "nbconvert_exporter": "python",
   "pygments_lexer": "ipython2",
   "version": "2.7.6"
  },
  "widgets": {
   "application/vnd.jupyter.widget-state+json": {
    "56e2b2e448b84fd5a2a407b1fecbc114": {
     "model_module": "@jupyter-widgets/controls",
     "model_name": "HBoxModel",
     "model_module_version": "1.5.0",
     "state": {
      "_dom_classes": [],
      "_model_module": "@jupyter-widgets/controls",
      "_model_module_version": "1.5.0",
      "_model_name": "HBoxModel",
      "_view_count": null,
      "_view_module": "@jupyter-widgets/controls",
      "_view_module_version": "1.5.0",
      "_view_name": "HBoxView",
      "box_style": "",
      "children": [
       "IPY_MODEL_d41095cd491545afabee6bca87fbf8b2",
       "IPY_MODEL_13487e5222164933962dc3f44b2c757d",
       "IPY_MODEL_f909fe29d31b43be9a4ba02f98deb416"
      ],
      "layout": "IPY_MODEL_0a6dd7ba900945ae91988975595e1cfe"
     }
    },
    "d41095cd491545afabee6bca87fbf8b2": {
     "model_module": "@jupyter-widgets/controls",
     "model_name": "HTMLModel",
     "model_module_version": "1.5.0",
     "state": {
      "_dom_classes": [],
      "_model_module": "@jupyter-widgets/controls",
      "_model_module_version": "1.5.0",
      "_model_name": "HTMLModel",
      "_view_count": null,
      "_view_module": "@jupyter-widgets/controls",
      "_view_module_version": "1.5.0",
      "_view_name": "HTMLView",
      "description": "",
      "description_tooltip": null,
      "layout": "IPY_MODEL_68b7a81b866c4aa6b2c3891c96ef2340",
      "placeholder": "​",
      "style": "IPY_MODEL_fa6dfbe1c3154c30b7915ceb279a721c",
      "value": "Processing: 100%"
     }
    },
    "13487e5222164933962dc3f44b2c757d": {
     "model_module": "@jupyter-widgets/controls",
     "model_name": "FloatProgressModel",
     "model_module_version": "1.5.0",
     "state": {
      "_dom_classes": [],
      "_model_module": "@jupyter-widgets/controls",
      "_model_module_version": "1.5.0",
      "_model_name": "FloatProgressModel",
      "_view_count": null,
      "_view_module": "@jupyter-widgets/controls",
      "_view_module_version": "1.5.0",
      "_view_name": "ProgressView",
      "bar_style": "",
      "description": "",
      "description_tooltip": null,
      "layout": "IPY_MODEL_9809e6a75d44409bac8a124718654ddd",
      "max": 69,
      "min": 0,
      "orientation": "horizontal",
      "style": "IPY_MODEL_c1ed69a0d2c14c07af4ac00f987915f8",
      "value": 69
     }
    },
    "f909fe29d31b43be9a4ba02f98deb416": {
     "model_module": "@jupyter-widgets/controls",
     "model_name": "HTMLModel",
     "model_module_version": "1.5.0",
     "state": {
      "_dom_classes": [],
      "_model_module": "@jupyter-widgets/controls",
      "_model_module_version": "1.5.0",
      "_model_name": "HTMLModel",
      "_view_count": null,
      "_view_module": "@jupyter-widgets/controls",
      "_view_module_version": "1.5.0",
      "_view_name": "HTMLView",
      "description": "",
      "description_tooltip": null,
      "layout": "IPY_MODEL_190def4675214238b8830c4b2992c02e",
      "placeholder": "​",
      "style": "IPY_MODEL_1547fd37ff8a4dd09575fbbcde8a0273",
      "value": " 69/69 [29:01&lt;00:00, 27.14s/it]"
     }
    },
    "0a6dd7ba900945ae91988975595e1cfe": {
     "model_module": "@jupyter-widgets/base",
     "model_name": "LayoutModel",
     "model_module_version": "1.2.0",
     "state": {
      "_model_module": "@jupyter-widgets/base",
      "_model_module_version": "1.2.0",
      "_model_name": "LayoutModel",
      "_view_count": null,
      "_view_module": "@jupyter-widgets/base",
      "_view_module_version": "1.2.0",
      "_view_name": "LayoutView",
      "align_content": null,
      "align_items": null,
      "align_self": null,
      "border": null,
      "bottom": null,
      "display": null,
      "flex": null,
      "flex_flow": null,
      "grid_area": null,
      "grid_auto_columns": null,
      "grid_auto_flow": null,
      "grid_auto_rows": null,
      "grid_column": null,
      "grid_gap": null,
      "grid_row": null,
      "grid_template_areas": null,
      "grid_template_columns": null,
      "grid_template_rows": null,
      "height": null,
      "justify_content": null,
      "justify_items": null,
      "left": null,
      "margin": null,
      "max_height": null,
      "max_width": null,
      "min_height": null,
      "min_width": null,
      "object_fit": null,
      "object_position": null,
      "order": null,
      "overflow": null,
      "overflow_x": null,
      "overflow_y": null,
      "padding": null,
      "right": null,
      "top": null,
      "visibility": "hidden",
      "width": null
     }
    },
    "68b7a81b866c4aa6b2c3891c96ef2340": {
     "model_module": "@jupyter-widgets/base",
     "model_name": "LayoutModel",
     "model_module_version": "1.2.0",
     "state": {
      "_model_module": "@jupyter-widgets/base",
      "_model_module_version": "1.2.0",
      "_model_name": "LayoutModel",
      "_view_count": null,
      "_view_module": "@jupyter-widgets/base",
      "_view_module_version": "1.2.0",
      "_view_name": "LayoutView",
      "align_content": null,
      "align_items": null,
      "align_self": null,
      "border": null,
      "bottom": null,
      "display": null,
      "flex": null,
      "flex_flow": null,
      "grid_area": null,
      "grid_auto_columns": null,
      "grid_auto_flow": null,
      "grid_auto_rows": null,
      "grid_column": null,
      "grid_gap": null,
      "grid_row": null,
      "grid_template_areas": null,
      "grid_template_columns": null,
      "grid_template_rows": null,
      "height": null,
      "justify_content": null,
      "justify_items": null,
      "left": null,
      "margin": null,
      "max_height": null,
      "max_width": null,
      "min_height": null,
      "min_width": null,
      "object_fit": null,
      "object_position": null,
      "order": null,
      "overflow": null,
      "overflow_x": null,
      "overflow_y": null,
      "padding": null,
      "right": null,
      "top": null,
      "visibility": null,
      "width": null
     }
    },
    "fa6dfbe1c3154c30b7915ceb279a721c": {
     "model_module": "@jupyter-widgets/controls",
     "model_name": "DescriptionStyleModel",
     "model_module_version": "1.5.0",
     "state": {
      "_model_module": "@jupyter-widgets/controls",
      "_model_module_version": "1.5.0",
      "_model_name": "DescriptionStyleModel",
      "_view_count": null,
      "_view_module": "@jupyter-widgets/base",
      "_view_module_version": "1.2.0",
      "_view_name": "StyleView",
      "description_width": ""
     }
    },
    "9809e6a75d44409bac8a124718654ddd": {
     "model_module": "@jupyter-widgets/base",
     "model_name": "LayoutModel",
     "model_module_version": "1.2.0",
     "state": {
      "_model_module": "@jupyter-widgets/base",
      "_model_module_version": "1.2.0",
      "_model_name": "LayoutModel",
      "_view_count": null,
      "_view_module": "@jupyter-widgets/base",
      "_view_module_version": "1.2.0",
      "_view_name": "LayoutView",
      "align_content": null,
      "align_items": null,
      "align_self": null,
      "border": null,
      "bottom": null,
      "display": null,
      "flex": null,
      "flex_flow": null,
      "grid_area": null,
      "grid_auto_columns": null,
      "grid_auto_flow": null,
      "grid_auto_rows": null,
      "grid_column": null,
      "grid_gap": null,
      "grid_row": null,
      "grid_template_areas": null,
      "grid_template_columns": null,
      "grid_template_rows": null,
      "height": null,
      "justify_content": null,
      "justify_items": null,
      "left": null,
      "margin": null,
      "max_height": null,
      "max_width": null,
      "min_height": null,
      "min_width": null,
      "object_fit": null,
      "object_position": null,
      "order": null,
      "overflow": null,
      "overflow_x": null,
      "overflow_y": null,
      "padding": null,
      "right": null,
      "top": null,
      "visibility": null,
      "width": null
     }
    },
    "c1ed69a0d2c14c07af4ac00f987915f8": {
     "model_module": "@jupyter-widgets/controls",
     "model_name": "ProgressStyleModel",
     "model_module_version": "1.5.0",
     "state": {
      "_model_module": "@jupyter-widgets/controls",
      "_model_module_version": "1.5.0",
      "_model_name": "ProgressStyleModel",
      "_view_count": null,
      "_view_module": "@jupyter-widgets/base",
      "_view_module_version": "1.2.0",
      "_view_name": "StyleView",
      "bar_color": null,
      "description_width": ""
     }
    },
    "190def4675214238b8830c4b2992c02e": {
     "model_module": "@jupyter-widgets/base",
     "model_name": "LayoutModel",
     "model_module_version": "1.2.0",
     "state": {
      "_model_module": "@jupyter-widgets/base",
      "_model_module_version": "1.2.0",
      "_model_name": "LayoutModel",
      "_view_count": null,
      "_view_module": "@jupyter-widgets/base",
      "_view_module_version": "1.2.0",
      "_view_name": "LayoutView",
      "align_content": null,
      "align_items": null,
      "align_self": null,
      "border": null,
      "bottom": null,
      "display": null,
      "flex": null,
      "flex_flow": null,
      "grid_area": null,
      "grid_auto_columns": null,
      "grid_auto_flow": null,
      "grid_auto_rows": null,
      "grid_column": null,
      "grid_gap": null,
      "grid_row": null,
      "grid_template_areas": null,
      "grid_template_columns": null,
      "grid_template_rows": null,
      "height": null,
      "justify_content": null,
      "justify_items": null,
      "left": null,
      "margin": null,
      "max_height": null,
      "max_width": null,
      "min_height": null,
      "min_width": null,
      "object_fit": null,
      "object_position": null,
      "order": null,
      "overflow": null,
      "overflow_x": null,
      "overflow_y": null,
      "padding": null,
      "right": null,
      "top": null,
      "visibility": null,
      "width": null
     }
    },
    "1547fd37ff8a4dd09575fbbcde8a0273": {
     "model_module": "@jupyter-widgets/controls",
     "model_name": "DescriptionStyleModel",
     "model_module_version": "1.5.0",
     "state": {
      "_model_module": "@jupyter-widgets/controls",
      "_model_module_version": "1.5.0",
      "_model_name": "DescriptionStyleModel",
      "_view_count": null,
      "_view_module": "@jupyter-widgets/base",
      "_view_module_version": "1.2.0",
      "_view_name": "StyleView",
      "description_width": ""
     }
    },
    "a24275202826497cbfb8fba95e86e735": {
     "model_module": "@jupyter-widgets/controls",
     "model_name": "HBoxModel",
     "model_module_version": "1.5.0",
     "state": {
      "_dom_classes": [],
      "_model_module": "@jupyter-widgets/controls",
      "_model_module_version": "1.5.0",
      "_model_name": "HBoxModel",
      "_view_count": null,
      "_view_module": "@jupyter-widgets/controls",
      "_view_module_version": "1.5.0",
      "_view_name": "HBoxView",
      "box_style": "",
      "children": [
       "IPY_MODEL_d9d2f6affb97430fa4b0512a442591f4",
       "IPY_MODEL_4d20341aa6de4ebfb75e831938a86718",
       "IPY_MODEL_8bf642a13e1c47cba54ca9a387f17e8f"
      ],
      "layout": "IPY_MODEL_c2b213dd4b9547d79195542b6cc96bde"
     }
    },
    "d9d2f6affb97430fa4b0512a442591f4": {
     "model_module": "@jupyter-widgets/controls",
     "model_name": "HTMLModel",
     "model_module_version": "1.5.0",
     "state": {
      "_dom_classes": [],
      "_model_module": "@jupyter-widgets/controls",
      "_model_module_version": "1.5.0",
      "_model_name": "HTMLModel",
      "_view_count": null,
      "_view_module": "@jupyter-widgets/controls",
      "_view_module_version": "1.5.0",
      "_view_name": "HTMLView",
      "description": "",
      "description_tooltip": null,
      "layout": "IPY_MODEL_21f41d68eac64709b5ce4e88b3bb2b83",
      "placeholder": "​",
      "style": "IPY_MODEL_285a61eb6c6c44c0ac970ec99e5f0eaf",
      "value": "Processing: 100%"
     }
    },
    "4d20341aa6de4ebfb75e831938a86718": {
     "model_module": "@jupyter-widgets/controls",
     "model_name": "FloatProgressModel",
     "model_module_version": "1.5.0",
     "state": {
      "_dom_classes": [],
      "_model_module": "@jupyter-widgets/controls",
      "_model_module_version": "1.5.0",
      "_model_name": "FloatProgressModel",
      "_view_count": null,
      "_view_module": "@jupyter-widgets/controls",
      "_view_module_version": "1.5.0",
      "_view_name": "ProgressView",
      "bar_style": "",
      "description": "",
      "description_tooltip": null,
      "layout": "IPY_MODEL_9c230a7fd3384233bf1331bf4cda8395",
      "max": 4,
      "min": 0,
      "orientation": "horizontal",
      "style": "IPY_MODEL_e93d5e95278c49ae8f9e767f39dcc395",
      "value": 4
     }
    },
    "8bf642a13e1c47cba54ca9a387f17e8f": {
     "model_module": "@jupyter-widgets/controls",
     "model_name": "HTMLModel",
     "model_module_version": "1.5.0",
     "state": {
      "_dom_classes": [],
      "_model_module": "@jupyter-widgets/controls",
      "_model_module_version": "1.5.0",
      "_model_name": "HTMLModel",
      "_view_count": null,
      "_view_module": "@jupyter-widgets/controls",
      "_view_module_version": "1.5.0",
      "_view_name": "HTMLView",
      "description": "",
      "description_tooltip": null,
      "layout": "IPY_MODEL_b31b4027532c48a2a2a2fcf98ab81a66",
      "placeholder": "​",
      "style": "IPY_MODEL_3c2d7335f24b462fa65966843443b1d1",
      "value": " 4/4 [07:02&lt;00:00, 100.00s/it]"
     }
    },
    "c2b213dd4b9547d79195542b6cc96bde": {
     "model_module": "@jupyter-widgets/base",
     "model_name": "LayoutModel",
     "model_module_version": "1.2.0",
     "state": {
      "_model_module": "@jupyter-widgets/base",
      "_model_module_version": "1.2.0",
      "_model_name": "LayoutModel",
      "_view_count": null,
      "_view_module": "@jupyter-widgets/base",
      "_view_module_version": "1.2.0",
      "_view_name": "LayoutView",
      "align_content": null,
      "align_items": null,
      "align_self": null,
      "border": null,
      "bottom": null,
      "display": null,
      "flex": null,
      "flex_flow": null,
      "grid_area": null,
      "grid_auto_columns": null,
      "grid_auto_flow": null,
      "grid_auto_rows": null,
      "grid_column": null,
      "grid_gap": null,
      "grid_row": null,
      "grid_template_areas": null,
      "grid_template_columns": null,
      "grid_template_rows": null,
      "height": null,
      "justify_content": null,
      "justify_items": null,
      "left": null,
      "margin": null,
      "max_height": null,
      "max_width": null,
      "min_height": null,
      "min_width": null,
      "object_fit": null,
      "object_position": null,
      "order": null,
      "overflow": null,
      "overflow_x": null,
      "overflow_y": null,
      "padding": null,
      "right": null,
      "top": null,
      "visibility": "hidden",
      "width": null
     }
    },
    "21f41d68eac64709b5ce4e88b3bb2b83": {
     "model_module": "@jupyter-widgets/base",
     "model_name": "LayoutModel",
     "model_module_version": "1.2.0",
     "state": {
      "_model_module": "@jupyter-widgets/base",
      "_model_module_version": "1.2.0",
      "_model_name": "LayoutModel",
      "_view_count": null,
      "_view_module": "@jupyter-widgets/base",
      "_view_module_version": "1.2.0",
      "_view_name": "LayoutView",
      "align_content": null,
      "align_items": null,
      "align_self": null,
      "border": null,
      "bottom": null,
      "display": null,
      "flex": null,
      "flex_flow": null,
      "grid_area": null,
      "grid_auto_columns": null,
      "grid_auto_flow": null,
      "grid_auto_rows": null,
      "grid_column": null,
      "grid_gap": null,
      "grid_row": null,
      "grid_template_areas": null,
      "grid_template_columns": null,
      "grid_template_rows": null,
      "height": null,
      "justify_content": null,
      "justify_items": null,
      "left": null,
      "margin": null,
      "max_height": null,
      "max_width": null,
      "min_height": null,
      "min_width": null,
      "object_fit": null,
      "object_position": null,
      "order": null,
      "overflow": null,
      "overflow_x": null,
      "overflow_y": null,
      "padding": null,
      "right": null,
      "top": null,
      "visibility": null,
      "width": null
     }
    },
    "285a61eb6c6c44c0ac970ec99e5f0eaf": {
     "model_module": "@jupyter-widgets/controls",
     "model_name": "DescriptionStyleModel",
     "model_module_version": "1.5.0",
     "state": {
      "_model_module": "@jupyter-widgets/controls",
      "_model_module_version": "1.5.0",
      "_model_name": "DescriptionStyleModel",
      "_view_count": null,
      "_view_module": "@jupyter-widgets/base",
      "_view_module_version": "1.2.0",
      "_view_name": "StyleView",
      "description_width": ""
     }
    },
    "9c230a7fd3384233bf1331bf4cda8395": {
     "model_module": "@jupyter-widgets/base",
     "model_name": "LayoutModel",
     "model_module_version": "1.2.0",
     "state": {
      "_model_module": "@jupyter-widgets/base",
      "_model_module_version": "1.2.0",
      "_model_name": "LayoutModel",
      "_view_count": null,
      "_view_module": "@jupyter-widgets/base",
      "_view_module_version": "1.2.0",
      "_view_name": "LayoutView",
      "align_content": null,
      "align_items": null,
      "align_self": null,
      "border": null,
      "bottom": null,
      "display": null,
      "flex": null,
      "flex_flow": null,
      "grid_area": null,
      "grid_auto_columns": null,
      "grid_auto_flow": null,
      "grid_auto_rows": null,
      "grid_column": null,
      "grid_gap": null,
      "grid_row": null,
      "grid_template_areas": null,
      "grid_template_columns": null,
      "grid_template_rows": null,
      "height": null,
      "justify_content": null,
      "justify_items": null,
      "left": null,
      "margin": null,
      "max_height": null,
      "max_width": null,
      "min_height": null,
      "min_width": null,
      "object_fit": null,
      "object_position": null,
      "order": null,
      "overflow": null,
      "overflow_x": null,
      "overflow_y": null,
      "padding": null,
      "right": null,
      "top": null,
      "visibility": null,
      "width": null
     }
    },
    "e93d5e95278c49ae8f9e767f39dcc395": {
     "model_module": "@jupyter-widgets/controls",
     "model_name": "ProgressStyleModel",
     "model_module_version": "1.5.0",
     "state": {
      "_model_module": "@jupyter-widgets/controls",
      "_model_module_version": "1.5.0",
      "_model_name": "ProgressStyleModel",
      "_view_count": null,
      "_view_module": "@jupyter-widgets/base",
      "_view_module_version": "1.2.0",
      "_view_name": "StyleView",
      "bar_color": null,
      "description_width": ""
     }
    },
    "b31b4027532c48a2a2a2fcf98ab81a66": {
     "model_module": "@jupyter-widgets/base",
     "model_name": "LayoutModel",
     "model_module_version": "1.2.0",
     "state": {
      "_model_module": "@jupyter-widgets/base",
      "_model_module_version": "1.2.0",
      "_model_name": "LayoutModel",
      "_view_count": null,
      "_view_module": "@jupyter-widgets/base",
      "_view_module_version": "1.2.0",
      "_view_name": "LayoutView",
      "align_content": null,
      "align_items": null,
      "align_self": null,
      "border": null,
      "bottom": null,
      "display": null,
      "flex": null,
      "flex_flow": null,
      "grid_area": null,
      "grid_auto_columns": null,
      "grid_auto_flow": null,
      "grid_auto_rows": null,
      "grid_column": null,
      "grid_gap": null,
      "grid_row": null,
      "grid_template_areas": null,
      "grid_template_columns": null,
      "grid_template_rows": null,
      "height": null,
      "justify_content": null,
      "justify_items": null,
      "left": null,
      "margin": null,
      "max_height": null,
      "max_width": null,
      "min_height": null,
      "min_width": null,
      "object_fit": null,
      "object_position": null,
      "order": null,
      "overflow": null,
      "overflow_x": null,
      "overflow_y": null,
      "padding": null,
      "right": null,
      "top": null,
      "visibility": null,
      "width": null
     }
    },
    "3c2d7335f24b462fa65966843443b1d1": {
     "model_module": "@jupyter-widgets/controls",
     "model_name": "DescriptionStyleModel",
     "model_module_version": "1.5.0",
     "state": {
      "_model_module": "@jupyter-widgets/controls",
      "_model_module_version": "1.5.0",
      "_model_name": "DescriptionStyleModel",
      "_view_count": null,
      "_view_module": "@jupyter-widgets/base",
      "_view_module_version": "1.2.0",
      "_view_name": "StyleView",
      "description_width": ""
     }
    },
    "74c62e5779134576a1da0a65503ed502": {
     "model_module": "@jupyter-widgets/controls",
     "model_name": "HBoxModel",
     "model_module_version": "1.5.0",
     "state": {
      "_dom_classes": [],
      "_model_module": "@jupyter-widgets/controls",
      "_model_module_version": "1.5.0",
      "_model_name": "HBoxModel",
      "_view_count": null,
      "_view_module": "@jupyter-widgets/controls",
      "_view_module_version": "1.5.0",
      "_view_name": "HBoxView",
      "box_style": "",
      "children": [
       "IPY_MODEL_5bc48bdfc5584ff7a32adcbd39938a0f",
       "IPY_MODEL_509c0fd748ad4986bb6308ec8692bdb3",
       "IPY_MODEL_fca19a0fcb8245a3a4f95f5f05731e75"
      ],
      "layout": "IPY_MODEL_5129eb77954f49b4874215dfb73ab737"
     }
    },
    "5bc48bdfc5584ff7a32adcbd39938a0f": {
     "model_module": "@jupyter-widgets/controls",
     "model_name": "HTMLModel",
     "model_module_version": "1.5.0",
     "state": {
      "_dom_classes": [],
      "_model_module": "@jupyter-widgets/controls",
      "_model_module_version": "1.5.0",
      "_model_name": "HTMLModel",
      "_view_count": null,
      "_view_module": "@jupyter-widgets/controls",
      "_view_module_version": "1.5.0",
      "_view_name": "HTMLView",
      "description": "",
      "description_tooltip": null,
      "layout": "IPY_MODEL_8d4e4dfff7204760a45bbc6f5d266c35",
      "placeholder": "​",
      "style": "IPY_MODEL_2280f362a47f4dc1b66635b051118738",
      "value": "Processing:   0%"
     }
    },
    "509c0fd748ad4986bb6308ec8692bdb3": {
     "model_module": "@jupyter-widgets/controls",
     "model_name": "FloatProgressModel",
     "model_module_version": "1.5.0",
     "state": {
      "_dom_classes": [],
      "_model_module": "@jupyter-widgets/controls",
      "_model_module_version": "1.5.0",
      "_model_name": "FloatProgressModel",
      "_view_count": null,
      "_view_module": "@jupyter-widgets/controls",
      "_view_module_version": "1.5.0",
      "_view_name": "ProgressView",
      "bar_style": "",
      "description": "",
      "description_tooltip": null,
      "layout": "IPY_MODEL_2936d10f726f4eaa8403f2e9cfac8073",
      "max": 7,
      "min": 0,
      "orientation": "horizontal",
      "style": "IPY_MODEL_3cc9390d62a24a0286f40c318c54cabe",
      "value": 0
     }
    },
    "fca19a0fcb8245a3a4f95f5f05731e75": {
     "model_module": "@jupyter-widgets/controls",
     "model_name": "HTMLModel",
     "model_module_version": "1.5.0",
     "state": {
      "_dom_classes": [],
      "_model_module": "@jupyter-widgets/controls",
      "_model_module_version": "1.5.0",
      "_model_name": "HTMLModel",
      "_view_count": null,
      "_view_module": "@jupyter-widgets/controls",
      "_view_module_version": "1.5.0",
      "_view_name": "HTMLView",
      "description": "",
      "description_tooltip": null,
      "layout": "IPY_MODEL_efefde54508b4e46901973dd2da4563e",
      "placeholder": "​",
      "style": "IPY_MODEL_08889a2410fb4dbaa7b1f8689c3958f9",
      "value": " 0/7 [00:00&lt;?, ?it/s]"
     }
    },
    "5129eb77954f49b4874215dfb73ab737": {
     "model_module": "@jupyter-widgets/base",
     "model_name": "LayoutModel",
     "model_module_version": "1.2.0",
     "state": {
      "_model_module": "@jupyter-widgets/base",
      "_model_module_version": "1.2.0",
      "_model_name": "LayoutModel",
      "_view_count": null,
      "_view_module": "@jupyter-widgets/base",
      "_view_module_version": "1.2.0",
      "_view_name": "LayoutView",
      "align_content": null,
      "align_items": null,
      "align_self": null,
      "border": null,
      "bottom": null,
      "display": null,
      "flex": null,
      "flex_flow": null,
      "grid_area": null,
      "grid_auto_columns": null,
      "grid_auto_flow": null,
      "grid_auto_rows": null,
      "grid_column": null,
      "grid_gap": null,
      "grid_row": null,
      "grid_template_areas": null,
      "grid_template_columns": null,
      "grid_template_rows": null,
      "height": null,
      "justify_content": null,
      "justify_items": null,
      "left": null,
      "margin": null,
      "max_height": null,
      "max_width": null,
      "min_height": null,
      "min_width": null,
      "object_fit": null,
      "object_position": null,
      "order": null,
      "overflow": null,
      "overflow_x": null,
      "overflow_y": null,
      "padding": null,
      "right": null,
      "top": null,
      "visibility": null,
      "width": null
     }
    },
    "8d4e4dfff7204760a45bbc6f5d266c35": {
     "model_module": "@jupyter-widgets/base",
     "model_name": "LayoutModel",
     "model_module_version": "1.2.0",
     "state": {
      "_model_module": "@jupyter-widgets/base",
      "_model_module_version": "1.2.0",
      "_model_name": "LayoutModel",
      "_view_count": null,
      "_view_module": "@jupyter-widgets/base",
      "_view_module_version": "1.2.0",
      "_view_name": "LayoutView",
      "align_content": null,
      "align_items": null,
      "align_self": null,
      "border": null,
      "bottom": null,
      "display": null,
      "flex": null,
      "flex_flow": null,
      "grid_area": null,
      "grid_auto_columns": null,
      "grid_auto_flow": null,
      "grid_auto_rows": null,
      "grid_column": null,
      "grid_gap": null,
      "grid_row": null,
      "grid_template_areas": null,
      "grid_template_columns": null,
      "grid_template_rows": null,
      "height": null,
      "justify_content": null,
      "justify_items": null,
      "left": null,
      "margin": null,
      "max_height": null,
      "max_width": null,
      "min_height": null,
      "min_width": null,
      "object_fit": null,
      "object_position": null,
      "order": null,
      "overflow": null,
      "overflow_x": null,
      "overflow_y": null,
      "padding": null,
      "right": null,
      "top": null,
      "visibility": null,
      "width": null
     }
    },
    "2280f362a47f4dc1b66635b051118738": {
     "model_module": "@jupyter-widgets/controls",
     "model_name": "DescriptionStyleModel",
     "model_module_version": "1.5.0",
     "state": {
      "_model_module": "@jupyter-widgets/controls",
      "_model_module_version": "1.5.0",
      "_model_name": "DescriptionStyleModel",
      "_view_count": null,
      "_view_module": "@jupyter-widgets/base",
      "_view_module_version": "1.2.0",
      "_view_name": "StyleView",
      "description_width": ""
     }
    },
    "2936d10f726f4eaa8403f2e9cfac8073": {
     "model_module": "@jupyter-widgets/base",
     "model_name": "LayoutModel",
     "model_module_version": "1.2.0",
     "state": {
      "_model_module": "@jupyter-widgets/base",
      "_model_module_version": "1.2.0",
      "_model_name": "LayoutModel",
      "_view_count": null,
      "_view_module": "@jupyter-widgets/base",
      "_view_module_version": "1.2.0",
      "_view_name": "LayoutView",
      "align_content": null,
      "align_items": null,
      "align_self": null,
      "border": null,
      "bottom": null,
      "display": null,
      "flex": null,
      "flex_flow": null,
      "grid_area": null,
      "grid_auto_columns": null,
      "grid_auto_flow": null,
      "grid_auto_rows": null,
      "grid_column": null,
      "grid_gap": null,
      "grid_row": null,
      "grid_template_areas": null,
      "grid_template_columns": null,
      "grid_template_rows": null,
      "height": null,
      "justify_content": null,
      "justify_items": null,
      "left": null,
      "margin": null,
      "max_height": null,
      "max_width": null,
      "min_height": null,
      "min_width": null,
      "object_fit": null,
      "object_position": null,
      "order": null,
      "overflow": null,
      "overflow_x": null,
      "overflow_y": null,
      "padding": null,
      "right": null,
      "top": null,
      "visibility": null,
      "width": null
     }
    },
    "3cc9390d62a24a0286f40c318c54cabe": {
     "model_module": "@jupyter-widgets/controls",
     "model_name": "ProgressStyleModel",
     "model_module_version": "1.5.0",
     "state": {
      "_model_module": "@jupyter-widgets/controls",
      "_model_module_version": "1.5.0",
      "_model_name": "ProgressStyleModel",
      "_view_count": null,
      "_view_module": "@jupyter-widgets/base",
      "_view_module_version": "1.2.0",
      "_view_name": "StyleView",
      "bar_color": null,
      "description_width": ""
     }
    },
    "efefde54508b4e46901973dd2da4563e": {
     "model_module": "@jupyter-widgets/base",
     "model_name": "LayoutModel",
     "model_module_version": "1.2.0",
     "state": {
      "_model_module": "@jupyter-widgets/base",
      "_model_module_version": "1.2.0",
      "_model_name": "LayoutModel",
      "_view_count": null,
      "_view_module": "@jupyter-widgets/base",
      "_view_module_version": "1.2.0",
      "_view_name": "LayoutView",
      "align_content": null,
      "align_items": null,
      "align_self": null,
      "border": null,
      "bottom": null,
      "display": null,
      "flex": null,
      "flex_flow": null,
      "grid_area": null,
      "grid_auto_columns": null,
      "grid_auto_flow": null,
      "grid_auto_rows": null,
      "grid_column": null,
      "grid_gap": null,
      "grid_row": null,
      "grid_template_areas": null,
      "grid_template_columns": null,
      "grid_template_rows": null,
      "height": null,
      "justify_content": null,
      "justify_items": null,
      "left": null,
      "margin": null,
      "max_height": null,
      "max_width": null,
      "min_height": null,
      "min_width": null,
      "object_fit": null,
      "object_position": null,
      "order": null,
      "overflow": null,
      "overflow_x": null,
      "overflow_y": null,
      "padding": null,
      "right": null,
      "top": null,
      "visibility": null,
      "width": null
     }
    },
    "08889a2410fb4dbaa7b1f8689c3958f9": {
     "model_module": "@jupyter-widgets/controls",
     "model_name": "DescriptionStyleModel",
     "model_module_version": "1.5.0",
     "state": {
      "_model_module": "@jupyter-widgets/controls",
      "_model_module_version": "1.5.0",
      "_model_name": "DescriptionStyleModel",
      "_view_count": null,
      "_view_module": "@jupyter-widgets/base",
      "_view_module_version": "1.2.0",
      "_view_name": "StyleView",
      "description_width": ""
     }
    }
   }
  }
 },
 "nbformat": 4,
 "nbformat_minor": 5
}
