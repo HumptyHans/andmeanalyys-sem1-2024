{
 "cells": [
  {
   "cell_type": "code",
   "execution_count": 1,
   "id": "initial_id",
   "metadata": {
    "collapsed": true,
    "ExecuteTime": {
     "end_time": "2024-11-06T21:40:30.650397Z",
     "start_time": "2024-11-06T21:40:28.846990Z"
    }
   },
   "outputs": [],
   "source": [
    "try:\n",
    "    import torch\n",
    "except:\n",
    "    !pip install torch\n",
    "    import torch\n",
    "\n",
    "import pandas as pd\n",
    "\n",
    "from torch.utils.data import Dataset, DataLoader\n",
    "from torch import nn\n",
    "from sklearn.model_selection import train_test_split\n",
    "from sklearn.preprocessing import LabelEncoder\n",
    "from sklearn.metrics import f1_score, accuracy_score, classification_report, roc_auc_score"
   ]
  },
  {
   "cell_type": "code",
   "execution_count": 2,
   "outputs": [],
   "source": [
    "df = pd.read_csv('LLCP2023_clean.csv', keep_default_na=False, dtype='category')"
   ],
   "metadata": {
    "collapsed": false,
    "ExecuteTime": {
     "end_time": "2024-11-06T21:40:33.075342Z",
     "start_time": "2024-11-06T21:40:32.939272Z"
    }
   },
   "id": "ebf274ae93dec91f"
  },
  {
   "cell_type": "markdown",
   "source": [
    "### Training hyperparameters"
   ],
   "metadata": {
    "collapsed": false
   },
   "id": "4ad7d6c033decefa"
  },
  {
   "cell_type": "code",
   "execution_count": 3,
   "outputs": [],
   "source": [
    "learning_rate = 1e-3\n",
    "batch_size = 64\n",
    "epochs = 25"
   ],
   "metadata": {
    "collapsed": false,
    "ExecuteTime": {
     "end_time": "2024-11-06T21:40:33.079140Z",
     "start_time": "2024-11-06T21:40:33.075685Z"
    }
   },
   "id": "5027681cc5a78a21"
  },
  {
   "cell_type": "markdown",
   "source": [
    "Setting device for training"
   ],
   "metadata": {
    "collapsed": false
   },
   "id": "ca07149ee84c939c"
  },
  {
   "cell_type": "code",
   "execution_count": 4,
   "outputs": [
    {
     "name": "stdout",
     "output_type": "stream",
     "text": [
      "Using mps device\n"
     ]
    }
   ],
   "source": [
    "device = (\n",
    "    \"cuda\"\n",
    "    if torch.cuda.is_available()\n",
    "    else \"mps\"\n",
    "    if torch.backends.mps.is_available()\n",
    "    else \"cpu\"\n",
    ")\n",
    "print(f\"Using {device} device\")"
   ],
   "metadata": {
    "collapsed": false,
    "ExecuteTime": {
     "end_time": "2024-11-06T21:40:33.104057Z",
     "start_time": "2024-11-06T21:40:33.102269Z"
    }
   },
   "id": "6c608fcadc5a461e"
  },
  {
   "cell_type": "markdown",
   "source": [
    "### Encoding and splitting data into training and testing sets"
   ],
   "metadata": {
    "collapsed": false
   },
   "id": "bcfa8baf5b1e89d6"
  },
  {
   "cell_type": "code",
   "execution_count": 5,
   "outputs": [],
   "source": [
    "label_encoders = {}\n",
    "for column in df.columns:\n",
    "    le = LabelEncoder()\n",
    "    df[column] = le.fit_transform(df[column])\n",
    "    label_encoders[column] = le"
   ],
   "metadata": {
    "collapsed": false,
    "ExecuteTime": {
     "end_time": "2024-11-06T21:40:33.255600Z",
     "start_time": "2024-11-06T21:40:33.110671Z"
    }
   },
   "id": "8f0c2d679bb8dd4c"
  },
  {
   "cell_type": "code",
   "execution_count": 6,
   "outputs": [],
   "source": [
    "X = df.drop(columns=['_MENT14D'])\n",
    "y = df['_MENT14D']\n",
    "\n",
    "X_train, X_test, y_train, y_test = train_test_split(X, y, test_size=0.2, random_state=42)"
   ],
   "metadata": {
    "collapsed": false,
    "ExecuteTime": {
     "end_time": "2024-11-06T21:40:33.276190Z",
     "start_time": "2024-11-06T21:40:33.261789Z"
    }
   },
   "id": "95debcd4599066d"
  },
  {
   "cell_type": "markdown",
   "source": [
    "#### Dataset class for BRFSS data"
   ],
   "metadata": {
    "collapsed": false
   },
   "id": "9a2132c426c5f6de"
  },
  {
   "cell_type": "code",
   "execution_count": 7,
   "outputs": [],
   "source": [
    "class BRFSSDataset(Dataset):\n",
    "    def __init__(self, X, y):\n",
    "        self.X = torch.tensor(X.values, dtype=torch.float).to(device)\n",
    "        self.y = torch.tensor(y.values, dtype=torch.long).to(device)\n",
    "    \n",
    "    def __len__(self):\n",
    "        return len(self.y)\n",
    "    \n",
    "    def __getitem__(self, idx):\n",
    "        return self.X[idx], self.y[idx]\n",
    "\n",
    "train_dataset = BRFSSDataset(X_train, y_train)\n",
    "test_dataset = BRFSSDataset(X_test, y_test)\n",
    "\n",
    "train_loader = DataLoader(train_dataset, batch_size=batch_size, shuffle=True)\n",
    "test_loader = DataLoader(test_dataset, batch_size=batch_size, shuffle=True)"
   ],
   "metadata": {
    "collapsed": false,
    "ExecuteTime": {
     "end_time": "2024-11-06T21:40:33.303128Z",
     "start_time": "2024-11-06T21:40:33.277315Z"
    }
   },
   "id": "268bc0ae79d20fd8"
  },
  {
   "cell_type": "markdown",
   "source": [
    "## Definition of Neural Network model"
   ],
   "metadata": {
    "collapsed": false
   },
   "id": "66bdc64b250b238"
  },
  {
   "cell_type": "markdown",
   "source": [
    "### Model structure"
   ],
   "metadata": {
    "collapsed": false
   },
   "id": "c8953fc3a9e57651"
  },
  {
   "cell_type": "code",
   "execution_count": 9,
   "outputs": [
    {
     "name": "stdout",
     "output_type": "stream",
     "text": [
      "MentalHealthClassifier(\n",
      "  (linear_relu_stack): Sequential(\n",
      "    (0): Linear(in_features=26, out_features=256, bias=True)\n",
      "    (1): Tanh()\n",
      "    (2): Linear(in_features=256, out_features=128, bias=True)\n",
      "    (3): Tanh()\n",
      "    (4): Linear(in_features=128, out_features=64, bias=True)\n",
      "    (5): ReLU()\n",
      "    (6): Linear(in_features=64, out_features=3, bias=True)\n",
      "    (7): Softmax(dim=1)\n",
      "  )\n",
      ")\n"
     ]
    }
   ],
   "source": [
    "class MentalHealthClassifier(nn.Module):\n",
    "    def __init__(self, input_size, num_classes):\n",
    "        super().__init__()\n",
    "        self.linear_relu_stack = nn.Sequential(\n",
    "            nn.Linear(input_size, 256),\n",
    "            nn.Tanh(),\n",
    "            nn.Linear(256, 128),\n",
    "            nn.Tanh(),\n",
    "            nn.Linear(128, 64),\n",
    "            nn.ReLU(),\n",
    "            nn.Linear(64, num_classes),\n",
    "            nn.Softmax(dim=1)\n",
    "        )\n",
    "    \n",
    "    def forward(self, x):\n",
    "        return self.linear_relu_stack(x)\n",
    "\n",
    "input_size = X_train.shape[1]  # Number of features\n",
    "num_classes = len(y.unique())  # Number of target classes\n",
    "model = MentalHealthClassifier(input_size, num_classes).to(device)\n",
    "print(model)"
   ],
   "metadata": {
    "collapsed": false,
    "ExecuteTime": {
     "end_time": "2024-11-06T21:40:45.304185Z",
     "start_time": "2024-11-06T21:40:45.291350Z"
    }
   },
   "id": "a61355c9956f15d2"
  },
  {
   "cell_type": "markdown",
   "source": [
    "### Training and testing loops"
   ],
   "metadata": {
    "collapsed": false
   },
   "id": "fddaed94910438d7"
  },
  {
   "cell_type": "code",
   "execution_count": 366,
   "outputs": [],
   "source": [
    "def train_loop(dataloader, model, loss_fn, optimizer):\n",
    "    size = len(dataloader.dataset)\n",
    "    model.train()\n",
    "    for batch, (X, y) in enumerate(dataloader):\n",
    "        # Forward pass\n",
    "        pred = model(X)\n",
    "        loss = loss_fn(pred, y)\n",
    "\n",
    "        # Backpropagation\n",
    "        loss.backward()\n",
    "        optimizer.step()\n",
    "        optimizer.zero_grad()\n",
    "\n",
    "        if batch % 100 == 0:\n",
    "            loss, current = loss.item(), batch * batch_size + len(X)\n",
    "            print(f\"loss: {loss:>7f}  [{current:>5d}/{size:>5d}]\")\n",
    "\n",
    "\n",
    "def test_loop(dataloader, model, loss_fn):\n",
    "    model.eval()\n",
    "    size = len(dataloader.dataset)\n",
    "    num_batches = len(dataloader)\n",
    "    test_loss, correct = 0, 0\n",
    "\n",
    "    # Evaluating the model with torch.no_grad() ensures that no gradients are computed during test mode\n",
    "    # also serves to reduce unnecessary gradient computations and memory usage for tensors with requires_grad=True\n",
    "    with torch.no_grad():\n",
    "        for X, y in dataloader:\n",
    "            pred = model(X)\n",
    "            test_loss += loss_fn(pred, y).item()\n",
    "            correct += (pred.argmax(1) == y).type(torch.float).sum().item()\n",
    "\n",
    "    test_loss /= num_batches\n",
    "    correct /= size\n",
    "    print(f\"Test Error: \\n Accuracy: {(100*correct):>0.1f}%, Avg loss: {test_loss:>8f} \\n\")"
   ],
   "metadata": {
    "collapsed": false,
    "ExecuteTime": {
     "end_time": "2024-11-06T21:31:31.510895Z",
     "start_time": "2024-11-06T21:31:31.507589Z"
    }
   },
   "id": "b551e23d4f1097bb"
  },
  {
   "cell_type": "markdown",
   "source": [
    "## Training of Neural Network model"
   ],
   "metadata": {
    "collapsed": false
   },
   "id": "ea71f3ecd1511cd6"
  },
  {
   "cell_type": "code",
   "execution_count": 367,
   "outputs": [
    {
     "name": "stdout",
     "output_type": "stream",
     "text": [
      "Epoch 1\n",
      "-------------------------------\n",
      "loss: 1.104353  [   64/63899]\n",
      "loss: 0.958752  [ 6464/63899]\n",
      "loss: 0.970720  [12864/63899]\n",
      "loss: 0.836235  [19264/63899]\n",
      "loss: 0.989137  [25664/63899]\n",
      "loss: 0.870260  [32064/63899]\n",
      "loss: 0.908456  [38464/63899]\n",
      "loss: 0.936252  [44864/63899]\n",
      "loss: 0.921477  [51264/63899]\n",
      "loss: 0.851948  [57664/63899]\n",
      "Test Error: \n",
      " Accuracy: 67.6%, Avg loss: 0.864116 \n",
      "\n",
      "Epoch 2\n",
      "-------------------------------\n",
      "loss: 0.916796  [   64/63899]\n",
      "loss: 0.880595  [ 6464/63899]\n",
      "loss: 0.816753  [12864/63899]\n",
      "loss: 0.884217  [19264/63899]\n",
      "loss: 0.966761  [25664/63899]\n",
      "loss: 0.799839  [32064/63899]\n",
      "loss: 0.838053  [38464/63899]\n",
      "loss: 0.861884  [44864/63899]\n",
      "loss: 0.901310  [51264/63899]\n",
      "loss: 0.842948  [57664/63899]\n",
      "Test Error: \n",
      " Accuracy: 68.6%, Avg loss: 0.851460 \n",
      "\n",
      "Epoch 3\n",
      "-------------------------------\n",
      "loss: 0.824647  [   64/63899]\n",
      "loss: 0.910886  [ 6464/63899]\n",
      "loss: 0.844478  [12864/63899]\n",
      "loss: 0.834769  [19264/63899]\n",
      "loss: 0.800798  [25664/63899]\n",
      "loss: 0.809346  [32064/63899]\n",
      "loss: 0.823233  [38464/63899]\n",
      "loss: 0.795267  [44864/63899]\n",
      "loss: 0.813080  [51264/63899]\n",
      "loss: 0.894036  [57664/63899]\n",
      "Test Error: \n",
      " Accuracy: 69.0%, Avg loss: 0.848258 \n",
      "\n",
      "Epoch 4\n",
      "-------------------------------\n",
      "loss: 0.819674  [   64/63899]\n",
      "loss: 0.861651  [ 6464/63899]\n",
      "loss: 0.849899  [12864/63899]\n",
      "loss: 0.877879  [19264/63899]\n",
      "loss: 0.898014  [25664/63899]\n",
      "loss: 0.835787  [32064/63899]\n",
      "loss: 0.940424  [38464/63899]\n",
      "loss: 0.807403  [44864/63899]\n",
      "loss: 0.783351  [51264/63899]\n",
      "loss: 0.856706  [57664/63899]\n",
      "Test Error: \n",
      " Accuracy: 69.4%, Avg loss: 0.845551 \n",
      "\n",
      "Epoch 5\n",
      "-------------------------------\n",
      "loss: 0.892752  [   64/63899]\n",
      "loss: 0.775075  [ 6464/63899]\n",
      "loss: 0.800486  [12864/63899]\n",
      "loss: 0.865289  [19264/63899]\n",
      "loss: 0.892494  [25664/63899]\n",
      "loss: 0.815925  [32064/63899]\n",
      "loss: 0.824108  [38464/63899]\n",
      "loss: 0.807004  [44864/63899]\n",
      "loss: 0.951017  [51264/63899]\n",
      "loss: 0.861975  [57664/63899]\n",
      "Test Error: \n",
      " Accuracy: 68.8%, Avg loss: 0.852088 \n",
      "\n",
      "Epoch 6\n",
      "-------------------------------\n",
      "loss: 0.870162  [   64/63899]\n",
      "loss: 0.752288  [ 6464/63899]\n",
      "loss: 0.877509  [12864/63899]\n",
      "loss: 0.868330  [19264/63899]\n",
      "loss: 0.865944  [25664/63899]\n",
      "loss: 0.882094  [32064/63899]\n",
      "loss: 0.913768  [38464/63899]\n",
      "loss: 0.828020  [44864/63899]\n",
      "loss: 0.889353  [51264/63899]\n",
      "loss: 0.846257  [57664/63899]\n",
      "Test Error: \n",
      " Accuracy: 69.4%, Avg loss: 0.844035 \n",
      "\n",
      "Epoch 7\n",
      "-------------------------------\n",
      "loss: 0.858857  [   64/63899]\n",
      "loss: 0.849409  [ 6464/63899]\n",
      "loss: 0.854442  [12864/63899]\n",
      "loss: 0.952373  [19264/63899]\n",
      "loss: 0.820237  [25664/63899]\n",
      "loss: 0.856371  [32064/63899]\n",
      "loss: 0.912946  [38464/63899]\n",
      "loss: 0.838258  [44864/63899]\n",
      "loss: 0.822907  [51264/63899]\n",
      "loss: 0.871327  [57664/63899]\n",
      "Test Error: \n",
      " Accuracy: 69.6%, Avg loss: 0.842861 \n",
      "\n",
      "Epoch 8\n",
      "-------------------------------\n",
      "loss: 0.763720  [   64/63899]\n",
      "loss: 0.856643  [ 6464/63899]\n",
      "loss: 0.783058  [12864/63899]\n",
      "loss: 0.937516  [19264/63899]\n",
      "loss: 0.887296  [25664/63899]\n",
      "loss: 0.889678  [32064/63899]\n",
      "loss: 0.798160  [38464/63899]\n",
      "loss: 0.863866  [44864/63899]\n",
      "loss: 0.910258  [51264/63899]\n",
      "loss: 0.847158  [57664/63899]\n",
      "Test Error: \n",
      " Accuracy: 69.1%, Avg loss: 0.847218 \n",
      "\n",
      "Epoch 9\n",
      "-------------------------------\n",
      "loss: 0.822712  [   64/63899]\n",
      "loss: 0.878345  [ 6464/63899]\n",
      "loss: 0.822389  [12864/63899]\n",
      "loss: 0.952155  [19264/63899]\n",
      "loss: 0.852885  [25664/63899]\n",
      "loss: 0.883084  [32064/63899]\n",
      "loss: 0.796989  [38464/63899]\n",
      "loss: 0.816963  [44864/63899]\n",
      "loss: 0.757515  [51264/63899]\n",
      "loss: 0.848333  [57664/63899]\n",
      "Test Error: \n",
      " Accuracy: 69.7%, Avg loss: 0.843241 \n",
      "\n",
      "Epoch 10\n",
      "-------------------------------\n",
      "loss: 0.845891  [   64/63899]\n",
      "loss: 0.784039  [ 6464/63899]\n",
      "loss: 0.783186  [12864/63899]\n",
      "loss: 0.871028  [19264/63899]\n",
      "loss: 0.844996  [25664/63899]\n",
      "loss: 0.785218  [32064/63899]\n",
      "loss: 0.890388  [38464/63899]\n",
      "loss: 0.784225  [44864/63899]\n",
      "loss: 0.913484  [51264/63899]\n",
      "loss: 0.827733  [57664/63899]\n",
      "Test Error: \n",
      " Accuracy: 69.6%, Avg loss: 0.843737 \n",
      "\n",
      "Epoch 11\n",
      "-------------------------------\n",
      "loss: 0.821739  [   64/63899]\n",
      "loss: 0.887097  [ 6464/63899]\n",
      "loss: 0.799962  [12864/63899]\n",
      "loss: 0.769456  [19264/63899]\n",
      "loss: 0.839446  [25664/63899]\n",
      "loss: 0.794481  [32064/63899]\n",
      "loss: 0.947459  [38464/63899]\n",
      "loss: 0.922097  [44864/63899]\n",
      "loss: 0.812567  [51264/63899]\n",
      "loss: 0.833333  [57664/63899]\n",
      "Test Error: \n",
      " Accuracy: 69.9%, Avg loss: 0.839757 \n",
      "\n",
      "Epoch 12\n",
      "-------------------------------\n",
      "loss: 0.787723  [   64/63899]\n",
      "loss: 0.868109  [ 6464/63899]\n",
      "loss: 0.824615  [12864/63899]\n",
      "loss: 0.881841  [19264/63899]\n",
      "loss: 0.876584  [25664/63899]\n",
      "loss: 0.852632  [32064/63899]\n",
      "loss: 0.745589  [38464/63899]\n",
      "loss: 0.965055  [44864/63899]\n",
      "loss: 0.904350  [51264/63899]\n",
      "loss: 0.813598  [57664/63899]\n",
      "Test Error: \n",
      " Accuracy: 69.5%, Avg loss: 0.842587 \n",
      "\n",
      "Epoch 13\n",
      "-------------------------------\n",
      "loss: 0.794993  [   64/63899]\n",
      "loss: 0.740544  [ 6464/63899]\n",
      "loss: 0.812639  [12864/63899]\n",
      "loss: 0.847724  [19264/63899]\n",
      "loss: 0.782651  [25664/63899]\n",
      "loss: 0.832681  [32064/63899]\n",
      "loss: 0.853366  [38464/63899]\n",
      "loss: 0.912632  [44864/63899]\n",
      "loss: 0.821140  [51264/63899]\n",
      "loss: 0.938216  [57664/63899]\n",
      "Test Error: \n",
      " Accuracy: 69.5%, Avg loss: 0.843421 \n",
      "\n",
      "Epoch 14\n",
      "-------------------------------\n",
      "loss: 0.800588  [   64/63899]\n",
      "loss: 0.795820  [ 6464/63899]\n",
      "loss: 0.921649  [12864/63899]\n",
      "loss: 0.858654  [19264/63899]\n",
      "loss: 0.825475  [25664/63899]\n",
      "loss: 0.843765  [32064/63899]\n",
      "loss: 0.765898  [38464/63899]\n",
      "loss: 0.833534  [44864/63899]\n",
      "loss: 0.787230  [51264/63899]\n",
      "loss: 0.896704  [57664/63899]\n",
      "Test Error: \n",
      " Accuracy: 69.7%, Avg loss: 0.841379 \n",
      "\n",
      "Epoch 15\n",
      "-------------------------------\n",
      "loss: 0.898967  [   64/63899]\n",
      "loss: 0.848767  [ 6464/63899]\n",
      "loss: 0.750883  [12864/63899]\n",
      "loss: 0.864471  [19264/63899]\n",
      "loss: 0.853977  [25664/63899]\n",
      "loss: 0.885290  [32064/63899]\n",
      "loss: 0.855665  [38464/63899]\n",
      "loss: 0.795982  [44864/63899]\n",
      "loss: 0.873885  [51264/63899]\n",
      "loss: 0.800039  [57664/63899]\n",
      "Test Error: \n",
      " Accuracy: 69.6%, Avg loss: 0.845628 \n",
      "\n",
      "Epoch 16\n",
      "-------------------------------\n",
      "loss: 0.823273  [   64/63899]\n",
      "loss: 0.776364  [ 6464/63899]\n",
      "loss: 0.774988  [12864/63899]\n",
      "loss: 0.899240  [19264/63899]\n",
      "loss: 0.834195  [25664/63899]\n",
      "loss: 0.856683  [32064/63899]\n",
      "loss: 0.823420  [38464/63899]\n",
      "loss: 0.815754  [44864/63899]\n",
      "loss: 0.903970  [51264/63899]\n",
      "loss: 0.823474  [57664/63899]\n",
      "Test Error: \n",
      " Accuracy: 69.3%, Avg loss: 0.843352 \n",
      "\n",
      "Epoch 17\n",
      "-------------------------------\n",
      "loss: 0.867526  [   64/63899]\n",
      "loss: 0.913435  [ 6464/63899]\n",
      "loss: 0.881542  [12864/63899]\n",
      "loss: 0.793856  [19264/63899]\n",
      "loss: 0.812503  [25664/63899]\n",
      "loss: 0.786217  [32064/63899]\n",
      "loss: 0.882936  [38464/63899]\n",
      "loss: 0.719251  [44864/63899]\n",
      "loss: 0.914380  [51264/63899]\n",
      "loss: 0.873914  [57664/63899]\n",
      "Test Error: \n",
      " Accuracy: 69.8%, Avg loss: 0.841344 \n",
      "\n",
      "Epoch 18\n",
      "-------------------------------\n",
      "loss: 0.806596  [   64/63899]\n",
      "loss: 0.741612  [ 6464/63899]\n",
      "loss: 0.860692  [12864/63899]\n",
      "loss: 0.842836  [19264/63899]\n",
      "loss: 0.839297  [25664/63899]\n",
      "loss: 0.835900  [32064/63899]\n",
      "loss: 0.872824  [38464/63899]\n",
      "loss: 0.840921  [44864/63899]\n",
      "loss: 0.825343  [51264/63899]\n",
      "loss: 0.813136  [57664/63899]\n",
      "Test Error: \n",
      " Accuracy: 69.9%, Avg loss: 0.840228 \n",
      "\n",
      "Epoch 19\n",
      "-------------------------------\n",
      "loss: 0.819096  [   64/63899]\n",
      "loss: 0.862718  [ 6464/63899]\n",
      "loss: 0.714077  [12864/63899]\n",
      "loss: 1.047379  [19264/63899]\n",
      "loss: 0.868276  [25664/63899]\n",
      "loss: 0.748074  [32064/63899]\n",
      "loss: 0.796987  [38464/63899]\n",
      "loss: 0.774060  [44864/63899]\n",
      "loss: 0.799157  [51264/63899]\n",
      "loss: 0.778209  [57664/63899]\n",
      "Test Error: \n",
      " Accuracy: 69.7%, Avg loss: 0.840716 \n",
      "\n",
      "Epoch 20\n",
      "-------------------------------\n",
      "loss: 0.854282  [   64/63899]\n",
      "loss: 0.925698  [ 6464/63899]\n",
      "loss: 0.870401  [12864/63899]\n",
      "loss: 0.764543  [19264/63899]\n",
      "loss: 0.788790  [25664/63899]\n",
      "loss: 0.889559  [32064/63899]\n",
      "loss: 0.857217  [38464/63899]\n",
      "loss: 0.823042  [44864/63899]\n",
      "loss: 0.792410  [51264/63899]\n",
      "loss: 0.749545  [57664/63899]\n",
      "Test Error: \n",
      " Accuracy: 70.0%, Avg loss: 0.838844 \n",
      "\n",
      "Epoch 21\n",
      "-------------------------------\n",
      "loss: 0.741649  [   64/63899]\n",
      "loss: 0.851591  [ 6464/63899]\n",
      "loss: 0.888959  [12864/63899]\n",
      "loss: 0.813458  [19264/63899]\n",
      "loss: 0.765931  [25664/63899]\n",
      "loss: 0.824039  [32064/63899]\n",
      "loss: 0.895465  [38464/63899]\n",
      "loss: 0.885236  [44864/63899]\n",
      "loss: 0.859036  [51264/63899]\n",
      "loss: 0.819184  [57664/63899]\n",
      "Test Error: \n",
      " Accuracy: 69.5%, Avg loss: 0.843612 \n",
      "\n",
      "Epoch 22\n",
      "-------------------------------\n",
      "loss: 0.832709  [   64/63899]\n",
      "loss: 0.803595  [ 6464/63899]\n",
      "loss: 0.783502  [12864/63899]\n",
      "loss: 0.916798  [19264/63899]\n",
      "loss: 0.845105  [25664/63899]\n",
      "loss: 0.731951  [32064/63899]\n",
      "loss: 0.838493  [38464/63899]\n",
      "loss: 0.794540  [44864/63899]\n",
      "loss: 0.847052  [51264/63899]\n",
      "loss: 0.875185  [57664/63899]\n",
      "Test Error: \n",
      " Accuracy: 69.5%, Avg loss: 0.843702 \n",
      "\n",
      "Epoch 23\n",
      "-------------------------------\n",
      "loss: 0.776795  [   64/63899]\n",
      "loss: 0.808803  [ 6464/63899]\n",
      "loss: 0.789395  [12864/63899]\n",
      "loss: 0.756240  [19264/63899]\n",
      "loss: 0.902782  [25664/63899]\n",
      "loss: 0.811992  [32064/63899]\n",
      "loss: 0.788671  [38464/63899]\n",
      "loss: 0.753009  [44864/63899]\n",
      "loss: 0.743137  [51264/63899]\n",
      "loss: 0.844561  [57664/63899]\n",
      "Test Error: \n",
      " Accuracy: 69.8%, Avg loss: 0.840934 \n",
      "\n",
      "Epoch 24\n",
      "-------------------------------\n",
      "loss: 0.796770  [   64/63899]\n",
      "loss: 0.738715  [ 6464/63899]\n",
      "loss: 0.794743  [12864/63899]\n",
      "loss: 0.782090  [19264/63899]\n",
      "loss: 0.803087  [25664/63899]\n",
      "loss: 0.816630  [32064/63899]\n",
      "loss: 0.803090  [38464/63899]\n",
      "loss: 0.754328  [44864/63899]\n",
      "loss: 0.876609  [51264/63899]\n",
      "loss: 0.853790  [57664/63899]\n",
      "Test Error: \n",
      " Accuracy: 69.7%, Avg loss: 0.842246 \n",
      "\n",
      "Epoch 25\n",
      "-------------------------------\n",
      "loss: 0.807446  [   64/63899]\n",
      "loss: 0.721248  [ 6464/63899]\n",
      "loss: 0.857226  [12864/63899]\n",
      "loss: 0.858351  [19264/63899]\n",
      "loss: 0.834815  [25664/63899]\n",
      "loss: 0.864632  [32064/63899]\n",
      "loss: 0.827099  [38464/63899]\n",
      "loss: 0.735565  [44864/63899]\n",
      "loss: 0.831111  [51264/63899]\n",
      "loss: 0.784556  [57664/63899]\n",
      "Test Error: \n",
      " Accuracy: 69.8%, Avg loss: 0.842497 \n",
      "\n",
      "Done!\n"
     ]
    }
   ],
   "source": [
    "loss_fn = nn.CrossEntropyLoss()\n",
    "optimizer = torch.optim.Adam(model.parameters(), lr=learning_rate)\n",
    "\n",
    "for t in range(epochs):\n",
    "    print(f\"Epoch {t+1}\\n-------------------------------\")\n",
    "    train_loop(train_loader, model, loss_fn, optimizer)\n",
    "    test_loop(test_loader, model, loss_fn)\n",
    "print(\"Done!\")"
   ],
   "metadata": {
    "collapsed": false,
    "ExecuteTime": {
     "end_time": "2024-11-06T21:32:59.198898Z",
     "start_time": "2024-11-06T21:31:31.509544Z"
    }
   },
   "id": "a1d7e4740209e651"
  },
  {
   "cell_type": "markdown",
   "source": [
    "## Evaluation"
   ],
   "metadata": {
    "collapsed": false
   },
   "id": "240fd2a797d0ef2d"
  },
  {
   "cell_type": "code",
   "execution_count": 368,
   "outputs": [],
   "source": [
    "y_pred_prob = []\n",
    "y_pred = []\n",
    "y_true = []\n",
    "model.eval()\n",
    "with torch.inference_mode():\n",
    "    for X, y in test_loader:\n",
    "        prob = model(X).to('cpu')\n",
    "        y_pred_prob += prob.tolist()\n",
    "        pred = prob.argmax(axis=1)\n",
    "        y_pred += pred.tolist()\n",
    "        y_true += y.to('cpu').tolist()"
   ],
   "metadata": {
    "collapsed": false,
    "ExecuteTime": {
     "end_time": "2024-11-06T21:32:59.867857Z",
     "start_time": "2024-11-06T21:32:59.205786Z"
    }
   },
   "id": "38003da660faea9a"
  },
  {
   "cell_type": "code",
   "execution_count": 369,
   "outputs": [
    {
     "data": {
      "text/plain": "0.6980281690140845"
     },
     "execution_count": 369,
     "metadata": {},
     "output_type": "execute_result"
    }
   ],
   "source": [
    "accuracy_score(y_true, y_pred)"
   ],
   "metadata": {
    "collapsed": false,
    "ExecuteTime": {
     "end_time": "2024-11-06T21:32:59.877751Z",
     "start_time": "2024-11-06T21:32:59.870371Z"
    }
   },
   "id": "442497f7ce748d7d"
  },
  {
   "cell_type": "code",
   "execution_count": 370,
   "outputs": [
    {
     "data": {
      "text/plain": "0.6936582354872839"
     },
     "execution_count": 370,
     "metadata": {},
     "output_type": "execute_result"
    }
   ],
   "source": [
    "f1_score(y_true, y_pred, average='weighted')"
   ],
   "metadata": {
    "collapsed": false,
    "ExecuteTime": {
     "end_time": "2024-11-06T21:32:59.907408Z",
     "start_time": "2024-11-06T21:32:59.878843Z"
    }
   },
   "id": "bf0117ead57a356c"
  },
  {
   "cell_type": "code",
   "execution_count": 371,
   "outputs": [
    {
     "data": {
      "text/plain": "{'0': {'precision': 0.6752399232245682,\n  'recall': 0.49985791418016484,\n  'f1-score': 0.5744611365120836,\n  'support': 3519.0},\n '1': {'precision': 0.6992884783422794,\n  'recall': 0.7521482277121375,\n  'f1-score': 0.7247558056795395,\n  'support': 7448.0},\n '2': {'precision': 0.7072214965478634,\n  'recall': 0.7567891373801917,\n  'f1-score': 0.7311662004437156,\n  'support': 5008.0},\n 'accuracy': 0.6980281690140845,\n 'macro avg': {'precision': 0.6939166327049037,\n  'recall': 0.6695984264241647,\n  'f1-score': 0.6767943808784462,\n  'support': 15975.0},\n 'weighted avg': {'precision': 0.6964779424871519,\n  'recall': 0.6980281690140845,\n  'f1-score': 0.6936582354872839,\n  'support': 15975.0}}"
     },
     "execution_count": 371,
     "metadata": {},
     "output_type": "execute_result"
    }
   ],
   "source": [
    "classification_report(y_true, y_pred, output_dict=True)"
   ],
   "metadata": {
    "collapsed": false,
    "ExecuteTime": {
     "end_time": "2024-11-06T21:32:59.912017Z",
     "start_time": "2024-11-06T21:32:59.891425Z"
    }
   },
   "id": "d5ce0993bb7e1cc1"
  },
  {
   "cell_type": "code",
   "execution_count": 372,
   "outputs": [
    {
     "data": {
      "text/plain": "0.8525919493674073"
     },
     "execution_count": 372,
     "metadata": {},
     "output_type": "execute_result"
    }
   ],
   "source": [
    "roc_auc_score(y_true, y_pred_prob, multi_class='ovo')"
   ],
   "metadata": {
    "collapsed": false,
    "ExecuteTime": {
     "end_time": "2024-11-06T21:32:59.927965Z",
     "start_time": "2024-11-06T21:32:59.909729Z"
    }
   },
   "id": "a2bacb2f4a374d1b"
  },
  {
   "cell_type": "markdown",
   "source": [
    "## Save trained model weights"
   ],
   "metadata": {
    "collapsed": false
   },
   "id": "835a39dbdc137c03"
  },
  {
   "cell_type": "code",
   "execution_count": 374,
   "outputs": [],
   "source": [
    "torch.save(model.state_dict(), './nn_model.pt')"
   ],
   "metadata": {
    "collapsed": false,
    "ExecuteTime": {
     "end_time": "2024-11-06T21:37:02.534936Z",
     "start_time": "2024-11-06T21:37:02.518226Z"
    }
   },
   "id": "7226f411ee409711"
  },
  {
   "cell_type": "markdown",
   "source": [
    "### Load model"
   ],
   "metadata": {
    "collapsed": false
   },
   "id": "10e5bfa7270f3997"
  },
  {
   "cell_type": "code",
   "execution_count": 10,
   "outputs": [
    {
     "data": {
      "text/plain": "MentalHealthClassifier(\n  (linear_relu_stack): Sequential(\n    (0): Linear(in_features=26, out_features=256, bias=True)\n    (1): Tanh()\n    (2): Linear(in_features=256, out_features=128, bias=True)\n    (3): Tanh()\n    (4): Linear(in_features=128, out_features=64, bias=True)\n    (5): ReLU()\n    (6): Linear(in_features=64, out_features=3, bias=True)\n    (7): Softmax(dim=1)\n  )\n)"
     },
     "execution_count": 10,
     "metadata": {},
     "output_type": "execute_result"
    }
   ],
   "source": [
    "model.load_state_dict(torch.load('./nn_model.pt', weights_only=True))\n",
    "model.eval()"
   ],
   "metadata": {
    "collapsed": false,
    "ExecuteTime": {
     "end_time": "2024-11-06T21:40:50.003879Z",
     "start_time": "2024-11-06T21:40:49.982590Z"
    }
   },
   "id": "a9be3c7344386db4"
  }
 ],
 "metadata": {
  "kernelspec": {
   "display_name": "Python 3",
   "language": "python",
   "name": "python3"
  },
  "language_info": {
   "codemirror_mode": {
    "name": "ipython",
    "version": 2
   },
   "file_extension": ".py",
   "mimetype": "text/x-python",
   "name": "python",
   "nbconvert_exporter": "python",
   "pygments_lexer": "ipython2",
   "version": "2.7.6"
  }
 },
 "nbformat": 4,
 "nbformat_minor": 5
}
