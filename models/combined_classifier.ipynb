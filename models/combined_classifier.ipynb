{
 "cells": [
  {
   "cell_type": "code",
   "execution_count": 32,
   "id": "initial_id",
   "metadata": {
    "collapsed": true,
    "ExecuteTime": {
     "end_time": "2024-11-10T21:42:14.483415Z",
     "start_time": "2024-11-10T21:42:14.355305Z"
    }
   },
   "outputs": [],
   "source": [
    "import pandas as pd\n",
    "import torch\n",
    "\n",
    "from statistics import mode\n",
    "\n",
    "from sklearn.metrics import accuracy_score\n",
    "from sklearn.model_selection import train_test_split\n",
    "from sklearn.preprocessing import LabelEncoder\n",
    "from torch import nn\n",
    "from pycaret.classification import setup, load_model, predict_model"
   ]
  },
  {
   "cell_type": "code",
   "execution_count": 33,
   "outputs": [],
   "source": [
    "df = pd.read_csv('../LLCP2023_clean.csv', keep_default_na=False, dtype='category')"
   ],
   "metadata": {
    "collapsed": false,
    "ExecuteTime": {
     "end_time": "2024-11-10T21:42:14.493922Z",
     "start_time": "2024-11-10T21:42:14.366593Z"
    }
   },
   "id": "b546ff92f7ed7774"
  },
  {
   "cell_type": "code",
   "execution_count": 34,
   "outputs": [],
   "source": [
    "label_encoders = {}\n",
    "for column in df.columns:\n",
    "    le = LabelEncoder()\n",
    "    df[column] = le.fit_transform(df[column])\n",
    "    label_encoders[column] = le"
   ],
   "metadata": {
    "collapsed": false,
    "ExecuteTime": {
     "end_time": "2024-11-10T21:42:14.652064Z",
     "start_time": "2024-11-10T21:42:14.494525Z"
    }
   },
   "id": "2cc3b0df137d562c"
  },
  {
   "cell_type": "code",
   "execution_count": 35,
   "outputs": [],
   "source": [
    "X = df.drop(columns=['_MENT14D'])\n",
    "y = df['_MENT14D']\n",
    "\n",
    "X_train, X_test, y_train, y_test = train_test_split(X, y, test_size=0.2, random_state=42, stratify=y)"
   ],
   "metadata": {
    "collapsed": false,
    "ExecuteTime": {
     "end_time": "2024-11-10T21:42:14.688Z",
     "start_time": "2024-11-10T21:42:14.652693Z"
    }
   },
   "id": "f9ea14092b3f3138"
  },
  {
   "cell_type": "markdown",
   "source": [
    "## Load pretrained models"
   ],
   "metadata": {
    "collapsed": false
   },
   "id": "91a550f1992b1978"
  },
  {
   "cell_type": "markdown",
   "source": [
    "### Pycaret"
   ],
   "metadata": {
    "collapsed": false
   },
   "id": "3e651c6913dc7ca4"
  },
  {
   "cell_type": "code",
   "execution_count": 36,
   "outputs": [
    {
     "name": "stdout",
     "output_type": "stream",
     "text": [
      "Transformation Pipeline and Model Successfully Loaded\n"
     ]
    }
   ],
   "source": [
    "pycaret_model = load_model('../model-weights/pycaret_model')"
   ],
   "metadata": {
    "collapsed": false,
    "ExecuteTime": {
     "end_time": "2024-11-10T21:42:14.710901Z",
     "start_time": "2024-11-10T21:42:14.689099Z"
    }
   },
   "id": "3db2cb61a28ab30"
  },
  {
   "cell_type": "markdown",
   "source": [
    "### Neural Network"
   ],
   "metadata": {
    "collapsed": false
   },
   "id": "1f66625ff4f8085b"
  },
  {
   "cell_type": "code",
   "execution_count": 37,
   "outputs": [],
   "source": [
    "class MentalHealthClassifier(nn.Module):\n",
    "    def __init__(self, input_size, num_classes):\n",
    "        super().__init__()\n",
    "        self.linear_relu_stack = nn.Sequential(\n",
    "            nn.Linear(input_size, 256),\n",
    "            nn.Tanh(),\n",
    "            nn.Linear(256, 128),\n",
    "            nn.Tanh(),\n",
    "            nn.Linear(128, 64),\n",
    "            nn.ReLU(),\n",
    "            nn.Linear(64, num_classes),\n",
    "            nn.Softmax(dim=1)\n",
    "        )\n",
    "\n",
    "    def forward(self, x):\n",
    "        return self.linear_relu_stack(x)\n",
    "\n",
    "\n",
    "input_size = 26  # Number of features\n",
    "num_classes = 3  # Number of target classes\n",
    "nn_model = MentalHealthClassifier(input_size, num_classes)"
   ],
   "metadata": {
    "collapsed": false,
    "ExecuteTime": {
     "end_time": "2024-11-10T21:42:14.715627Z",
     "start_time": "2024-11-10T21:42:14.711771Z"
    }
   },
   "id": "696fe424bd580ab4"
  },
  {
   "cell_type": "code",
   "execution_count": 38,
   "outputs": [
    {
     "data": {
      "text/plain": "MentalHealthClassifier(\n  (linear_relu_stack): Sequential(\n    (0): Linear(in_features=26, out_features=256, bias=True)\n    (1): Tanh()\n    (2): Linear(in_features=256, out_features=128, bias=True)\n    (3): Tanh()\n    (4): Linear(in_features=128, out_features=64, bias=True)\n    (5): ReLU()\n    (6): Linear(in_features=64, out_features=3, bias=True)\n    (7): Softmax(dim=1)\n  )\n)"
     },
     "execution_count": 38,
     "metadata": {},
     "output_type": "execute_result"
    }
   ],
   "source": [
    "nn_model.load_state_dict(\n",
    "    torch.load('../model-weights/nn_model.pt', map_location=torch.device('cpu'), weights_only=True))\n",
    "nn_model.eval()"
   ],
   "metadata": {
    "collapsed": false,
    "ExecuteTime": {
     "end_time": "2024-11-10T21:42:14.722580Z",
     "start_time": "2024-11-10T21:42:14.714551Z"
    }
   },
   "id": "1d3370945d12cd2f"
  },
  {
   "cell_type": "markdown",
   "source": [
    "## Combine models"
   ],
   "metadata": {
    "collapsed": false
   },
   "id": "bbe94520bad70e37"
  },
  {
   "cell_type": "code",
   "execution_count": 39,
   "outputs": [],
   "source": [
    "pred_pycaret = predict_model(pycaret_model, data=X_test)['prediction_label']"
   ],
   "metadata": {
    "collapsed": false,
    "ExecuteTime": {
     "end_time": "2024-11-10T21:42:15.091124Z",
     "start_time": "2024-11-10T21:42:14.730748Z"
    }
   },
   "id": "3adc851c964e9566"
  },
  {
   "cell_type": "code",
   "execution_count": 40,
   "outputs": [],
   "source": [
    "pred_pycaret = label_encoders['_MENT14D'].transform(pred_pycaret)"
   ],
   "metadata": {
    "collapsed": false,
    "ExecuteTime": {
     "end_time": "2024-11-10T21:42:15.095884Z",
     "start_time": "2024-11-10T21:42:15.092167Z"
    }
   },
   "id": "ceeb4db4de9ca534"
  },
  {
   "cell_type": "code",
   "execution_count": 41,
   "outputs": [
    {
     "data": {
      "text/plain": "array([0, 0, 0, ..., 0, 0, 0])"
     },
     "execution_count": 41,
     "metadata": {},
     "output_type": "execute_result"
    }
   ],
   "source": [
    "pred_pycaret"
   ],
   "metadata": {
    "collapsed": false,
    "ExecuteTime": {
     "end_time": "2024-11-10T21:42:15.097784Z",
     "start_time": "2024-11-10T21:42:15.094473Z"
    }
   },
   "id": "bcafa03171bf022f"
  },
  {
   "cell_type": "code",
   "execution_count": 42,
   "outputs": [],
   "source": [
    "pred_nn = nn_model(torch.tensor(X_test.values, dtype=torch.float32)).argmax(axis=1).numpy()"
   ],
   "metadata": {
    "collapsed": false,
    "ExecuteTime": {
     "end_time": "2024-11-10T21:42:15.118471Z",
     "start_time": "2024-11-10T21:42:15.097208Z"
    }
   },
   "id": "978833ae98936828"
  },
  {
   "cell_type": "code",
   "execution_count": 43,
   "outputs": [
    {
     "data": {
      "text/plain": "array([2, 1, 0, ..., 0, 0, 2])"
     },
     "execution_count": 43,
     "metadata": {},
     "output_type": "execute_result"
    }
   ],
   "source": [
    "pred_nn"
   ],
   "metadata": {
    "collapsed": false,
    "ExecuteTime": {
     "end_time": "2024-11-10T21:42:15.124Z",
     "start_time": "2024-11-10T21:42:15.116921Z"
    }
   },
   "id": "4abdf739716bfe38"
  },
  {
   "cell_type": "code",
   "execution_count": 44,
   "outputs": [],
   "source": [
    "combined_predictions = pd.concat([\n",
    "    pd.Series(pred_nn, name=\"nn_pred\"),\n",
    "    pd.Series(pred_pycaret, name=\"pycaret_pred\")\n",
    "], axis=1).apply(mode, axis=1)"
   ],
   "metadata": {
    "collapsed": false,
    "ExecuteTime": {
     "end_time": "2024-11-10T21:42:15.171699Z",
     "start_time": "2024-11-10T21:42:15.167695Z"
    }
   },
   "id": "7a967eefc1f4010d"
  },
  {
   "cell_type": "code",
   "execution_count": 45,
   "outputs": [
    {
     "data": {
      "text/plain": "0        2\n1        1\n2        0\n3        0\n4        2\n        ..\n16085    2\n16086    2\n16087    0\n16088    0\n16089    2\nLength: 16090, dtype: int64"
     },
     "execution_count": 45,
     "metadata": {},
     "output_type": "execute_result"
    }
   ],
   "source": [
    "combined_predictions"
   ],
   "metadata": {
    "collapsed": false,
    "ExecuteTime": {
     "end_time": "2024-11-10T21:42:15.174067Z",
     "start_time": "2024-11-10T21:42:15.170756Z"
    }
   },
   "id": "1418ed7fa402a065"
  },
  {
   "cell_type": "code",
   "execution_count": 46,
   "outputs": [
    {
     "data": {
      "text/plain": "0.7055313859540087"
     },
     "execution_count": 46,
     "metadata": {},
     "output_type": "execute_result"
    }
   ],
   "source": [
    "accuracy_score(y_test, combined_predictions)"
   ],
   "metadata": {
    "collapsed": false,
    "ExecuteTime": {
     "end_time": "2024-11-10T21:42:15.181265Z",
     "start_time": "2024-11-10T21:42:15.173407Z"
    }
   },
   "id": "bee79f52cf65ddba"
  }
 ],
 "metadata": {
  "kernelspec": {
   "display_name": "Python 3",
   "language": "python",
   "name": "python3"
  },
  "language_info": {
   "codemirror_mode": {
    "name": "ipython",
    "version": 2
   },
   "file_extension": ".py",
   "mimetype": "text/x-python",
   "name": "python",
   "nbconvert_exporter": "python",
   "pygments_lexer": "ipython2",
   "version": "2.7.6"
  }
 },
 "nbformat": 4,
 "nbformat_minor": 5
}
