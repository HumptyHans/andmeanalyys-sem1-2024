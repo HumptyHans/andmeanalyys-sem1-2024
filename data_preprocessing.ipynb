{
 "cells": [
  {
   "cell_type": "markdown",
   "source": [
    "# Data preprocessing"
   ],
   "metadata": {
    "collapsed": false,
    "id": "87759d04d40036bc"
   },
   "id": "87759d04d40036bc"
  },
  {
   "cell_type": "code",
   "execution_count": 3,
   "id": "initial_id",
   "metadata": {
    "collapsed": true,
    "id": "initial_id",
    "executionInfo": {
     "status": "ok",
     "timestamp": 1731180082384,
     "user_tz": -120,
     "elapsed": 223,
     "user": {
      "displayName": "Lana Teras",
      "userId": "04934565953456237748"
     }
    },
    "ExecuteTime": {
     "end_time": "2024-11-09T19:37:21.970146Z",
     "start_time": "2024-11-09T19:37:21.692295Z"
    }
   },
   "outputs": [],
   "source": [
    "import pandas as pd\n",
    "import numpy as np"
   ]
  },
  {
   "cell_type": "code",
   "execution_count": 4,
   "id": "c6965ddcaa5498a2",
   "metadata": {
    "id": "c6965ddcaa5498a2",
    "executionInfo": {
     "status": "ok",
     "timestamp": 1731180087765,
     "user_tz": -120,
     "elapsed": 5116,
     "user": {
      "displayName": "Lana Teras",
      "userId": "04934565953456237748"
     }
    },
    "colab": {
     "base_uri": "https://localhost:8080/",
     "height": 270
    },
    "outputId": "14e8b707-eebd-449b-9b76-d835c2f34cdf",
    "ExecuteTime": {
     "end_time": "2024-11-09T19:37:49.333733Z",
     "start_time": "2024-11-09T19:37:21.695308Z"
    }
   },
   "outputs": [
    {
     "data": {
      "text/plain": "   _STATE  FMONTH        IDATE IMONTH   IDAY    IYEAR  DISPCODE  \\\n0     1.0     1.0  b'03012023'  b'03'  b'01'  b'2023'    1100.0   \n1     1.0     1.0  b'01062023'  b'01'  b'06'  b'2023'    1100.0   \n2     1.0     1.0  b'03082023'  b'03'  b'08'  b'2023'    1100.0   \n3     1.0     1.0  b'03062023'  b'03'  b'06'  b'2023'    1100.0   \n4     1.0     1.0  b'01062023'  b'01'  b'06'  b'2023'    1100.0   \n\n           SEQNO          _PSU  CTELENM1  ...      DROCDY4_  _RFBING6  \\\n0  b'2023000001'  2.023000e+09       1.0  ...  5.397605e-79       1.0   \n1  b'2023000002'  2.023000e+09       1.0  ...  5.397605e-79       1.0   \n2  b'2023000003'  2.023000e+09       1.0  ...  5.397605e-79       1.0   \n3  b'2023000004'  2.023000e+09       1.0  ...  5.397605e-79       1.0   \n4  b'2023000005'  2.023000e+09       1.0  ...  7.000000e+00       1.0   \n\n       _DRNKWK2  _RFDRHV8  _FLSHOT7  _PNEUMO3  _AIDTST4  _RFSEAT2  _RFSEAT3  \\\n0  5.397605e-79       1.0       2.0       2.0       2.0       1.0       1.0   \n1  5.397605e-79       1.0       1.0       1.0       2.0       1.0       1.0   \n2  5.397605e-79       1.0       1.0       1.0       2.0       1.0       1.0   \n3  5.397605e-79       1.0       1.0       1.0       1.0       1.0       1.0   \n4  4.700000e+01       1.0       2.0       1.0       2.0       1.0       1.0   \n\n   _DRNKDRV  \n0       9.0  \n1       9.0  \n2       9.0  \n3       9.0  \n4       2.0  \n\n[5 rows x 350 columns]",
      "text/html": "<div>\n<style scoped>\n    .dataframe tbody tr th:only-of-type {\n        vertical-align: middle;\n    }\n\n    .dataframe tbody tr th {\n        vertical-align: top;\n    }\n\n    .dataframe thead th {\n        text-align: right;\n    }\n</style>\n<table border=\"1\" class=\"dataframe\">\n  <thead>\n    <tr style=\"text-align: right;\">\n      <th></th>\n      <th>_STATE</th>\n      <th>FMONTH</th>\n      <th>IDATE</th>\n      <th>IMONTH</th>\n      <th>IDAY</th>\n      <th>IYEAR</th>\n      <th>DISPCODE</th>\n      <th>SEQNO</th>\n      <th>_PSU</th>\n      <th>CTELENM1</th>\n      <th>...</th>\n      <th>DROCDY4_</th>\n      <th>_RFBING6</th>\n      <th>_DRNKWK2</th>\n      <th>_RFDRHV8</th>\n      <th>_FLSHOT7</th>\n      <th>_PNEUMO3</th>\n      <th>_AIDTST4</th>\n      <th>_RFSEAT2</th>\n      <th>_RFSEAT3</th>\n      <th>_DRNKDRV</th>\n    </tr>\n  </thead>\n  <tbody>\n    <tr>\n      <th>0</th>\n      <td>1.0</td>\n      <td>1.0</td>\n      <td>b'03012023'</td>\n      <td>b'03'</td>\n      <td>b'01'</td>\n      <td>b'2023'</td>\n      <td>1100.0</td>\n      <td>b'2023000001'</td>\n      <td>2.023000e+09</td>\n      <td>1.0</td>\n      <td>...</td>\n      <td>5.397605e-79</td>\n      <td>1.0</td>\n      <td>5.397605e-79</td>\n      <td>1.0</td>\n      <td>2.0</td>\n      <td>2.0</td>\n      <td>2.0</td>\n      <td>1.0</td>\n      <td>1.0</td>\n      <td>9.0</td>\n    </tr>\n    <tr>\n      <th>1</th>\n      <td>1.0</td>\n      <td>1.0</td>\n      <td>b'01062023'</td>\n      <td>b'01'</td>\n      <td>b'06'</td>\n      <td>b'2023'</td>\n      <td>1100.0</td>\n      <td>b'2023000002'</td>\n      <td>2.023000e+09</td>\n      <td>1.0</td>\n      <td>...</td>\n      <td>5.397605e-79</td>\n      <td>1.0</td>\n      <td>5.397605e-79</td>\n      <td>1.0</td>\n      <td>1.0</td>\n      <td>1.0</td>\n      <td>2.0</td>\n      <td>1.0</td>\n      <td>1.0</td>\n      <td>9.0</td>\n    </tr>\n    <tr>\n      <th>2</th>\n      <td>1.0</td>\n      <td>1.0</td>\n      <td>b'03082023'</td>\n      <td>b'03'</td>\n      <td>b'08'</td>\n      <td>b'2023'</td>\n      <td>1100.0</td>\n      <td>b'2023000003'</td>\n      <td>2.023000e+09</td>\n      <td>1.0</td>\n      <td>...</td>\n      <td>5.397605e-79</td>\n      <td>1.0</td>\n      <td>5.397605e-79</td>\n      <td>1.0</td>\n      <td>1.0</td>\n      <td>1.0</td>\n      <td>2.0</td>\n      <td>1.0</td>\n      <td>1.0</td>\n      <td>9.0</td>\n    </tr>\n    <tr>\n      <th>3</th>\n      <td>1.0</td>\n      <td>1.0</td>\n      <td>b'03062023'</td>\n      <td>b'03'</td>\n      <td>b'06'</td>\n      <td>b'2023'</td>\n      <td>1100.0</td>\n      <td>b'2023000004'</td>\n      <td>2.023000e+09</td>\n      <td>1.0</td>\n      <td>...</td>\n      <td>5.397605e-79</td>\n      <td>1.0</td>\n      <td>5.397605e-79</td>\n      <td>1.0</td>\n      <td>1.0</td>\n      <td>1.0</td>\n      <td>1.0</td>\n      <td>1.0</td>\n      <td>1.0</td>\n      <td>9.0</td>\n    </tr>\n    <tr>\n      <th>4</th>\n      <td>1.0</td>\n      <td>1.0</td>\n      <td>b'01062023'</td>\n      <td>b'01'</td>\n      <td>b'06'</td>\n      <td>b'2023'</td>\n      <td>1100.0</td>\n      <td>b'2023000005'</td>\n      <td>2.023000e+09</td>\n      <td>1.0</td>\n      <td>...</td>\n      <td>7.000000e+00</td>\n      <td>1.0</td>\n      <td>4.700000e+01</td>\n      <td>1.0</td>\n      <td>2.0</td>\n      <td>1.0</td>\n      <td>2.0</td>\n      <td>1.0</td>\n      <td>1.0</td>\n      <td>2.0</td>\n    </tr>\n  </tbody>\n</table>\n<p>5 rows × 350 columns</p>\n</div>"
     },
     "execution_count": 4,
     "metadata": {},
     "output_type": "execute_result"
    }
   ],
   "source": [
    "df_raw: pd.DataFrame = pd.read_sas('./content/LLCP2023.XPT', iterator=False, chunksize=None)\n",
    "df_raw.head()"
   ]
  },
  {
   "cell_type": "code",
   "execution_count": 5,
   "id": "c43879c7cafe68dc",
   "metadata": {
    "colab": {
     "base_uri": "https://localhost:8080/"
    },
    "executionInfo": {
     "elapsed": 9,
     "status": "ok",
     "timestamp": 1731180087765,
     "user": {
      "displayName": "Lana Teras",
      "userId": "04934565953456237748"
     },
     "user_tz": -120
    },
    "id": "c43879c7cafe68dc",
    "outputId": "f774a6e5-1e2d-4e8a-be62-10e5c04401fe",
    "ExecuteTime": {
     "end_time": "2024-11-09T19:37:49.335247Z",
     "start_time": "2024-11-09T19:37:49.322377Z"
    }
   },
   "outputs": [
    {
     "data": {
      "text/plain": "(433323, 350)"
     },
     "execution_count": 5,
     "metadata": {},
     "output_type": "execute_result"
    }
   ],
   "source": [
    "df_raw.shape"
   ]
  },
  {
   "cell_type": "markdown",
   "id": "a67ea7e6cb3bdd17",
   "metadata": {
    "collapsed": false,
    "id": "a67ea7e6cb3bdd17"
   },
   "source": [
    "Dataset has 433 323 observations and 350 columns in total"
   ]
  },
  {
   "cell_type": "markdown",
   "source": [
    "## Data cleaning\n",
    "The dataset contains multiple columns that are excessive for our task"
   ],
   "metadata": {
    "collapsed": false,
    "id": "29574e676ba05860"
   },
   "id": "29574e676ba05860"
  },
  {
   "cell_type": "markdown",
   "id": "50b0e6c374283157",
   "metadata": {
    "collapsed": false,
    "id": "50b0e6c374283157"
   },
   "source": [
    "### Dropping not needed columns:"
   ]
  },
  {
   "cell_type": "code",
   "execution_count": 6,
   "id": "ff81346ae8b8085d",
   "metadata": {
    "id": "ff81346ae8b8085d",
    "executionInfo": {
     "status": "ok",
     "timestamp": 1731180087765,
     "user_tz": -120,
     "elapsed": 8,
     "user": {
      "displayName": "Lana Teras",
      "userId": "04934565953456237748"
     }
    },
    "ExecuteTime": {
     "end_time": "2024-11-09T19:37:49.555342Z",
     "start_time": "2024-11-09T19:37:49.325798Z"
    }
   },
   "outputs": [],
   "source": [
    "columns_to_drop = [\n",
    "    '_STATE', # State FIPS Code\n",
    "    'FMONTH', # File Month\n",
    "    'IDATE', # Interview Date\n",
    "    'IMONTH', # Interview Month\n",
    "    'IDAY', # Interview Day\n",
    "    'IYEAR', # Interview Year\n",
    "    'DISPCODE', # Final Disposition (interview completed fully of partially)\n",
    "    'SEQNO', # Annual Sequence Number\n",
    "    '_PSU', # Primary Sampling Unit (Equal to Annual Sequence Number)\n",
    "    'CTELENM1', # Correct telephone number?\n",
    "    'PVTRESD1', # Is this a private residence?\n",
    "    'COLGHOUS', # Do you live in college housing?\n",
    "    'STATERE1', # Do you currently live in  ____(state)____?\n",
    "    'CELPHON1', # Is this a cell telephone?\n",
    "    'LADULT1', # Are you 18 years of age or older? [NA: 344,978, Yes: 88,212, No: 133]\n",
    "    'NUMADULT', # how many members of your household, including yourself, are 18 years of age or older? [NA: 344,993]\n",
    "    'RESPSLC1', # The person in your household that I need to speak with...\n",
    "    'LANDSEX2',\n",
    "    'LNDSXBRT',\n",
    "    'SAFETIME', # Is this a safe time to talk with you?\n",
    "    'CTELNUM1',\n",
    "    'CELLFON5', # Is this a cell phone?\n",
    "    'CADULT1', # Are you 18 years of age or older?\n",
    "    'CELLSEX2',\n",
    "    'CELSXBRT',\n",
    "    'PVTRESD3',\n",
    "    'CCLGHOUS',\n",
    "    'CSTATE1',\n",
    "    'LANDLINE',\n",
    "    'HHADULT',\n",
    "    'PRIMINS1', # What is the current source of your primary health insurance? (irrelevant)\n",
    "    'NUMHHOL4', # Number of landline telephones\n",
    "    'NUMPHON4',\n",
    "    'FLSHTMY3', # During what month and year did you receive your most recent flu vaccine\n",
    "    '_STSTR',\n",
    "    '_STRWT',\n",
    "    '_DUALUSE',\n",
    "    '_SEX', # Very close to SEXVAR variable\n",
    "    '_METSTAT',\n",
    "    '_URBSTAT',\n",
    "    'MSCODE',\n",
    "    '_WT2RAKE',\n",
    "    '_LLCPWT2',\n",
    "    '_RAWRAKE',\n",
    "    '_CLLCPWT',\n",
    "    '_DUALCOR',\n",
    "    '_LLCPWT',\n",
    "    'PADUR1_',\n",
    "    'PADUR2_',\n",
    "    'PAMIN13_',\n",
    "    'PAMIN23_',\n",
    "    'PA3MIN_',\n",
    "    'PAVIG13_',\n",
    "    'PAVIG23_',\n",
    "    'PA3VIGM_',\n",
    "    'HTIN4',\n",
    "    'HTM4',\n",
    "    'WTKG3',\n",
    "    '_BMI5'\n",
    "]\n",
    "df_raw.drop(columns=columns_to_drop, inplace=True)"
   ]
  },
  {
   "cell_type": "code",
   "execution_count": 7,
   "id": "58c3b3c8329fe919",
   "metadata": {
    "colab": {
     "base_uri": "https://localhost:8080/"
    },
    "executionInfo": {
     "elapsed": 7,
     "status": "ok",
     "timestamp": 1731180087765,
     "user": {
      "displayName": "Lana Teras",
      "userId": "04934565953456237748"
     },
     "user_tz": -120
    },
    "id": "58c3b3c8329fe919",
    "outputId": "fa006f42-7750-4662-ccba-6539ad17ba64",
    "ExecuteTime": {
     "end_time": "2024-11-09T19:37:49.559184Z",
     "start_time": "2024-11-09T19:37:49.556326Z"
    }
   },
   "outputs": [
    {
     "data": {
      "text/plain": "(433323, 291)"
     },
     "execution_count": 7,
     "metadata": {},
     "output_type": "execute_result"
    }
   ],
   "source": [
    "df_raw.shape"
   ]
  },
  {
   "cell_type": "markdown",
   "id": "14e6312cea80371e",
   "metadata": {
    "collapsed": false,
    "id": "14e6312cea80371e"
   },
   "source": [
    "59 columns were dropped"
   ]
  },
  {
   "cell_type": "markdown",
   "id": "eb40abe3371a6372",
   "metadata": {
    "collapsed": false,
    "id": "eb40abe3371a6372"
   },
   "source": [
    "### Drop columns that consist of NAs mostly:\n",
    "Limit of allowed NA percentage is set to less that 60%."
   ]
  },
  {
   "cell_type": "code",
   "execution_count": 8,
   "id": "77ae1d2c8058b811",
   "metadata": {
    "colab": {
     "base_uri": "https://localhost:8080/",
     "height": 458
    },
    "executionInfo": {
     "elapsed": 6,
     "status": "ok",
     "timestamp": 1731180087765,
     "user": {
      "displayName": "Lana Teras",
      "userId": "04934565953456237748"
     },
     "user_tz": -120
    },
    "id": "77ae1d2c8058b811",
    "outputId": "a5f4f514-6faf-4f7c-98e4-89695bbac629",
    "ExecuteTime": {
     "end_time": "2024-11-09T19:37:49.686132Z",
     "start_time": "2024-11-09T19:37:49.558471Z"
    }
   },
   "outputs": [
    {
     "data": {
      "text/plain": "ASTHNOW     368957\nDIABAGE4    373537\nPREGNANT    357115\nFALLINJ5    355584\nSMOKDAY2    274684\n             ...  \nCASTHNO2    428574\n_CRACE1     382113\nCAGEG       391398\n_FLSHOT7    262500\n_PNEUMO3    262500\nLength: 150, dtype: int64"
     },
     "execution_count": 8,
     "metadata": {},
     "output_type": "execute_result"
    }
   ],
   "source": [
    "cols_na_counts: pd.Series = df_raw.isna().sum()\n",
    "cols_prim_na: pd.Series = cols_na_counts[cols_na_counts >= df_raw.shape[0] * 0.6]\n",
    "cols_prim_na"
   ]
  },
  {
   "cell_type": "code",
   "execution_count": 9,
   "id": "4b79315d87f26e9e",
   "metadata": {
    "colab": {
     "base_uri": "https://localhost:8080/"
    },
    "executionInfo": {
     "elapsed": 5,
     "status": "ok",
     "timestamp": 1731180087765,
     "user": {
      "displayName": "Lana Teras",
      "userId": "04934565953456237748"
     },
     "user_tz": -120
    },
    "id": "4b79315d87f26e9e",
    "outputId": "03af203f-2f24-45be-a8f1-978a1c744c98",
    "ExecuteTime": {
     "end_time": "2024-11-09T19:37:49.757558Z",
     "start_time": "2024-11-09T19:37:49.685875Z"
    }
   },
   "outputs": [
    {
     "data": {
      "text/plain": "(433323, 141)"
     },
     "execution_count": 9,
     "metadata": {},
     "output_type": "execute_result"
    }
   ],
   "source": [
    "df_raw.drop(columns=cols_prim_na.index, inplace=True)\n",
    "df_raw.shape"
   ]
  },
  {
   "cell_type": "markdown",
   "id": "2bf3803d3b2ff548",
   "metadata": {
    "collapsed": false,
    "id": "2bf3803d3b2ff548"
   },
   "source": [
    "150 columns were dropped"
   ]
  },
  {
   "cell_type": "markdown",
   "id": "59e35b5ee5c311b8",
   "metadata": {
    "collapsed": false,
    "id": "59e35b5ee5c311b8"
   },
   "source": [
    "### Drop columns with too much skewness in data:"
   ]
  },
  {
   "cell_type": "code",
   "execution_count": 10,
   "id": "30b33eeb2c05cd9f",
   "metadata": {
    "id": "30b33eeb2c05cd9f",
    "executionInfo": {
     "status": "ok",
     "timestamp": 1731180087765,
     "user_tz": -120,
     "elapsed": 4,
     "user": {
      "displayName": "Lana Teras",
      "userId": "04934565953456237748"
     }
    },
    "ExecuteTime": {
     "end_time": "2024-11-09T19:37:49.759597Z",
     "start_time": "2024-11-09T19:37:49.757212Z"
    }
   },
   "outputs": [],
   "source": [
    "# Made exceptions for columns in category \"Chronic Health Conditions\" or related that might be of use in the project\n",
    "cols_to_exclude = [\n",
    "    'CVDINFR4', # Ever Diagnosed with Heart Attack\n",
    "    'CVDCRHD4', # Ever Diagnosed with Angina or Coronary Heart Disease\n",
    "    'CVDSTRK3', # Ever Diagnosed with a Stroke\n",
    "    'ASTHMA3', # Ever Told Had Asthma\n",
    "    'CHCSCNC1', # (Ever told) (you had) skin cancer that is not melanoma?\n",
    "    'CHCOCNC1', # (Ever told) (you had) melanoma or any other types of cancer?\n",
    "    'CHCCOPD3', # (Ever told) (you had) C.O.P.D. (chronic obstructive pulmonary disease), emphysema or chronic bronchitis?\n",
    "    'ADDEPEV3', # (Ever told) you had a depressive disorder\n",
    "    'CHCKDNY2', # Ever told you have kidney disease?\n",
    "    'HAVARTH4', # Told Had Arthritis\n",
    "    'DIABETE4', # (Ever told) you had diabetes\n",
    "    'EXRACT12', # What type of physical activity or exercise did you spend the most time doing during the past month?\n",
    "    'DRNKANY6', # Drink any alcoholic beverages in past 30 days\n",
    "    'EXERANY2'\n",
    "]"
   ]
  },
  {
   "cell_type": "code",
   "execution_count": 11,
   "id": "991b723758cc46d4",
   "metadata": {
    "id": "991b723758cc46d4",
    "executionInfo": {
     "status": "ok",
     "timestamp": 1731180087996,
     "user_tz": -120,
     "elapsed": 234,
     "user": {
      "displayName": "Lana Teras",
      "userId": "04934565953456237748"
     }
    },
    "ExecuteTime": {
     "end_time": "2024-11-09T19:37:50.346421Z",
     "start_time": "2024-11-09T19:37:49.760745Z"
    }
   },
   "outputs": [],
   "source": [
    "# Also exclude calculated variables, will decide for each of them separately\n",
    "var_skewness = df_raw.loc[:, ~df_raw.columns.str.startswith('_')].drop(columns=cols_to_exclude).skew()\n",
    "df_raw.drop(columns=var_skewness[abs(var_skewness) > 1].index, inplace=True)"
   ]
  },
  {
   "cell_type": "code",
   "execution_count": 12,
   "id": "bba5d313c85137fe",
   "metadata": {
    "colab": {
     "base_uri": "https://localhost:8080/"
    },
    "executionInfo": {
     "elapsed": 5,
     "status": "ok",
     "timestamp": 1731180087996,
     "user": {
      "displayName": "Lana Teras",
      "userId": "04934565953456237748"
     },
     "user_tz": -120
    },
    "id": "bba5d313c85137fe",
    "outputId": "12aa7a74-630d-479d-dbb8-96b7921e12db",
    "ExecuteTime": {
     "end_time": "2024-11-09T19:37:50.347606Z",
     "start_time": "2024-11-09T19:37:50.267825Z"
    }
   },
   "outputs": [
    {
     "data": {
      "text/plain": "Index(['SEXVAR', 'GENHLTH', 'PHYSHLTH', 'MENTHLTH', 'POORHLTH', 'EXERANY2',\n       'EXRACT12', 'EXRACT22', 'STRENGTH', 'BPHIGH6', 'CVDINFR4', 'CVDCRHD4',\n       'CVDSTRK3', 'ASTHMA3', 'CHCSCNC1', 'CHCOCNC1', 'CHCCOPD3', 'ADDEPEV3',\n       'CHCKDNY2', 'HAVARTH4', 'DIABETE4', 'EDUCA', 'EMPLOY1', 'ALCDAY4',\n       'SDLONELY', 'SDHSTRE1', '_IMPRACE', '_CHISPNC', '_RFHLTH', '_PHYS14D',\n       '_MENT14D', '_HLTHPL1', '_HCVU653', '_TOTINDA', 'METVL12_', 'METVL22_',\n       'ACTIN13_', 'ACTIN23_', '_MINAC12', '_MINAC22', '_PACAT3', '_PAINDX3',\n       '_PA150R4', '_PA300R4', '_PA30023', '_PASTRNG', '_PAREC3', '_PASTAE3',\n       '_RFHYPE6', '_CHOLCH3', '_RFCHOL3', '_MICHD', '_LTASTH1', '_CASTHM1',\n       '_ASTHMS1', '_DRDXAR2', '_MRACE1', '_HISPANC', '_RACE', '_RACEG21',\n       '_RACEGR3', '_RACEPRV', '_AGEG5YR', '_AGE65YR', '_AGE80', '_AGE_G',\n       '_BMI5CAT', '_RFBMI5', '_CHLDCNT', '_EDUCAG', '_INCOMG1', '_SMOKER3',\n       '_RFSMOK3', '_CURECI2', 'DRNKANY6', '_RFBING6', '_DRNKWK2', '_RFDRHV8',\n       '_AIDTST4', '_RFSEAT2', '_RFSEAT3', '_DRNKDRV'],\n      dtype='object')"
     },
     "execution_count": 12,
     "metadata": {},
     "output_type": "execute_result"
    }
   ],
   "source": [
    "df_raw.columns"
   ]
  },
  {
   "cell_type": "markdown",
   "id": "610a9c062f934c9c",
   "metadata": {
    "collapsed": false,
    "id": "610a9c062f934c9c"
   },
   "source": [
    "Choose between calculated and original columns, drop not needed ones:"
   ]
  },
  {
   "cell_type": "code",
   "execution_count": 13,
   "id": "4fabbbaa6bbea968",
   "metadata": {
    "id": "4fabbbaa6bbea968",
    "executionInfo": {
     "status": "ok",
     "timestamp": 1731180087996,
     "user_tz": -120,
     "elapsed": 4,
     "user": {
      "displayName": "Lana Teras",
      "userId": "04934565953456237748"
     }
    },
    "ExecuteTime": {
     "end_time": "2024-11-09T19:37:50.347729Z",
     "start_time": "2024-11-09T19:37:50.268023Z"
    }
   },
   "outputs": [],
   "source": [
    "cols_with_replacement = [\n",
    "    '_RFHLTH',\n",
    "    '_PASTRNG',\n",
    "    '_PAREC3',\n",
    "    '_PASTAE3',\n",
    "    'BPHIGH6',\n",
    "    'CVDINFR4',\n",
    "    'CVDCRHD4',\n",
    "    'ASTHMA3',\n",
    "    '_LTASTH1',\n",
    "    '_CASTHM1',\n",
    "    'HAVARTH4',\n",
    "    'EDUCA',\n",
    "    'ALCDAY4',\n",
    "    '_CHISPNC',\n",
    "    '_RFHLTH',\n",
    "    '_HCVU653',\n",
    "    'METVL12_',\n",
    "    'METVL22_',\n",
    "    '_PAREC3',\n",
    "    '_PASTAE3',\n",
    "    '_HISPANC',\n",
    "    '_RACE',\n",
    "    '_RACEG21',\n",
    "    '_RACEGR3',\n",
    "    '_RACEPRV',\n",
    "    '_AGE65YR',\n",
    "    '_AGE80',\n",
    "    '_AGE_G',\n",
    "    '_RFBMI5',\n",
    "    '_RFSMOK3',\n",
    "    '_CURECI2',\n",
    "    '_RFSEAT2'\n",
    "]\n",
    "df_raw.drop(columns=cols_with_replacement, inplace=True)"
   ]
  },
  {
   "cell_type": "code",
   "execution_count": 14,
   "id": "1419dc1de8d8d6a6",
   "metadata": {
    "colab": {
     "base_uri": "https://localhost:8080/"
    },
    "executionInfo": {
     "elapsed": 4,
     "status": "ok",
     "timestamp": 1731180087996,
     "user": {
      "displayName": "Lana Teras",
      "userId": "04934565953456237748"
     },
     "user_tz": -120
    },
    "id": "1419dc1de8d8d6a6",
    "outputId": "1f9db28e-2f21-4704-cf44-7815abd04e89",
    "ExecuteTime": {
     "end_time": "2024-11-09T19:37:50.348026Z",
     "start_time": "2024-11-09T19:37:50.323820Z"
    }
   },
   "outputs": [
    {
     "data": {
      "text/plain": "Index(['SEXVAR', 'GENHLTH', 'PHYSHLTH', 'MENTHLTH', 'POORHLTH', 'EXERANY2',\n       'EXRACT12', 'EXRACT22', 'STRENGTH', 'CVDSTRK3', 'CHCSCNC1', 'CHCOCNC1',\n       'CHCCOPD3', 'ADDEPEV3', 'CHCKDNY2', 'DIABETE4', 'EMPLOY1', 'SDLONELY',\n       'SDHSTRE1', '_IMPRACE', '_PHYS14D', '_MENT14D', '_HLTHPL1', '_TOTINDA',\n       'ACTIN13_', 'ACTIN23_', '_MINAC12', '_MINAC22', '_PACAT3', '_PAINDX3',\n       '_PA150R4', '_PA300R4', '_PA30023', '_RFHYPE6', '_CHOLCH3', '_RFCHOL3',\n       '_MICHD', '_ASTHMS1', '_DRDXAR2', '_MRACE1', '_AGEG5YR', '_BMI5CAT',\n       '_CHLDCNT', '_EDUCAG', '_INCOMG1', '_SMOKER3', 'DRNKANY6', '_RFBING6',\n       '_DRNKWK2', '_RFDRHV8', '_AIDTST4', '_RFSEAT3', '_DRNKDRV'],\n      dtype='object')"
     },
     "execution_count": 14,
     "metadata": {},
     "output_type": "execute_result"
    }
   ],
   "source": [
    "df_raw.columns"
   ]
  },
  {
   "cell_type": "markdown",
   "id": "eb7253fe59c59901",
   "metadata": {
    "collapsed": false,
    "id": "eb7253fe59c59901"
   },
   "source": [
    "Remaining columns and their descriptions:\n",
    "\n",
    "- SEXVAR: Sex of Respondent\n",
    "- _AGEG5YR: \"Reported age in five-year age categories calculated variable\"\n",
    "- _IMPRACE: \"Imputed race/ethnicity value\"\n",
    "- _MRACE1: \"Calculated non-Hispanic Race including multiracial\"\n",
    "- _EDUCAG: \"Computed level of education completed categories\"\n",
    "- EMPLOY1: \"Employment Status\"\n",
    "- _INCOMG1: \"Computed income categories\"\n",
    "- _HLTHPL1: \"Have any health insurance\"\n",
    "\n",
    "\n",
    "Health\n",
    "- GENHLTH: General health status\n",
    "- PHYSHLTH: Number of Days Physical Health Not Good\n",
    "- MENTHLTH: Number of Days Mental Health Not Good\n",
    "- POORHLTH: \"During the past 30 days, for about how many days did poor physical or mental health keep you from doing your usual activities, such as self-care, work, or recreation?\"\n",
    "\n",
    "Diseases\n",
    "- CVDSTRK3: \"Ever Diagnosed with a Stroke\"\n",
    "- CHCSCNC1: \"(Ever told) (you had) skin cancer that is not melanoma?\"\n",
    "- CHCOCNC1: \"(Ever told) (you had)  melanoma or any other types of cancer?\"\n",
    "- CHCCOPD3: \"Ever told you had C.O.P.D. emphysema or chronic bronchitis?\"\n",
    "- CHCKDNY2: \"Ever told you have kidney disease?\"\n",
    "- DIABETE4: \"(Ever told) you had diabetes\"\n",
    "- _RFHYPE6: \"High Blood Pressure Calculated Variable\"\n",
    "- _CHOLCH3: \"Cholesterol Checked Calculated Variable\"\n",
    "- _RFCHOL3: \"High Cholesterol Calculated Variable\"\n",
    "- _MICHD: \"Ever had CHD or MI\"\n",
    "- _ASTHMS1: \"Computed Asthma Status\"\n",
    "- _DRDXAR2: \"Respondents diagnosed with arthritis\"\n",
    "- _BMI5CAT: \"Computed body mass index categories\"\n",
    "\n",
    "Mental Health\n",
    "- ADDEPEV3: \"(Ever told) you had a depressive disorder\"\n",
    "- _MENT14D: \"Computed Mental Health Status\"\n",
    "- SDLONELY: \"How often do you feel lonely?\"\n",
    "- SDHSTRE1: \"How often have you felt this kind of stress?\"\n",
    "\n",
    "\n",
    "Physical Activity\n",
    "- EXERANY2: \"Exercise in Past 30 Days\"\n",
    "- EXRACT12: \"What type of physical activity or exercise did you spend the most time doing during the past month?\"\n",
    "- EXRACT22: \"What other type of physical activity gave you the next most exercise during the past month?\"\n",
    "- STRENGTH: \"How many times did you do physical activities or exercises to STRENGTHEN your muscles?\"\n",
    "- _PHYS14D: \"Computed Physical Health Status\"\n",
    "- _TOTINDA: \"Leisure Time Physical Activity Calculated Variable\"\n",
    "- ACTIN13_: \"Estimated Activity Intensity for First Activity\"\n",
    "- ACTIN23_: \"Estimated Activity Intensity for Second Activity\"\n",
    "- _MINAC12: \"Minutes of Physical Activity per week for First Activity\"\n",
    "- _MINAC22: \"Minutes of Physical Activity per week for Second Activity\"\n",
    "- _PACAT3: \"Physical Activity Categories\"\n",
    "- _PAINDX3: \"Physical Activity Index\"\n",
    "- _PA150R4: \"150 Minute Physical Activity Calculated Variable\"\n",
    "- _PA300R4: \"300 Minute Physical Activity Calculated Variable\"\n",
    "- _PA30023: \"300 Minute Physical Activity 2-Level Calculated Variable\"\n",
    "\n",
    "Alcohol\n",
    "- DRNKANY6: \"Drink any alcoholic beverages in past 30 days\"\n",
    "- _RFBING6: \"Binge Drinking Calculated Variable\"\n",
    "- _DRNKWK2: \"Computed number of drinks of alcohol beverages per week\"\n",
    "- _DRNKDRV: \"Drinking and Driving\"\n",
    "- _RFDRHV8: \"Heavy Alcohol Consumption  Calculated Variable\"\n",
    "\n",
    "Other\n",
    "- _SMOKER3: \"Computed Smoking Status\"\n",
    "- _RFSEAT3: \"Always Wear Seat Belts\"\n",
    "- _AIDTST4: \"Ever been tested for HIV calculated variable\"\n",
    "- _CHLDCNT: \"Computed number of children in household\"\n",
    "\n",
    "\n",
    "\n"
   ]
  },
  {
   "cell_type": "markdown",
   "source": [
    "### Leave only columns that are related to the research topic\n",
    "All remaining columns were analyzed and carefully filtered for data duplication"
   ],
   "metadata": {
    "collapsed": false,
    "id": "f6d59637bf404b6b"
   },
   "id": "f6d59637bf404b6b"
  },
  {
   "cell_type": "code",
   "execution_count": 15,
   "outputs": [
    {
     "name": "stdout",
     "output_type": "stream",
     "text": [
      "<class 'pandas.core.frame.DataFrame'>\n",
      "RangeIndex: 433323 entries, 0 to 433322\n",
      "Data columns (total 28 columns):\n",
      " #   Column    Non-Null Count   Dtype  \n",
      "---  ------    --------------   -----  \n",
      " 0   _AGEG5YR  433323 non-null  float64\n",
      " 1   _ASTHMS1  433323 non-null  float64\n",
      " 2   _BMI5CAT  392788 non-null  float64\n",
      " 3   _CHLDCNT  433323 non-null  float64\n",
      " 4   _DRDXAR2  430763 non-null  float64\n",
      " 5   _EDUCAG   433323 non-null  float64\n",
      " 6   _IMPRACE  433323 non-null  float64\n",
      " 7   _INCOMG1  433323 non-null  float64\n",
      " 8   _MENT14D  433323 non-null  float64\n",
      " 9   _MICHD    428738 non-null  float64\n",
      " 10  _PHYS14D  433323 non-null  float64\n",
      " 11  _RFCHOL3  381512 non-null  float64\n",
      " 12  _RFHYPE6  433323 non-null  float64\n",
      " 13  _SMOKER3  433323 non-null  float64\n",
      " 14  ADDEPEV3  433320 non-null  float64\n",
      " 15  CHCCOPD3  433320 non-null  float64\n",
      " 16  CHCKDNY2  433320 non-null  float64\n",
      " 17  CHCOCNC1  433320 non-null  float64\n",
      " 18  CHCSCNC1  433320 non-null  float64\n",
      " 19  CVDSTRK3  433319 non-null  float64\n",
      " 20  DIABETE4  433318 non-null  float64\n",
      " 21  GENHLTH   433319 non-null  float64\n",
      " 22  POORHLTH  252170 non-null  float64\n",
      " 23  SDHSTRE1  223493 non-null  float64\n",
      " 24  SDLONELY  225998 non-null  float64\n",
      " 25  SEXVAR    433323 non-null  float64\n",
      " 26  _DRNKWK2  433323 non-null  float64\n",
      " 27  _TOTINDA  433323 non-null  float64\n",
      "dtypes: float64(28)\n",
      "memory usage: 92.6 MB\n"
     ]
    }
   ],
   "source": [
    "df = df_raw[['_AGEG5YR', '_ASTHMS1', '_BMI5CAT', '_CHLDCNT', '_DRDXAR2', '_EDUCAG', '_IMPRACE', '_INCOMG1', '_MENT14D', '_MICHD', '_PHYS14D', '_RFCHOL3', '_RFHYPE6', '_SMOKER3', 'ADDEPEV3', 'CHCCOPD3', 'CHCKDNY2', 'CHCOCNC1', 'CHCSCNC1', 'CVDSTRK3', 'DIABETE4', 'GENHLTH', 'POORHLTH', 'SDHSTRE1', 'SDLONELY', 'SEXVAR', '_DRNKWK2', '_TOTINDA']].copy()\n",
    "df.info()"
   ],
   "metadata": {
    "colab": {
     "base_uri": "https://localhost:8080/"
    },
    "id": "102e6823aaa8937a",
    "executionInfo": {
     "status": "ok",
     "timestamp": 1731180087996,
     "user_tz": -120,
     "elapsed": 3,
     "user": {
      "displayName": "Lana Teras",
      "userId": "04934565953456237748"
     }
    },
    "outputId": "813c8087-d7e1-4ffd-e017-958a60d791f0",
    "ExecuteTime": {
     "end_time": "2024-11-09T19:37:50.405611Z",
     "start_time": "2024-11-09T19:37:50.324016Z"
    }
   },
   "id": "102e6823aaa8937a"
  },
  {
   "cell_type": "markdown",
   "source": [
    "### Drop rows with NA"
   ],
   "metadata": {
    "collapsed": false,
    "id": "9cff3222ce6c6d04"
   },
   "id": "9cff3222ce6c6d04"
  },
  {
   "cell_type": "code",
   "execution_count": 16,
   "outputs": [
    {
     "data": {
      "text/plain": "(105257, 28)"
     },
     "execution_count": 16,
     "metadata": {},
     "output_type": "execute_result"
    }
   ],
   "source": [
    "df.dropna(inplace=True)\n",
    "df.shape"
   ],
   "metadata": {
    "colab": {
     "base_uri": "https://localhost:8080/"
    },
    "id": "6385cdf75e7115f4",
    "executionInfo": {
     "status": "ok",
     "timestamp": 1731180088203,
     "user_tz": -120,
     "elapsed": 208,
     "user": {
      "displayName": "Lana Teras",
      "userId": "04934565953456237748"
     }
    },
    "outputId": "13cfbf72-79aa-491f-82a3-09475efe4141",
    "ExecuteTime": {
     "end_time": "2024-11-09T19:37:50.406322Z",
     "start_time": "2024-11-09T19:37:50.376187Z"
    }
   },
   "id": "6385cdf75e7115f4"
  },
  {
   "cell_type": "markdown",
   "source": [
    "## Data formatting"
   ],
   "metadata": {
    "collapsed": false,
    "id": "5bb6173f907caced"
   },
   "id": "5bb6173f907caced"
  },
  {
   "cell_type": "markdown",
   "source": [
    "### Replace initial values with meaningful categories"
   ],
   "metadata": {
    "collapsed": false,
    "id": "339f1d1b70349b95"
   },
   "id": "339f1d1b70349b95"
  },
  {
   "cell_type": "code",
   "source": [
    "df['_DRNKWK21'] = df['_DRNKWK2'].apply(lambda x: 'No' if x < 0.99 else 'Yes')\n",
    "df.drop(['_DRNKWK2'], axis=1, inplace=True)"
   ],
   "metadata": {
    "id": "yQkxH2c3uADG",
    "executionInfo": {
     "status": "ok",
     "timestamp": 1731180088204,
     "user_tz": -120,
     "elapsed": 2,
     "user": {
      "displayName": "Lana Teras",
      "userId": "04934565953456237748"
     }
    },
    "ExecuteTime": {
     "end_time": "2024-11-09T19:37:50.417015Z",
     "start_time": "2024-11-09T19:37:50.399906Z"
    }
   },
   "id": "yQkxH2c3uADG",
   "execution_count": 17,
   "outputs": []
  },
  {
   "cell_type": "code",
   "source": [
    "def label_Temp(row):\n",
    "   if row['POORHLTH'] == 88:\n",
    "      return 'Zero days'\n",
    "   if row['POORHLTH'] < 14:\n",
    "      return '1-13 days'\n",
    "   else : return '14+ days'\n",
    "\n",
    "df['POORHLTH'] = df.apply(label_Temp, axis=1)"
   ],
   "metadata": {
    "id": "umurHNRCVfUB",
    "executionInfo": {
     "status": "ok",
     "timestamp": 1731180088724,
     "user_tz": -120,
     "elapsed": 522,
     "user": {
      "displayName": "Lana Teras",
      "userId": "04934565953456237748"
     }
    },
    "ExecuteTime": {
     "end_time": "2024-11-09T19:37:50.698878Z",
     "start_time": "2024-11-09T19:37:50.407612Z"
    }
   },
   "id": "umurHNRCVfUB",
   "execution_count": 18,
   "outputs": []
  },
  {
   "cell_type": "code",
   "execution_count": 19,
   "id": "e7c36bc2f1953e7e",
   "metadata": {
    "id": "e7c36bc2f1953e7e",
    "executionInfo": {
     "status": "ok",
     "timestamp": 1731180088725,
     "user_tz": -120,
     "elapsed": 6,
     "user": {
      "displayName": "Lana Teras",
      "userId": "04934565953456237748"
     }
    },
    "ExecuteTime": {
     "end_time": "2024-11-09T19:37:50.707300Z",
     "start_time": "2024-11-09T19:37:50.699073Z"
    }
   },
   "outputs": [],
   "source": [
    "sex_col = {\n",
    "          1: 'Male',\n",
    "          2: 'Female'\n",
    "          }\n",
    "df['SEXVAR'] = df['SEXVAR'].replace(sex_col)"
   ]
  },
  {
   "cell_type": "code",
   "execution_count": 20,
   "outputs": [],
   "source": [
    "hlth_col = {\n",
    "          1: 'Excellent',\n",
    "          2: 'Very good',\n",
    "          3: 'Good',\n",
    "          4: 'Fair',\n",
    "          5: 'Poor'\n",
    "          }\n",
    "df['GENHLTH'] = df['GENHLTH'].replace(hlth_col)"
   ],
   "metadata": {
    "id": "a2332dbd33966ecb",
    "executionInfo": {
     "status": "ok",
     "timestamp": 1731180088725,
     "user_tz": -120,
     "elapsed": 6,
     "user": {
      "displayName": "Lana Teras",
      "userId": "04934565953456237748"
     }
    },
    "ExecuteTime": {
     "end_time": "2024-11-09T19:37:50.716913Z",
     "start_time": "2024-11-09T19:37:50.707809Z"
    }
   },
   "id": "a2332dbd33966ecb"
  },
  {
   "cell_type": "code",
   "execution_count": 21,
   "outputs": [],
   "source": [
    "phlth_col = {\n",
    "          88: 'Zero days'\n",
    "          }\n",
    "df['POORHLTH'] = df['POORHLTH'].replace(phlth_col)"
   ],
   "metadata": {
    "id": "909879cb2d985622",
    "executionInfo": {
     "status": "ok",
     "timestamp": 1731180088725,
     "user_tz": -120,
     "elapsed": 6,
     "user": {
      "displayName": "Lana Teras",
      "userId": "04934565953456237748"
     }
    },
    "ExecuteTime": {
     "end_time": "2024-11-09T19:37:50.726203Z",
     "start_time": "2024-11-09T19:37:50.718873Z"
    }
   },
   "id": "909879cb2d985622"
  },
  {
   "cell_type": "code",
   "execution_count": 22,
   "outputs": [],
   "source": [
    "exer_col = {\n",
    "          1: 'Yes',\n",
    "          2: 'No'\n",
    "          }\n",
    "df['CVDSTRK3'] = df['CVDSTRK3'].replace(exer_col)\n",
    "df['CHCCOPD3'] = df['CHCCOPD3'].replace(exer_col)\n",
    "df['ADDEPEV3'] = df['ADDEPEV3'].replace(exer_col)\n",
    "df['CHCKDNY2'] = df['CHCKDNY2'].replace(exer_col)\n",
    "df['_MICHD'] = df['_MICHD'].replace(exer_col)\n",
    "df['_DRDXAR2'] = df['_DRDXAR2'].replace(exer_col)\n",
    "df['_TOTINDA'] = df['_TOTINDA'].replace(exer_col)\n",
    "df['CHCSCNC1'] = df['CHCSCNC1'].replace(exer_col)\n",
    "df['CHCOCNC1'] = df['CHCOCNC1'].replace(exer_col)"
   ],
   "metadata": {
    "id": "3359b6727ea90386",
    "executionInfo": {
     "status": "ok",
     "timestamp": 1731180088725,
     "user_tz": -120,
     "elapsed": 5,
     "user": {
      "displayName": "Lana Teras",
      "userId": "04934565953456237748"
     }
    },
    "ExecuteTime": {
     "end_time": "2024-11-09T19:37:50.764344Z",
     "start_time": "2024-11-09T19:37:50.725561Z"
    }
   },
   "id": "3359b6727ea90386"
  },
  {
   "cell_type": "code",
   "execution_count": 23,
   "outputs": [],
   "source": [
    "diabete_col = {\n",
    "          1: 'Yes',\n",
    "          2: 'Yes',\n",
    "          3: 'No',\n",
    "          4: 'Yes'\n",
    "          }\n",
    "df['DIABETE4'] = df['DIABETE4'].replace(diabete_col)"
   ],
   "metadata": {
    "id": "cce6e46e60587bfe",
    "executionInfo": {
     "status": "ok",
     "timestamp": 1731180088725,
     "user_tz": -120,
     "elapsed": 5,
     "user": {
      "displayName": "Lana Teras",
      "userId": "04934565953456237748"
     }
    },
    "ExecuteTime": {
     "end_time": "2024-11-09T19:37:50.773266Z",
     "start_time": "2024-11-09T19:37:50.764734Z"
    }
   },
   "id": "cce6e46e60587bfe"
  },
  {
   "cell_type": "code",
   "execution_count": 24,
   "outputs": [],
   "source": [
    "bmi_col = {\n",
    "          1: '77',\n",
    "          2: 'Normal Weight',\n",
    "          3: 'Overweight',\n",
    "          4: 'Obese'\n",
    "          }\n",
    "df['_BMI5CAT'] = df['_BMI5CAT'].replace(bmi_col)"
   ],
   "metadata": {
    "id": "584e7fdc53f117c0",
    "executionInfo": {
     "status": "ok",
     "timestamp": 1731180088725,
     "user_tz": -120,
     "elapsed": 5,
     "user": {
      "displayName": "Lana Teras",
      "userId": "04934565953456237748"
     }
    },
    "ExecuteTime": {
     "end_time": "2024-11-09T19:37:50.783212Z",
     "start_time": "2024-11-09T19:37:50.773804Z"
    }
   },
   "id": "584e7fdc53f117c0"
  },
  {
   "cell_type": "code",
   "execution_count": 25,
   "outputs": [],
   "source": [
    "sad_col = {\n",
    "          1: 'Always',\n",
    "          2: 'Usually',\n",
    "          3: 'Sometimes',\n",
    "          4: 'Rarely',\n",
    "          5: 'Never'\n",
    "          }\n",
    "df['SDLONELY'] = df['SDLONELY'].replace(sad_col)\n",
    "df['SDHSTRE1'] = df['SDHSTRE1'].replace(sad_col)"
   ],
   "metadata": {
    "id": "be271d1532d764df",
    "executionInfo": {
     "status": "ok",
     "timestamp": 1731180088725,
     "user_tz": -120,
     "elapsed": 5,
     "user": {
      "displayName": "Lana Teras",
      "userId": "04934565953456237748"
     }
    },
    "ExecuteTime": {
     "end_time": "2024-11-09T19:37:50.799931Z",
     "start_time": "2024-11-09T19:37:50.783777Z"
    }
   },
   "id": "be271d1532d764df"
  },
  {
   "cell_type": "code",
   "execution_count": 26,
   "outputs": [],
   "source": [
    "race_col = {\n",
    "          1: 'White',\n",
    "          2: 'Other',\n",
    "          3: 'Other',\n",
    "          4: 'Other',\n",
    "          5: 'Other',\n",
    "          6: 'Other'\n",
    "          }\n",
    "df['_IMPRACE'] = df['_IMPRACE'].replace(race_col)"
   ],
   "metadata": {
    "id": "c3daee35ba2da11b",
    "executionInfo": {
     "status": "ok",
     "timestamp": 1731180088725,
     "user_tz": -120,
     "elapsed": 5,
     "user": {
      "displayName": "Lana Teras",
      "userId": "04934565953456237748"
     }
    },
    "ExecuteTime": {
     "end_time": "2024-11-09T19:37:50.809513Z",
     "start_time": "2024-11-09T19:37:50.800300Z"
    }
   },
   "id": "c3daee35ba2da11b"
  },
  {
   "cell_type": "code",
   "execution_count": 27,
   "outputs": [],
   "source": [
    "phy_col = {\n",
    "          1: 'Zero days',\n",
    "          2: '1-13 days',\n",
    "          3: '14+ days'\n",
    "          }\n",
    "df['_PHYS14D'] = df['_PHYS14D'].replace(phy_col)\n",
    "df['_MENT14D'] = df['_MENT14D'].replace(phy_col)"
   ],
   "metadata": {
    "id": "28f76dd6fd07a93f",
    "executionInfo": {
     "status": "ok",
     "timestamp": 1731180088725,
     "user_tz": -120,
     "elapsed": 5,
     "user": {
      "displayName": "Lana Teras",
      "userId": "04934565953456237748"
     }
    },
    "ExecuteTime": {
     "end_time": "2024-11-09T19:37:50.825004Z",
     "start_time": "2024-11-09T19:37:50.810330Z"
    }
   },
   "id": "28f76dd6fd07a93f"
  },
  {
   "cell_type": "code",
   "execution_count": 28,
   "outputs": [],
   "source": [
    "hbp_col = {\n",
    "          1: 'No',\n",
    "          2: 'Yes'\n",
    "          }\n",
    "df['_RFHYPE6'] = df['_RFHYPE6'].replace(hbp_col)\n",
    "df['_RFCHOL3'] = df['_RFCHOL3'].replace(hbp_col)"
   ],
   "metadata": {
    "id": "440b548c642c0528",
    "executionInfo": {
     "status": "ok",
     "timestamp": 1731180088725,
     "user_tz": -120,
     "elapsed": 4,
     "user": {
      "displayName": "Lana Teras",
      "userId": "04934565953456237748"
     }
    },
    "ExecuteTime": {
     "end_time": "2024-11-09T19:37:50.834051Z",
     "start_time": "2024-11-09T19:37:50.822995Z"
    }
   },
   "id": "440b548c642c0528"
  },
  {
   "cell_type": "code",
   "execution_count": 29,
   "outputs": [],
   "source": [
    "ast_col = {\n",
    "          1: 'Yes',\n",
    "          2: 'Yes',\n",
    "          3: 'No'\n",
    "          }\n",
    "df['_ASTHMS1'] = df['_ASTHMS1'].replace(ast_col)"
   ],
   "metadata": {
    "id": "8e0e343893b3a49d",
    "executionInfo": {
     "status": "ok",
     "timestamp": 1731180088725,
     "user_tz": -120,
     "elapsed": 4,
     "user": {
      "displayName": "Lana Teras",
      "userId": "04934565953456237748"
     }
    },
    "ExecuteTime": {
     "end_time": "2024-11-09T19:37:50.841539Z",
     "start_time": "2024-11-09T19:37:50.834388Z"
    }
   },
   "id": "8e0e343893b3a49d"
  },
  {
   "cell_type": "code",
   "execution_count": 30,
   "outputs": [],
   "source": [
    "age_col = {\n",
    "          1: 'Age 18 to 29',\n",
    "          2: 'Age 18 to 29',\n",
    "          3: 'Age 30 to 39',\n",
    "          4: 'Age 30 to 39',\n",
    "          5: 'Age 40 to 49',\n",
    "          6: 'Age 40 to 49',\n",
    "          7: 'Age 50 to 59',\n",
    "          8: 'Age 50 to 59',\n",
    "          9: 'Age 60 to 69',\n",
    "          10: 'Age 60 to 69',\n",
    "          11: 'Age 70+',\n",
    "          12: 'Age 70+',\n",
    "          13: 'Age 70+',\n",
    "          14: '7'\n",
    "          }\n",
    "df['_AGEG5YR'] = df['_AGEG5YR'].replace(age_col)"
   ],
   "metadata": {
    "id": "b704cf1547b05281",
    "executionInfo": {
     "status": "ok",
     "timestamp": 1731180088725,
     "user_tz": -120,
     "elapsed": 4,
     "user": {
      "displayName": "Lana Teras",
      "userId": "04934565953456237748"
     }
    },
    "ExecuteTime": {
     "end_time": "2024-11-09T19:37:50.858261Z",
     "start_time": "2024-11-09T19:37:50.842749Z"
    }
   },
   "id": "b704cf1547b05281"
  },
  {
   "cell_type": "code",
   "execution_count": 31,
   "outputs": [],
   "source": [
    "chld_col = {\n",
    "          1: 'No',\n",
    "          2: 'Yes',\n",
    "          3: 'Yes',\n",
    "          4: 'Yes',\n",
    "          5: 'Yes',\n",
    "          6: 'Yes'\n",
    "          }\n",
    "df['_CHLDCNT'] = df['_CHLDCNT'].replace(chld_col)"
   ],
   "metadata": {
    "id": "d87032797107f5dc",
    "executionInfo": {
     "status": "ok",
     "timestamp": 1731180088725,
     "user_tz": -120,
     "elapsed": 4,
     "user": {
      "displayName": "Lana Teras",
      "userId": "04934565953456237748"
     }
    },
    "ExecuteTime": {
     "end_time": "2024-11-09T19:37:50.871810Z",
     "start_time": "2024-11-09T19:37:50.858500Z"
    }
   },
   "id": "d87032797107f5dc"
  },
  {
   "cell_type": "code",
   "execution_count": 32,
   "outputs": [],
   "source": [
    "edu_col = {\n",
    "          1: 'No',\n",
    "          2: 'High School',\n",
    "          3: 'Attended College',\n",
    "          4: 'College or Technical School'\n",
    "          }\n",
    "df['_EDUCAG'] = df['_EDUCAG'].replace(edu_col)"
   ],
   "metadata": {
    "id": "2558b4264221cbd3",
    "executionInfo": {
     "status": "ok",
     "timestamp": 1731180088726,
     "user_tz": -120,
     "elapsed": 5,
     "user": {
      "displayName": "Lana Teras",
      "userId": "04934565953456237748"
     }
    },
    "ExecuteTime": {
     "end_time": "2024-11-09T19:37:50.891059Z",
     "start_time": "2024-11-09T19:37:50.875068Z"
    }
   },
   "id": "2558b4264221cbd3"
  },
  {
   "cell_type": "code",
   "execution_count": 33,
   "outputs": [],
   "source": [
    "smoker_col = {\n",
    "          1: 'Yes',\n",
    "          2: 'Yes',\n",
    "          3: 'Yes',\n",
    "          4: 'No'\n",
    "          }\n",
    "df['_SMOKER3'] = df['_SMOKER3'].replace(smoker_col)"
   ],
   "metadata": {
    "id": "c4871e80ca8901fa",
    "executionInfo": {
     "status": "ok",
     "timestamp": 1731180088726,
     "user_tz": -120,
     "elapsed": 5,
     "user": {
      "displayName": "Lana Teras",
      "userId": "04934565953456237748"
     }
    },
    "ExecuteTime": {
     "end_time": "2024-11-09T19:37:50.897164Z",
     "start_time": "2024-11-09T19:37:50.885562Z"
    }
   },
   "id": "c4871e80ca8901fa"
  },
  {
   "cell_type": "code",
   "execution_count": 34,
   "outputs": [],
   "source": [
    "inc_col = {\n",
    "          1: 'Less than $15,000',\n",
    "          2: '$15,000 to < $25,000',\n",
    "          3: '$25,000 to < $35,000',\n",
    "          4: '$35,000 to < $50,000',\n",
    "          5: '$50,000 to < $100,000',\n",
    "          6: '$100,000 to < $200,00',\n",
    "          7: '$200,000+',\n",
    "          9: '77'\n",
    "          }\n",
    "df['_INCOMG1'] = df['_INCOMG1'].replace(inc_col)"
   ],
   "metadata": {
    "id": "c6aca87c97ad0aba",
    "executionInfo": {
     "status": "ok",
     "timestamp": 1731180088955,
     "user_tz": -120,
     "elapsed": 233,
     "user": {
      "displayName": "Lana Teras",
      "userId": "04934565953456237748"
     }
    },
    "ExecuteTime": {
     "end_time": "2024-11-09T19:37:50.907589Z",
     "start_time": "2024-11-09T19:37:50.895477Z"
    }
   },
   "id": "c6aca87c97ad0aba"
  },
  {
   "cell_type": "code",
   "execution_count": 35,
   "outputs": [],
   "source": [
    "df = df[~df[['GENHLTH', 'CVDSTRK3', 'CHCSCNC1', 'CHCOCNC1', 'CHCCOPD3', 'ADDEPEV3', 'CHCKDNY2', 'DIABETE4', 'SDLONELY', 'SDHSTRE1', '_PHYS14D', '_MENT14D', '_RFHYPE6', '_RFCHOL3', '_MICHD', '_ASTHMS1', '_AGEG5YR', '_CHLDCNT', '_EDUCAG', '_SMOKER3', '_TOTINDA']].isin([7, 9, '7']).any(axis=1)]\n",
    "df = df[~df[['POORHLTH', '_BMI5CAT', '_INCOMG1']].isin([77, 99, '77']).any(axis=1)]"
   ],
   "metadata": {
    "id": "_wV5INhEuJGL",
    "executionInfo": {
     "status": "ok",
     "timestamp": 1731180088955,
     "user_tz": -120,
     "elapsed": 2,
     "user": {
      "displayName": "Lana Teras",
      "userId": "04934565953456237748"
     }
    },
    "ExecuteTime": {
     "end_time": "2024-11-09T19:37:51.017787Z",
     "start_time": "2024-11-09T19:37:50.908571Z"
    }
   },
   "id": "_wV5INhEuJGL"
  },
  {
   "cell_type": "code",
   "source": [
    "df['CHCSCNC'] = np.where((df['CHCSCNC1'] == 'Yes') | (df['CHCOCNC1'] == 'Yes'), 'Yes', 'No')\n",
    "df.drop(['CHCSCNC1', 'CHCOCNC1'], axis=1, inplace=True)"
   ],
   "metadata": {
    "id": "b_y6LnxGxaVy",
    "executionInfo": {
     "status": "ok",
     "timestamp": 1731180088955,
     "user_tz": -120,
     "elapsed": 1,
     "user": {
      "displayName": "Lana Teras",
      "userId": "04934565953456237748"
     }
    },
    "ExecuteTime": {
     "end_time": "2024-11-09T19:37:51.046350Z",
     "start_time": "2024-11-09T19:37:51.023445Z"
    }
   },
   "id": "b_y6LnxGxaVy",
   "execution_count": 36,
   "outputs": []
  },
  {
   "cell_type": "markdown",
   "source": [
    "### Set all variables categorical"
   ],
   "metadata": {
    "collapsed": false,
    "id": "9b60ac3ff4b98013"
   },
   "id": "9b60ac3ff4b98013"
  },
  {
   "cell_type": "code",
   "execution_count": 37,
   "outputs": [],
   "source": [
    "df = df.astype('category')"
   ],
   "metadata": {
    "id": "e5936d792816ac03",
    "executionInfo": {
     "status": "ok",
     "timestamp": 1731180088955,
     "user_tz": -120,
     "elapsed": 1,
     "user": {
      "displayName": "Lana Teras",
      "userId": "04934565953456237748"
     }
    },
    "ExecuteTime": {
     "end_time": "2024-11-09T19:37:51.110783Z",
     "start_time": "2024-11-09T19:37:51.047673Z"
    }
   },
   "id": "e5936d792816ac03"
  },
  {
   "cell_type": "code",
   "source": [
    "for column in df.select_dtypes(include='category').columns:\n",
    "    print(df[column].astype(str).value_counts().sort_index())\n",
    "    print()"
   ],
   "metadata": {
    "colab": {
     "base_uri": "https://localhost:8080/"
    },
    "id": "8-Lp2kZMo67p",
    "executionInfo": {
     "status": "ok",
     "timestamp": 1731180089179,
     "user_tz": -120,
     "elapsed": 225,
     "user": {
      "displayName": "Lana Teras",
      "userId": "04934565953456237748"
     }
    },
    "outputId": "7049c980-bdf2-4a7a-c882-b51a739d844d",
    "ExecuteTime": {
     "end_time": "2024-11-09T19:37:51.307710Z",
     "start_time": "2024-11-09T19:37:51.111036Z"
    }
   },
   "id": "8-Lp2kZMo67p",
   "execution_count": 38,
   "outputs": [
    {
     "name": "stdout",
     "output_type": "stream",
     "text": [
      "_AGEG5YR\n",
      "Age 18 to 29     6597\n",
      "Age 30 to 39    10647\n",
      "Age 40 to 49    12277\n",
      "Age 50 to 59    14611\n",
      "Age 60 to 69    17432\n",
      "Age 70+         18883\n",
      "Name: count, dtype: int64\n",
      "\n",
      "_ASTHMS1\n",
      "No     65638\n",
      "Yes    14809\n",
      "Name: count, dtype: int64\n",
      "\n",
      "_BMI5CAT\n",
      "Normal Weight    21291\n",
      "Obese            31642\n",
      "Overweight       27514\n",
      "Name: count, dtype: int64\n",
      "\n",
      "_CHLDCNT\n",
      "No     58874\n",
      "Yes    21573\n",
      "Name: count, dtype: int64\n",
      "\n",
      "_DRDXAR2\n",
      "No     48289\n",
      "Yes    32158\n",
      "Name: count, dtype: int64\n",
      "\n",
      "_EDUCAG\n",
      "Attended College               22478\n",
      "College or Technical School    37399\n",
      "High School                    17209\n",
      "No                              3361\n",
      "Name: count, dtype: int64\n",
      "\n",
      "_IMPRACE\n",
      "Other    19445\n",
      "White    61002\n",
      "Name: count, dtype: int64\n",
      "\n",
      "_INCOMG1\n",
      "$100,000 to < $200,00    17697\n",
      "$15,000 to < $25,000      7479\n",
      "$200,000+                 5891\n",
      "$25,000 to < $35,000      8769\n",
      "$35,000 to < $50,000     10829\n",
      "$50,000 to < $100,000    25031\n",
      "Less than $15,000         4751\n",
      "Name: count, dtype: int64\n",
      "\n",
      "_MENT14D\n",
      "1-13 days    37356\n",
      "14+ days     17740\n",
      "Zero days    25351\n",
      "Name: count, dtype: int64\n",
      "\n",
      "_MICHD\n",
      "No     72336\n",
      "Yes     8111\n",
      "Name: count, dtype: int64\n",
      "\n",
      "_PHYS14D\n",
      "1-13 days    36796\n",
      "14+ days     19138\n",
      "Zero days    24513\n",
      "Name: count, dtype: int64\n",
      "\n",
      "_RFCHOL3\n",
      "No     44760\n",
      "Yes    35687\n",
      "Name: count, dtype: int64\n",
      "\n",
      "_RFHYPE6\n",
      "No     44276\n",
      "Yes    36171\n",
      "Name: count, dtype: int64\n",
      "\n",
      "_SMOKER3\n",
      "No     47044\n",
      "Yes    33403\n",
      "Name: count, dtype: int64\n",
      "\n",
      "ADDEPEV3\n",
      "No     55041\n",
      "Yes    25406\n",
      "Name: count, dtype: int64\n",
      "\n",
      "CHCCOPD3\n",
      "No     72462\n",
      "Yes     7985\n",
      "Name: count, dtype: int64\n",
      "\n",
      "CHCKDNY2\n",
      "No     75519\n",
      "Yes     4928\n",
      "Name: count, dtype: int64\n",
      "\n",
      "CVDSTRK3\n",
      "No     76336\n",
      "Yes     4111\n",
      "Name: count, dtype: int64\n",
      "\n",
      "DIABETE4\n",
      "No     64198\n",
      "Yes    16249\n",
      "Name: count, dtype: int64\n",
      "\n",
      "GENHLTH\n",
      "Excellent     7261\n",
      "Fair         15797\n",
      "Good         27418\n",
      "Poor          5778\n",
      "Very good    24193\n",
      "Name: count, dtype: int64\n",
      "\n",
      "POORHLTH\n",
      "1-13 days    24887\n",
      "14+ days     13823\n",
      "Zero days    41737\n",
      "Name: count, dtype: int64\n",
      "\n",
      "SDHSTRE1\n",
      "Always        5591\n",
      "Never        19510\n",
      "Rarely       23189\n",
      "Sometimes    23894\n",
      "Usually       8263\n",
      "Name: count, dtype: int64\n",
      "\n",
      "SDLONELY\n",
      "Always        2522\n",
      "Never        23461\n",
      "Rarely       27433\n",
      "Sometimes    23153\n",
      "Usually       3878\n",
      "Name: count, dtype: int64\n",
      "\n",
      "SEXVAR\n",
      "Female    45650\n",
      "Male      34797\n",
      "Name: count, dtype: int64\n",
      "\n",
      "_TOTINDA\n",
      "No     21252\n",
      "Yes    59195\n",
      "Name: count, dtype: int64\n",
      "\n",
      "_DRNKWK21\n",
      "No     36753\n",
      "Yes    43694\n",
      "Name: count, dtype: int64\n",
      "\n",
      "CHCSCNC\n",
      "No     65724\n",
      "Yes    14723\n",
      "Name: count, dtype: int64\n"
     ]
    }
   ]
  },
  {
   "cell_type": "markdown",
   "source": [],
   "metadata": {
    "collapsed": false,
    "id": "a48c87c8260f9290"
   },
   "id": "a48c87c8260f9290"
  },
  {
   "cell_type": "code",
   "execution_count": 39,
   "id": "sh4FCbdktVQn",
   "metadata": {
    "colab": {
     "base_uri": "https://localhost:8080/"
    },
    "executionInfo": {
     "elapsed": 4,
     "status": "ok",
     "timestamp": 1731180089179,
     "user": {
      "displayName": "Lana Teras",
      "userId": "04934565953456237748"
     },
     "user_tz": -120
    },
    "id": "sh4FCbdktVQn",
    "outputId": "03a436e5-2b1c-4bad-881f-eb7aa443a2f9",
    "ExecuteTime": {
     "end_time": "2024-11-09T19:37:51.310543Z",
     "start_time": "2024-11-09T19:37:51.306669Z"
    }
   },
   "outputs": [
    {
     "data": {
      "text/plain": "(80447, 27)"
     },
     "execution_count": 39,
     "metadata": {},
     "output_type": "execute_result"
    }
   ],
   "source": [
    "df.shape"
   ]
  },
  {
   "cell_type": "code",
   "source": [
    "for column in df.select_dtypes(include='category').columns:\n",
    "    print(df[column].astype(str).value_counts().sort_index())\n",
    "    print()"
   ],
   "metadata": {
    "id": "gPFJBJRR1XgG",
    "colab": {
     "base_uri": "https://localhost:8080/"
    },
    "executionInfo": {
     "status": "ok",
     "timestamp": 1731180089413,
     "user_tz": -120,
     "elapsed": 235,
     "user": {
      "displayName": "Lana Teras",
      "userId": "04934565953456237748"
     }
    },
    "outputId": "7aad5afd-32af-4193-e381-1bc4a08979da",
    "ExecuteTime": {
     "end_time": "2024-11-09T19:37:51.500885Z",
     "start_time": "2024-11-09T19:37:51.309341Z"
    }
   },
   "id": "gPFJBJRR1XgG",
   "execution_count": 40,
   "outputs": [
    {
     "name": "stdout",
     "output_type": "stream",
     "text": [
      "_AGEG5YR\n",
      "Age 18 to 29     6597\n",
      "Age 30 to 39    10647\n",
      "Age 40 to 49    12277\n",
      "Age 50 to 59    14611\n",
      "Age 60 to 69    17432\n",
      "Age 70+         18883\n",
      "Name: count, dtype: int64\n",
      "\n",
      "_ASTHMS1\n",
      "No     65638\n",
      "Yes    14809\n",
      "Name: count, dtype: int64\n",
      "_BMI5CAT\n",
      "Normal Weight    21291\n",
      "Obese            31642\n",
      "Overweight       27514\n",
      "Name: count, dtype: int64\n",
      "\n",
      "_CHLDCNT\n",
      "No     58874\n",
      "Yes    21573\n",
      "Name: count, dtype: int64\n",
      "\n",
      "_DRDXAR2\n",
      "No     48289\n",
      "Yes    32158\n",
      "Name: count, dtype: int64\n",
      "\n",
      "_EDUCAG\n",
      "Attended College               22478\n",
      "College or Technical School    37399\n",
      "High School                    17209\n",
      "No                              3361\n",
      "Name: count, dtype: int64\n",
      "\n",
      "_IMPRACE\n",
      "Other    19445\n",
      "White    61002\n",
      "Name: count, dtype: int64\n",
      "\n",
      "_INCOMG1\n",
      "$100,000 to < $200,00    17697\n",
      "$15,000 to < $25,000      7479\n",
      "$200,000+                 5891\n",
      "$25,000 to < $35,000      8769\n",
      "$35,000 to < $50,000     10829\n",
      "$50,000 to < $100,000    25031\n",
      "Less than $15,000         4751\n",
      "Name: count, dtype: int64\n",
      "\n",
      "_MENT14D\n",
      "1-13 days    37356\n",
      "14+ days     17740\n",
      "Zero days    25351\n",
      "Name: count, dtype: int64\n",
      "\n",
      "_MICHD\n",
      "No     72336\n",
      "Yes     8111\n",
      "Name: count, dtype: int64\n",
      "\n",
      "_PHYS14D\n",
      "1-13 days    36796\n",
      "14+ days     19138\n",
      "Zero days    24513\n",
      "Name: count, dtype: int64\n",
      "\n",
      "_RFCHOL3\n",
      "No     44760\n",
      "Yes    35687\n",
      "Name: count, dtype: int64\n",
      "\n",
      "_RFHYPE6\n",
      "No     44276\n",
      "Yes    36171\n",
      "Name: count, dtype: int64\n",
      "\n",
      "_SMOKER3\n",
      "No     47044\n",
      "Yes    33403\n",
      "Name: count, dtype: int64\n",
      "\n",
      "ADDEPEV3\n",
      "No     55041\n",
      "Yes    25406\n",
      "Name: count, dtype: int64\n",
      "\n",
      "CHCCOPD3\n",
      "No     72462\n",
      "Yes     7985\n",
      "Name: count, dtype: int64\n",
      "\n",
      "CHCKDNY2\n",
      "No     75519\n",
      "Yes     4928\n",
      "Name: count, dtype: int64\n",
      "\n",
      "CVDSTRK3\n",
      "No     76336\n",
      "Yes     4111\n",
      "Name: count, dtype: int64\n",
      "\n",
      "DIABETE4\n",
      "No     64198\n",
      "Yes    16249\n",
      "Name: count, dtype: int64\n",
      "\n",
      "GENHLTH\n",
      "Excellent     7261\n",
      "Fair         15797\n",
      "Good         27418\n",
      "Poor          5778\n",
      "Very good    24193\n",
      "Name: count, dtype: int64\n",
      "\n",
      "POORHLTH\n",
      "1-13 days    24887\n",
      "14+ days     13823\n",
      "Zero days    41737\n",
      "Name: count, dtype: int64\n",
      "\n",
      "SDHSTRE1\n",
      "Always        5591\n",
      "Never        19510\n",
      "Rarely       23189\n",
      "Sometimes    23894\n",
      "Usually       8263\n",
      "Name: count, dtype: int64\n",
      "\n",
      "SDLONELY\n",
      "Always        2522\n",
      "Never        23461\n",
      "Rarely       27433\n",
      "Sometimes    23153\n",
      "Usually       3878\n",
      "Name: count, dtype: int64\n",
      "\n",
      "SEXVAR\n",
      "Female    45650\n",
      "Male      34797\n",
      "Name: count, dtype: int64\n",
      "\n",
      "_TOTINDA\n",
      "No     21252\n",
      "Yes    59195\n",
      "Name: count, dtype: int64\n",
      "\n",
      "_DRNKWK21\n",
      "No     36753\n",
      "Yes    43694\n",
      "Name: count, dtype: int64\n",
      "\n",
      "CHCSCNC\n",
      "No     65724\n",
      "Yes    14723\n",
      "Name: count, dtype: int64\n"
     ]
    }
   ]
  },
  {
   "cell_type": "markdown",
   "source": [
    "## Export clean dataset to CSV"
   ],
   "metadata": {
    "collapsed": false,
    "id": "47673003be25c4fe"
   },
   "id": "47673003be25c4fe"
  },
  {
   "cell_type": "code",
   "execution_count": 41,
   "outputs": [
    {
     "data": {
      "text/plain": "       _AGEG5YR _ASTHMS1 _BMI5CAT _CHLDCNT _DRDXAR2  \\\ncount     80447    80447    80447    80447    80447   \nunique        6        2        3        2        2   \ntop     Age 70+       No    Obese       No       No   \nfreq      18883    65638    31642    58874    48289   \n\n                            _EDUCAG _IMPRACE               _INCOMG1  \\\ncount                         80447    80447                  80447   \nunique                            4        2                      7   \ntop     College or Technical School    White  $50,000 to < $100,000   \nfreq                          37399    61002                  25031   \n\n         _MENT14D _MICHD  ... CVDSTRK3 DIABETE4 GENHLTH   POORHLTH   SDHSTRE1  \\\ncount       80447  80447  ...    80447    80447   80447      80447      80447   \nunique          3      2  ...        2        2       5          3          5   \ntop     1-13 days     No  ...       No       No    Good  Zero days  Sometimes   \nfreq        37356  72336  ...    76336    64198   27418      41737      23894   \n\n       SDLONELY  SEXVAR _TOTINDA _DRNKWK21 CHCSCNC  \ncount     80447   80447    80447     80447   80447  \nunique        5       2        2         2       2  \ntop      Rarely  Female      Yes       Yes      No  \nfreq      27433   45650    59195     43694   65724  \n\n[4 rows x 27 columns]",
      "text/html": "<div>\n<style scoped>\n    .dataframe tbody tr th:only-of-type {\n        vertical-align: middle;\n    }\n\n    .dataframe tbody tr th {\n        vertical-align: top;\n    }\n\n    .dataframe thead th {\n        text-align: right;\n    }\n</style>\n<table border=\"1\" class=\"dataframe\">\n  <thead>\n    <tr style=\"text-align: right;\">\n      <th></th>\n      <th>_AGEG5YR</th>\n      <th>_ASTHMS1</th>\n      <th>_BMI5CAT</th>\n      <th>_CHLDCNT</th>\n      <th>_DRDXAR2</th>\n      <th>_EDUCAG</th>\n      <th>_IMPRACE</th>\n      <th>_INCOMG1</th>\n      <th>_MENT14D</th>\n      <th>_MICHD</th>\n      <th>...</th>\n      <th>CVDSTRK3</th>\n      <th>DIABETE4</th>\n      <th>GENHLTH</th>\n      <th>POORHLTH</th>\n      <th>SDHSTRE1</th>\n      <th>SDLONELY</th>\n      <th>SEXVAR</th>\n      <th>_TOTINDA</th>\n      <th>_DRNKWK21</th>\n      <th>CHCSCNC</th>\n    </tr>\n  </thead>\n  <tbody>\n    <tr>\n      <th>count</th>\n      <td>80447</td>\n      <td>80447</td>\n      <td>80447</td>\n      <td>80447</td>\n      <td>80447</td>\n      <td>80447</td>\n      <td>80447</td>\n      <td>80447</td>\n      <td>80447</td>\n      <td>80447</td>\n      <td>...</td>\n      <td>80447</td>\n      <td>80447</td>\n      <td>80447</td>\n      <td>80447</td>\n      <td>80447</td>\n      <td>80447</td>\n      <td>80447</td>\n      <td>80447</td>\n      <td>80447</td>\n      <td>80447</td>\n    </tr>\n    <tr>\n      <th>unique</th>\n      <td>6</td>\n      <td>2</td>\n      <td>3</td>\n      <td>2</td>\n      <td>2</td>\n      <td>4</td>\n      <td>2</td>\n      <td>7</td>\n      <td>3</td>\n      <td>2</td>\n      <td>...</td>\n      <td>2</td>\n      <td>2</td>\n      <td>5</td>\n      <td>3</td>\n      <td>5</td>\n      <td>5</td>\n      <td>2</td>\n      <td>2</td>\n      <td>2</td>\n      <td>2</td>\n    </tr>\n    <tr>\n      <th>top</th>\n      <td>Age 70+</td>\n      <td>No</td>\n      <td>Obese</td>\n      <td>No</td>\n      <td>No</td>\n      <td>College or Technical School</td>\n      <td>White</td>\n      <td>$50,000 to &lt; $100,000</td>\n      <td>1-13 days</td>\n      <td>No</td>\n      <td>...</td>\n      <td>No</td>\n      <td>No</td>\n      <td>Good</td>\n      <td>Zero days</td>\n      <td>Sometimes</td>\n      <td>Rarely</td>\n      <td>Female</td>\n      <td>Yes</td>\n      <td>Yes</td>\n      <td>No</td>\n    </tr>\n    <tr>\n      <th>freq</th>\n      <td>18883</td>\n      <td>65638</td>\n      <td>31642</td>\n      <td>58874</td>\n      <td>48289</td>\n      <td>37399</td>\n      <td>61002</td>\n      <td>25031</td>\n      <td>37356</td>\n      <td>72336</td>\n      <td>...</td>\n      <td>76336</td>\n      <td>64198</td>\n      <td>27418</td>\n      <td>41737</td>\n      <td>23894</td>\n      <td>27433</td>\n      <td>45650</td>\n      <td>59195</td>\n      <td>43694</td>\n      <td>65724</td>\n    </tr>\n  </tbody>\n</table>\n<p>4 rows × 27 columns</p>\n</div>"
     },
     "execution_count": 41,
     "metadata": {},
     "output_type": "execute_result"
    }
   ],
   "source": [
    "df.describe()"
   ],
   "metadata": {
    "colab": {
     "base_uri": "https://localhost:8080/",
     "height": 204
    },
    "id": "2bd90b76a40aa1d2",
    "executionInfo": {
     "status": "ok",
     "timestamp": 1731180089785,
     "user_tz": -120,
     "elapsed": 373,
     "user": {
      "displayName": "Lana Teras",
      "userId": "04934565953456237748"
     }
    },
    "outputId": "12d6fa71-bd14-45e1-e8b0-b383fa65606b",
    "ExecuteTime": {
     "end_time": "2024-11-09T19:37:51.525589Z",
     "start_time": "2024-11-09T19:37:51.500333Z"
    }
   },
   "id": "2bd90b76a40aa1d2"
  },
  {
   "cell_type": "code",
   "source": [
    "df.to_csv('LLCP2023_clean.csv', index=False)"
   ],
   "metadata": {
    "id": "iTDDfhJB1eTw",
    "executionInfo": {
     "status": "ok",
     "timestamp": 1731180089785,
     "user_tz": -120,
     "elapsed": 2,
     "user": {
      "displayName": "Lana Teras",
      "userId": "04934565953456237748"
     }
    },
    "ExecuteTime": {
     "end_time": "2024-11-09T19:37:51.741510Z",
     "start_time": "2024-11-09T19:37:51.520729Z"
    }
   },
   "id": "iTDDfhJB1eTw",
   "execution_count": 42,
   "outputs": []
  }
 ],
 "metadata": {
  "colab": {
   "provenance": [
    {
     "file_id": "1I5VbPjF35ExrzSVqZ8kvMDcM0j1AJF5M",
     "timestamp": 1731179507030
    }
   ]
  },
  "kernelspec": {
   "display_name": "Python 3",
   "language": "python",
   "name": "python3"
  },
  "language_info": {
   "codemirror_mode": {
    "name": "ipython",
    "version": 2
   },
   "file_extension": ".py",
   "mimetype": "text/x-python",
   "name": "python",
   "nbconvert_exporter": "python",
   "pygments_lexer": "ipython2",
   "version": "2.7.6"
  }
 },
 "nbformat": 4,
 "nbformat_minor": 5
}
