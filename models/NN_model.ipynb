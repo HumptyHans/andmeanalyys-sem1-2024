{
 "cells": [
  {
   "cell_type": "code",
   "execution_count": 1,
   "id": "initial_id",
   "metadata": {
    "collapsed": true,
    "ExecuteTime": {
     "end_time": "2024-11-09T19:47:01.246683Z",
     "start_time": "2024-11-09T19:47:00.065040Z"
    }
   },
   "outputs": [],
   "source": [
    "try:\n",
    "    import torch\n",
    "except:\n",
    "    !pip install torch\n",
    "    import torch\n",
    "\n",
    "try:\n",
    "    import captum\n",
    "except:\n",
    "    !pip install captum\n",
    "    import captum\n",
    "\n",
    "import pandas as pd\n",
    "import matplotlib.pyplot as plt\n",
    "import seaborn as sns\n",
    "\n",
    "from torch.utils.data import Dataset, DataLoader\n",
    "from torch import nn\n",
    "from sklearn.model_selection import train_test_split\n",
    "from sklearn.preprocessing import LabelEncoder\n",
    "from sklearn.metrics import f1_score, accuracy_score, classification_report, roc_auc_score\n",
    "from captum.attr import IntegratedGradients"
   ]
  },
  {
   "cell_type": "code",
   "execution_count": 2,
   "outputs": [],
   "source": [
    "df = pd.read_csv('../LLCP2023_clean.csv', keep_default_na=False, dtype='category')"
   ],
   "metadata": {
    "collapsed": false,
    "ExecuteTime": {
     "end_time": "2024-11-09T19:47:01.385848Z",
     "start_time": "2024-11-09T19:47:01.247360Z"
    }
   },
   "id": "ebf274ae93dec91f"
  },
  {
   "cell_type": "markdown",
   "source": [
    "### Training hyperparameters"
   ],
   "metadata": {
    "collapsed": false
   },
   "id": "4ad7d6c033decefa"
  },
  {
   "cell_type": "code",
   "execution_count": 3,
   "outputs": [],
   "source": [
    "learning_rate = 1e-3\n",
    "batch_size = 64\n",
    "epochs = 25"
   ],
   "metadata": {
    "collapsed": false,
    "ExecuteTime": {
     "end_time": "2024-11-09T19:47:01.390526Z",
     "start_time": "2024-11-09T19:47:01.387325Z"
    }
   },
   "id": "5027681cc5a78a21"
  },
  {
   "cell_type": "markdown",
   "source": [
    "Setting device for training"
   ],
   "metadata": {
    "collapsed": false
   },
   "id": "ca07149ee84c939c"
  },
  {
   "cell_type": "code",
   "execution_count": 4,
   "outputs": [
    {
     "name": "stdout",
     "output_type": "stream",
     "text": [
      "Using mps device\n"
     ]
    }
   ],
   "source": [
    "device = (\n",
    "    \"cuda\"\n",
    "    if torch.cuda.is_available()\n",
    "    else \"mps\"\n",
    "    if torch.backends.mps.is_available()\n",
    "    else \"cpu\"\n",
    ")\n",
    "print(f\"Using {device} device\")"
   ],
   "metadata": {
    "collapsed": false,
    "ExecuteTime": {
     "end_time": "2024-11-09T19:47:01.426121Z",
     "start_time": "2024-11-09T19:47:01.423643Z"
    }
   },
   "id": "6c608fcadc5a461e"
  },
  {
   "cell_type": "markdown",
   "source": [
    "### Encoding and splitting data into training and testing sets"
   ],
   "metadata": {
    "collapsed": false
   },
   "id": "bcfa8baf5b1e89d6"
  },
  {
   "cell_type": "code",
   "execution_count": 5,
   "outputs": [],
   "source": [
    "label_encoders = {}\n",
    "for column in df.columns:\n",
    "    le = LabelEncoder()\n",
    "    df[column] = le.fit_transform(df[column])\n",
    "    label_encoders[column] = le"
   ],
   "metadata": {
    "collapsed": false,
    "ExecuteTime": {
     "end_time": "2024-11-09T19:47:01.581439Z",
     "start_time": "2024-11-09T19:47:01.426347Z"
    }
   },
   "id": "8f0c2d679bb8dd4c"
  },
  {
   "cell_type": "code",
   "execution_count": 6,
   "outputs": [],
   "source": [
    "X = df.drop(columns=['_MENT14D'])\n",
    "y = df['_MENT14D']\n",
    "\n",
    "X_train, X_test, y_train, y_test = train_test_split(X, y, test_size=0.2, random_state=42, stratify=y)"
   ],
   "metadata": {
    "collapsed": false,
    "ExecuteTime": {
     "end_time": "2024-11-09T19:47:01.615938Z",
     "start_time": "2024-11-09T19:47:01.587103Z"
    }
   },
   "id": "95debcd4599066d"
  },
  {
   "cell_type": "code",
   "execution_count": 7,
   "outputs": [
    {
     "data": {
      "text/plain": "_MENT14D\n0    7472\n1    3548\n2    5070\nName: count, dtype: int64"
     },
     "execution_count": 7,
     "metadata": {},
     "output_type": "execute_result"
    }
   ],
   "source": [
    "y_test.value_counts().sort_index()"
   ],
   "metadata": {
    "collapsed": false,
    "ExecuteTime": {
     "end_time": "2024-11-09T19:47:01.621564Z",
     "start_time": "2024-11-09T19:47:01.619657Z"
    }
   },
   "id": "1cf5315faff22329"
  },
  {
   "cell_type": "code",
   "execution_count": 8,
   "outputs": [
    {
     "data": {
      "text/plain": "_MENT14D\n0    29884\n1    14192\n2    20281\nName: count, dtype: int64"
     },
     "execution_count": 8,
     "metadata": {},
     "output_type": "execute_result"
    }
   ],
   "source": [
    "y_train.value_counts().sort_index()"
   ],
   "metadata": {
    "collapsed": false,
    "ExecuteTime": {
     "end_time": "2024-11-09T19:47:01.625825Z",
     "start_time": "2024-11-09T19:47:01.622655Z"
    }
   },
   "id": "47e4931d6c3aa16e"
  },
  {
   "cell_type": "markdown",
   "source": [
    "#### Dataset class for BRFSS data"
   ],
   "metadata": {
    "collapsed": false
   },
   "id": "9a2132c426c5f6de"
  },
  {
   "cell_type": "code",
   "execution_count": 9,
   "outputs": [],
   "source": [
    "class BRFSSDataset(Dataset):\n",
    "    def __init__(self, X, y):\n",
    "        self.X = torch.tensor(X.values, dtype=torch.float32).to(device)\n",
    "        self.y = torch.tensor(y.values, dtype=torch.long).to(device)\n",
    "\n",
    "    def __len__(self):\n",
    "        return len(self.y)\n",
    "\n",
    "    def __getitem__(self, idx):\n",
    "        return self.X[idx], self.y[idx]\n",
    "\n",
    "\n",
    "train_dataset = BRFSSDataset(X_train, y_train)\n",
    "test_dataset = BRFSSDataset(X_test, y_test)\n",
    "\n",
    "train_loader = DataLoader(train_dataset, batch_size=batch_size, shuffle=True)\n",
    "test_loader = DataLoader(test_dataset, batch_size=batch_size, shuffle=True)"
   ],
   "metadata": {
    "collapsed": false,
    "ExecuteTime": {
     "end_time": "2024-11-09T19:47:01.653188Z",
     "start_time": "2024-11-09T19:47:01.625929Z"
    }
   },
   "id": "268bc0ae79d20fd8"
  },
  {
   "cell_type": "markdown",
   "source": [
    "## Definition of Neural Network model"
   ],
   "metadata": {
    "collapsed": false
   },
   "id": "66bdc64b250b238"
  },
  {
   "cell_type": "markdown",
   "source": [
    "### Model structure"
   ],
   "metadata": {
    "collapsed": false
   },
   "id": "c8953fc3a9e57651"
  },
  {
   "cell_type": "code",
   "execution_count": 10,
   "outputs": [
    {
     "name": "stdout",
     "output_type": "stream",
     "text": [
      "MentalHealthClassifier(\n",
      "  (linear_relu_stack): Sequential(\n",
      "    (0): Linear(in_features=26, out_features=256, bias=True)\n",
      "    (1): Tanh()\n",
      "    (2): Linear(in_features=256, out_features=128, bias=True)\n",
      "    (3): Tanh()\n",
      "    (4): Linear(in_features=128, out_features=64, bias=True)\n",
      "    (5): ReLU()\n",
      "    (6): Linear(in_features=64, out_features=3, bias=True)\n",
      "    (7): Softmax(dim=1)\n",
      "  )\n",
      ")\n"
     ]
    }
   ],
   "source": [
    "class MentalHealthClassifier(nn.Module):\n",
    "    def __init__(self, input_size, num_classes):\n",
    "        super().__init__()\n",
    "        self.linear_relu_stack = nn.Sequential(\n",
    "            nn.Linear(input_size, 256),\n",
    "            nn.Tanh(),\n",
    "            nn.Linear(256, 128),\n",
    "            nn.Tanh(),\n",
    "            nn.Linear(128, 64),\n",
    "            nn.ReLU(),\n",
    "            nn.Linear(64, num_classes),\n",
    "            nn.Softmax(dim=1)\n",
    "        )\n",
    "\n",
    "    def forward(self, x):\n",
    "        return self.linear_relu_stack(x)\n",
    "\n",
    "\n",
    "input_size = X_train.shape[1]  # Number of features\n",
    "num_classes = len(y.unique())  # Number of target classes\n",
    "model = MentalHealthClassifier(input_size, num_classes).to(device)\n",
    "print(model)"
   ],
   "metadata": {
    "collapsed": false,
    "ExecuteTime": {
     "end_time": "2024-11-09T19:47:01.663378Z",
     "start_time": "2024-11-09T19:47:01.653925Z"
    }
   },
   "id": "a61355c9956f15d2"
  },
  {
   "cell_type": "markdown",
   "source": [
    "### Training and testing loops"
   ],
   "metadata": {
    "collapsed": false
   },
   "id": "fddaed94910438d7"
  },
  {
   "cell_type": "code",
   "execution_count": 11,
   "outputs": [],
   "source": [
    "def train_loop(dataloader, model, loss_fn, optimizer):\n",
    "    size = len(dataloader.dataset)\n",
    "    model.train()\n",
    "    for batch, (X, y) in enumerate(dataloader):\n",
    "        # Forward pass\n",
    "        pred = model(X)\n",
    "        loss = loss_fn(pred, y)\n",
    "\n",
    "        # Backpropagation\n",
    "        loss.backward()\n",
    "        optimizer.step()\n",
    "        optimizer.zero_grad()\n",
    "\n",
    "        if batch % 100 == 0:\n",
    "            loss, current = loss.item(), batch * batch_size + len(X)\n",
    "            print(f\"loss: {loss:>7f}  [{current:>5d}/{size:>5d}]\")\n",
    "\n",
    "\n",
    "def test_loop(dataloader, model, loss_fn):\n",
    "    model.eval()\n",
    "    size = len(dataloader.dataset)\n",
    "    num_batches = len(dataloader)\n",
    "    test_loss, correct = 0, 0\n",
    "\n",
    "    # Evaluating the model with torch.no_grad() ensures that no gradients are computed during test mode\n",
    "    # also serves to reduce unnecessary gradient computations and memory usage for tensors with requires_grad=True\n",
    "    with torch.no_grad():\n",
    "        for X, y in dataloader:\n",
    "            pred = model(X)\n",
    "            test_loss += loss_fn(pred, y).item()\n",
    "            correct += (pred.argmax(1) == y).type(torch.float).sum().item()\n",
    "\n",
    "    test_loss /= num_batches\n",
    "    correct /= size\n",
    "    print(f\"Test Error: \\n Accuracy: {(100 * correct):>0.1f}%, Avg loss: {test_loss:>8f} \\n\")"
   ],
   "metadata": {
    "collapsed": false,
    "ExecuteTime": {
     "end_time": "2024-11-09T19:47:01.667760Z",
     "start_time": "2024-11-09T19:47:01.665039Z"
    }
   },
   "id": "b551e23d4f1097bb"
  },
  {
   "cell_type": "markdown",
   "source": [
    "## Training of Neural Network model"
   ],
   "metadata": {
    "collapsed": false
   },
   "id": "ea71f3ecd1511cd6"
  },
  {
   "cell_type": "code",
   "execution_count": 12,
   "outputs": [
    {
     "name": "stdout",
     "output_type": "stream",
     "text": [
      "Epoch 1\n",
      "-------------------------------\n",
      "loss: 1.100055  [   64/64357]\n",
      "loss: 0.893600  [ 6464/64357]\n",
      "loss: 0.904380  [12864/64357]\n",
      "loss: 0.837950  [19264/64357]\n",
      "loss: 0.888578  [25664/64357]\n",
      "loss: 0.834571  [32064/64357]\n",
      "loss: 0.911067  [38464/64357]\n",
      "loss: 0.838047  [44864/64357]\n",
      "loss: 0.860882  [51264/64357]\n",
      "loss: 0.846337  [57664/64357]\n",
      "loss: 0.821186  [64064/64357]\n",
      "Test Error: \n",
      " Accuracy: 68.3%, Avg loss: 0.856400 \n",
      "\n",
      "Epoch 2\n",
      "-------------------------------\n",
      "loss: 0.839359  [   64/64357]\n",
      "loss: 0.783633  [ 6464/64357]\n",
      "loss: 0.860384  [12864/64357]\n",
      "loss: 0.915853  [19264/64357]\n",
      "loss: 0.885392  [25664/64357]\n",
      "loss: 0.868120  [32064/64357]\n",
      "loss: 0.830121  [38464/64357]\n",
      "loss: 0.895880  [44864/64357]\n",
      "loss: 0.780477  [51264/64357]\n",
      "loss: 0.950129  [57664/64357]\n",
      "loss: 0.873137  [64064/64357]\n",
      "Test Error: \n",
      " Accuracy: 68.7%, Avg loss: 0.853399 \n",
      "\n",
      "Epoch 3\n",
      "-------------------------------\n",
      "loss: 0.882922  [   64/64357]\n",
      "loss: 0.862399  [ 6464/64357]\n",
      "loss: 0.915274  [12864/64357]\n",
      "loss: 0.800510  [19264/64357]\n",
      "loss: 0.769341  [25664/64357]\n",
      "loss: 0.781667  [32064/64357]\n",
      "loss: 0.786768  [38464/64357]\n",
      "loss: 0.850697  [44864/64357]\n",
      "loss: 0.822629  [51264/64357]\n",
      "loss: 0.808749  [57664/64357]\n",
      "loss: 0.822649  [64064/64357]\n",
      "Test Error: \n",
      " Accuracy: 69.2%, Avg loss: 0.847056 \n",
      "\n",
      "Epoch 4\n",
      "-------------------------------\n",
      "loss: 0.865788  [   64/64357]\n",
      "loss: 0.786627  [ 6464/64357]\n",
      "loss: 0.982807  [12864/64357]\n",
      "loss: 0.874064  [19264/64357]\n",
      "loss: 0.866525  [25664/64357]\n",
      "loss: 0.788368  [32064/64357]\n",
      "loss: 0.858910  [38464/64357]\n",
      "loss: 0.856660  [44864/64357]\n",
      "loss: 0.899288  [51264/64357]\n",
      "loss: 0.766802  [57664/64357]\n",
      "loss: 0.761029  [64064/64357]\n",
      "Test Error: \n",
      " Accuracy: 69.4%, Avg loss: 0.846116 \n",
      "\n",
      "Epoch 5\n",
      "-------------------------------\n",
      "loss: 0.899791  [   64/64357]\n",
      "loss: 0.898558  [ 6464/64357]\n",
      "loss: 0.861542  [12864/64357]\n",
      "loss: 0.856381  [19264/64357]\n",
      "loss: 0.845077  [25664/64357]\n",
      "loss: 0.871471  [32064/64357]\n",
      "loss: 0.854606  [38464/64357]\n",
      "loss: 0.833020  [44864/64357]\n",
      "loss: 0.871470  [51264/64357]\n",
      "loss: 0.844682  [57664/64357]\n",
      "loss: 0.839332  [64064/64357]\n",
      "Test Error: \n",
      " Accuracy: 70.1%, Avg loss: 0.840312 \n",
      "\n",
      "Epoch 6\n",
      "-------------------------------\n",
      "loss: 0.847531  [   64/64357]\n",
      "loss: 0.856566  [ 6464/64357]\n",
      "loss: 0.808162  [12864/64357]\n",
      "loss: 0.901467  [19264/64357]\n",
      "loss: 0.837217  [25664/64357]\n",
      "loss: 0.880607  [32064/64357]\n",
      "loss: 0.860381  [38464/64357]\n",
      "loss: 0.744814  [44864/64357]\n",
      "loss: 0.851416  [51264/64357]\n",
      "loss: 0.938976  [57664/64357]\n",
      "loss: 0.845901  [64064/64357]\n",
      "Test Error: \n",
      " Accuracy: 70.1%, Avg loss: 0.839036 \n",
      "\n",
      "Epoch 7\n",
      "-------------------------------\n",
      "loss: 0.725657  [   64/64357]\n",
      "loss: 0.840582  [ 6464/64357]\n",
      "loss: 0.836160  [12864/64357]\n",
      "loss: 0.754559  [19264/64357]\n",
      "loss: 0.846540  [25664/64357]\n",
      "loss: 0.828019  [32064/64357]\n",
      "loss: 0.824208  [38464/64357]\n",
      "loss: 0.827796  [44864/64357]\n",
      "loss: 0.854065  [51264/64357]\n",
      "loss: 0.775329  [57664/64357]\n",
      "loss: 0.767701  [64064/64357]\n",
      "Test Error: \n",
      " Accuracy: 70.3%, Avg loss: 0.838229 \n",
      "\n",
      "Epoch 8\n",
      "-------------------------------\n",
      "loss: 0.889417  [   64/64357]\n",
      "loss: 0.883201  [ 6464/64357]\n",
      "loss: 0.852432  [12864/64357]\n",
      "loss: 0.849046  [19264/64357]\n",
      "loss: 0.783471  [25664/64357]\n",
      "loss: 0.866483  [32064/64357]\n",
      "loss: 0.905552  [38464/64357]\n",
      "loss: 0.843485  [44864/64357]\n",
      "loss: 0.799636  [51264/64357]\n",
      "loss: 0.869256  [57664/64357]\n",
      "loss: 0.859616  [64064/64357]\n",
      "Test Error: \n",
      " Accuracy: 70.3%, Avg loss: 0.839136 \n",
      "\n",
      "Epoch 9\n",
      "-------------------------------\n",
      "loss: 0.894784  [   64/64357]\n",
      "loss: 0.720193  [ 6464/64357]\n",
      "loss: 0.873442  [12864/64357]\n",
      "loss: 0.799993  [19264/64357]\n",
      "loss: 0.832624  [25664/64357]\n",
      "loss: 0.871460  [32064/64357]\n",
      "loss: 0.823434  [38464/64357]\n",
      "loss: 0.901105  [44864/64357]\n",
      "loss: 0.858706  [51264/64357]\n",
      "loss: 0.833935  [57664/64357]\n",
      "loss: 0.815433  [64064/64357]\n",
      "Test Error: \n",
      " Accuracy: 70.6%, Avg loss: 0.836923 \n",
      "\n",
      "Epoch 10\n",
      "-------------------------------\n",
      "loss: 0.822408  [   64/64357]\n",
      "loss: 0.840360  [ 6464/64357]\n",
      "loss: 0.951020  [12864/64357]\n",
      "loss: 0.840800  [19264/64357]\n",
      "loss: 0.844171  [25664/64357]\n",
      "loss: 0.875402  [32064/64357]\n",
      "loss: 0.829069  [38464/64357]\n",
      "loss: 0.788830  [44864/64357]\n",
      "loss: 0.792783  [51264/64357]\n",
      "loss: 0.841880  [57664/64357]\n",
      "loss: 0.896736  [64064/64357]\n",
      "Test Error: \n",
      " Accuracy: 70.4%, Avg loss: 0.836989 \n",
      "\n",
      "Epoch 11\n",
      "-------------------------------\n",
      "loss: 0.887940  [   64/64357]\n",
      "loss: 0.809595  [ 6464/64357]\n",
      "loss: 0.831109  [12864/64357]\n",
      "loss: 0.812444  [19264/64357]\n",
      "loss: 0.809567  [25664/64357]\n",
      "loss: 0.793579  [32064/64357]\n",
      "loss: 0.795082  [38464/64357]\n",
      "loss: 0.751000  [44864/64357]\n",
      "loss: 0.871813  [51264/64357]\n",
      "loss: 0.888505  [57664/64357]\n",
      "loss: 0.892975  [64064/64357]\n",
      "Test Error: \n",
      " Accuracy: 70.6%, Avg loss: 0.835535 \n",
      "\n",
      "Epoch 12\n",
      "-------------------------------\n",
      "loss: 0.828915  [   64/64357]\n",
      "loss: 0.789122  [ 6464/64357]\n",
      "loss: 0.873284  [12864/64357]\n",
      "loss: 0.753746  [19264/64357]\n",
      "loss: 0.794719  [25664/64357]\n",
      "loss: 0.917245  [32064/64357]\n",
      "loss: 0.851361  [38464/64357]\n",
      "loss: 0.875992  [44864/64357]\n",
      "loss: 0.847677  [51264/64357]\n",
      "loss: 0.770751  [57664/64357]\n",
      "loss: 0.784441  [64064/64357]\n",
      "Test Error: \n",
      " Accuracy: 70.5%, Avg loss: 0.835672 \n",
      "\n",
      "Epoch 13\n",
      "-------------------------------\n",
      "loss: 0.923176  [   64/64357]\n",
      "loss: 0.837315  [ 6464/64357]\n",
      "loss: 0.805854  [12864/64357]\n",
      "loss: 0.831811  [19264/64357]\n",
      "loss: 0.831617  [25664/64357]\n",
      "loss: 0.926794  [32064/64357]\n",
      "loss: 0.870862  [38464/64357]\n",
      "loss: 0.815067  [44864/64357]\n",
      "loss: 0.886439  [51264/64357]\n",
      "loss: 0.827930  [57664/64357]\n",
      "loss: 0.798389  [64064/64357]\n",
      "Test Error: \n",
      " Accuracy: 70.6%, Avg loss: 0.835446 \n",
      "\n",
      "Epoch 14\n",
      "-------------------------------\n",
      "loss: 0.848495  [   64/64357]\n",
      "loss: 0.869959  [ 6464/64357]\n",
      "loss: 0.879381  [12864/64357]\n",
      "loss: 0.747284  [19264/64357]\n",
      "loss: 0.880966  [25664/64357]\n",
      "loss: 0.792917  [32064/64357]\n",
      "loss: 0.865302  [38464/64357]\n",
      "loss: 0.815824  [44864/64357]\n",
      "loss: 0.846175  [51264/64357]\n",
      "loss: 0.792688  [57664/64357]\n",
      "loss: 0.784927  [64064/64357]\n",
      "Test Error: \n",
      " Accuracy: 70.5%, Avg loss: 0.837299 \n",
      "\n",
      "Epoch 15\n",
      "-------------------------------\n",
      "loss: 0.750854  [   64/64357]\n",
      "loss: 0.792294  [ 6464/64357]\n",
      "loss: 0.803650  [12864/64357]\n",
      "loss: 0.761652  [19264/64357]\n",
      "loss: 0.870501  [25664/64357]\n",
      "loss: 0.724277  [32064/64357]\n",
      "loss: 0.749999  [38464/64357]\n",
      "loss: 0.804940  [44864/64357]\n",
      "loss: 0.779006  [51264/64357]\n",
      "loss: 0.850805  [57664/64357]\n",
      "loss: 0.867333  [64064/64357]\n",
      "Test Error: \n",
      " Accuracy: 70.6%, Avg loss: 0.835421 \n",
      "\n",
      "Epoch 16\n",
      "-------------------------------\n",
      "loss: 0.906312  [   64/64357]\n",
      "loss: 0.852334  [ 6464/64357]\n",
      "loss: 0.811668  [12864/64357]\n",
      "loss: 0.773768  [19264/64357]\n",
      "loss: 0.731568  [25664/64357]\n",
      "loss: 0.837699  [32064/64357]\n",
      "loss: 0.810341  [38464/64357]\n",
      "loss: 0.909644  [44864/64357]\n",
      "loss: 0.884959  [51264/64357]\n",
      "loss: 0.819716  [57664/64357]\n",
      "loss: 0.953056  [64064/64357]\n",
      "Test Error: \n",
      " Accuracy: 70.6%, Avg loss: 0.834762 \n",
      "\n",
      "Epoch 17\n",
      "-------------------------------\n",
      "loss: 0.863126  [   64/64357]\n",
      "loss: 0.882359  [ 6464/64357]\n",
      "loss: 0.859669  [12864/64357]\n",
      "loss: 0.765640  [19264/64357]\n",
      "loss: 0.819890  [25664/64357]\n",
      "loss: 0.746346  [32064/64357]\n",
      "loss: 0.840129  [38464/64357]\n",
      "loss: 0.816892  [44864/64357]\n",
      "loss: 0.892948  [51264/64357]\n",
      "loss: 0.944623  [57664/64357]\n",
      "loss: 0.832753  [64064/64357]\n",
      "Test Error: \n",
      " Accuracy: 70.5%, Avg loss: 0.835115 \n",
      "\n",
      "Epoch 18\n",
      "-------------------------------\n",
      "loss: 0.847512  [   64/64357]\n",
      "loss: 0.791511  [ 6464/64357]\n",
      "loss: 0.867168  [12864/64357]\n",
      "loss: 0.793467  [19264/64357]\n",
      "loss: 0.743225  [25664/64357]\n",
      "loss: 0.737338  [32064/64357]\n",
      "loss: 0.862044  [38464/64357]\n",
      "loss: 0.771088  [44864/64357]\n",
      "loss: 0.838153  [51264/64357]\n",
      "loss: 0.843160  [57664/64357]\n",
      "loss: 0.762458  [64064/64357]\n",
      "Test Error: \n",
      " Accuracy: 70.5%, Avg loss: 0.836842 \n",
      "\n",
      "Epoch 19\n",
      "-------------------------------\n",
      "loss: 0.856207  [   64/64357]\n",
      "loss: 0.834538  [ 6464/64357]\n",
      "loss: 0.867251  [12864/64357]\n",
      "loss: 0.802466  [19264/64357]\n",
      "loss: 0.866117  [25664/64357]\n",
      "loss: 0.868245  [32064/64357]\n",
      "loss: 0.750496  [38464/64357]\n",
      "loss: 0.847362  [44864/64357]\n",
      "loss: 0.792304  [51264/64357]\n",
      "loss: 0.790113  [57664/64357]\n",
      "loss: 0.942051  [64064/64357]\n",
      "Test Error: \n",
      " Accuracy: 70.4%, Avg loss: 0.836056 \n",
      "\n",
      "Epoch 20\n",
      "-------------------------------\n",
      "loss: 0.713951  [   64/64357]\n",
      "loss: 0.833987  [ 6464/64357]\n",
      "loss: 0.786045  [12864/64357]\n",
      "loss: 0.803316  [19264/64357]\n",
      "loss: 0.775588  [25664/64357]\n",
      "loss: 0.819449  [32064/64357]\n",
      "loss: 0.868535  [38464/64357]\n",
      "loss: 0.884276  [44864/64357]\n",
      "loss: 0.818271  [51264/64357]\n",
      "loss: 0.825467  [57664/64357]\n",
      "loss: 0.785088  [64064/64357]\n",
      "Test Error: \n",
      " Accuracy: 70.4%, Avg loss: 0.837634 \n",
      "\n",
      "Epoch 21\n",
      "-------------------------------\n",
      "loss: 0.761000  [   64/64357]\n",
      "loss: 0.854316  [ 6464/64357]\n",
      "loss: 0.753591  [12864/64357]\n",
      "loss: 0.907639  [19264/64357]\n",
      "loss: 0.943838  [25664/64357]\n",
      "loss: 0.821158  [32064/64357]\n",
      "loss: 0.820126  [38464/64357]\n",
      "loss: 0.794955  [44864/64357]\n",
      "loss: 0.810431  [51264/64357]\n",
      "loss: 0.785545  [57664/64357]\n",
      "loss: 0.808666  [64064/64357]\n",
      "Test Error: \n",
      " Accuracy: 70.5%, Avg loss: 0.837178 \n",
      "\n",
      "Epoch 22\n",
      "-------------------------------\n",
      "loss: 0.808145  [   64/64357]\n",
      "loss: 0.923029  [ 6464/64357]\n",
      "loss: 0.787137  [12864/64357]\n",
      "loss: 0.910707  [19264/64357]\n",
      "loss: 0.781716  [25664/64357]\n",
      "loss: 0.808294  [32064/64357]\n",
      "loss: 0.899167  [38464/64357]\n",
      "loss: 0.898507  [44864/64357]\n",
      "loss: 0.888304  [51264/64357]\n",
      "loss: 0.827030  [57664/64357]\n",
      "loss: 0.781043  [64064/64357]\n",
      "Test Error: \n",
      " Accuracy: 70.5%, Avg loss: 0.836309 \n",
      "\n",
      "Epoch 23\n",
      "-------------------------------\n",
      "loss: 0.798746  [   64/64357]\n",
      "loss: 0.810018  [ 6464/64357]\n",
      "loss: 0.691165  [12864/64357]\n",
      "loss: 0.849798  [19264/64357]\n",
      "loss: 0.821725  [25664/64357]\n",
      "loss: 0.798177  [32064/64357]\n",
      "loss: 0.820087  [38464/64357]\n",
      "loss: 0.808482  [44864/64357]\n",
      "loss: 0.875914  [51264/64357]\n",
      "loss: 0.801733  [57664/64357]\n",
      "loss: 0.901824  [64064/64357]\n",
      "Test Error: \n",
      " Accuracy: 70.3%, Avg loss: 0.837245 \n",
      "\n",
      "Epoch 24\n",
      "-------------------------------\n",
      "loss: 0.845893  [   64/64357]\n",
      "loss: 0.908784  [ 6464/64357]\n",
      "loss: 0.847243  [12864/64357]\n",
      "loss: 0.744318  [19264/64357]\n",
      "loss: 0.825452  [25664/64357]\n",
      "loss: 0.821910  [32064/64357]\n",
      "loss: 0.791820  [38464/64357]\n",
      "loss: 0.784765  [44864/64357]\n",
      "loss: 0.852767  [51264/64357]\n",
      "loss: 0.783522  [57664/64357]\n",
      "loss: 0.860001  [64064/64357]\n",
      "Test Error: \n",
      " Accuracy: 70.5%, Avg loss: 0.838590 \n",
      "\n",
      "Epoch 25\n",
      "-------------------------------\n",
      "loss: 0.837825  [   64/64357]\n",
      "loss: 0.824217  [ 6464/64357]\n",
      "loss: 0.830925  [12864/64357]\n",
      "loss: 0.841451  [19264/64357]\n",
      "loss: 0.798994  [25664/64357]\n",
      "loss: 0.685047  [32064/64357]\n",
      "loss: 0.795258  [38464/64357]\n",
      "loss: 0.857194  [44864/64357]\n",
      "loss: 0.755203  [51264/64357]\n",
      "loss: 0.804699  [57664/64357]\n",
      "loss: 0.697706  [64064/64357]\n",
      "Test Error: \n",
      " Accuracy: 70.6%, Avg loss: 0.836324 \n",
      "\n",
      "Done!\n"
     ]
    }
   ],
   "source": [
    "loss_fn = nn.CrossEntropyLoss()\n",
    "optimizer = torch.optim.Adam(model.parameters(), lr=learning_rate)\n",
    "\n",
    "for t in range(epochs):\n",
    "    print(f\"Epoch {t + 1}\\n-------------------------------\")\n",
    "    train_loop(train_loader, model, loss_fn, optimizer)\n",
    "    test_loop(test_loader, model, loss_fn)\n",
    "print(\"Done!\")"
   ],
   "metadata": {
    "collapsed": false,
    "ExecuteTime": {
     "end_time": "2024-11-09T19:48:36.054498Z",
     "start_time": "2024-11-09T19:47:01.670019Z"
    }
   },
   "id": "a1d7e4740209e651"
  },
  {
   "cell_type": "markdown",
   "source": [
    "## Evaluation"
   ],
   "metadata": {
    "collapsed": false
   },
   "id": "240fd2a797d0ef2d"
  },
  {
   "cell_type": "code",
   "execution_count": 13,
   "outputs": [],
   "source": [
    "y_pred_prob = []\n",
    "y_pred = []\n",
    "y_true = []\n",
    "model.eval()\n",
    "with torch.inference_mode():\n",
    "    for X, y in test_loader:\n",
    "        prob = model(X).to('cpu')\n",
    "        y_pred_prob += prob.tolist()\n",
    "        pred = prob.argmax(axis=1)\n",
    "        y_pred += pred.tolist()\n",
    "        y_true += y.to('cpu').tolist()"
   ],
   "metadata": {
    "collapsed": false,
    "ExecuteTime": {
     "end_time": "2024-11-09T19:48:36.711177Z",
     "start_time": "2024-11-09T19:48:36.054370Z"
    }
   },
   "id": "38003da660faea9a"
  },
  {
   "cell_type": "code",
   "execution_count": 14,
   "outputs": [
    {
     "data": {
      "text/plain": "0.7055313859540087"
     },
     "execution_count": 14,
     "metadata": {},
     "output_type": "execute_result"
    }
   ],
   "source": [
    "accuracy_score(y_true, y_pred)"
   ],
   "metadata": {
    "collapsed": false,
    "ExecuteTime": {
     "end_time": "2024-11-09T19:48:36.718663Z",
     "start_time": "2024-11-09T19:48:36.711675Z"
    }
   },
   "id": "442497f7ce748d7d"
  },
  {
   "cell_type": "code",
   "execution_count": 15,
   "outputs": [
    {
     "data": {
      "text/plain": "0.7023440046597151"
     },
     "execution_count": 15,
     "metadata": {},
     "output_type": "execute_result"
    }
   ],
   "source": [
    "f1_score(y_true, y_pred, average='weighted')"
   ],
   "metadata": {
    "collapsed": false,
    "ExecuteTime": {
     "end_time": "2024-11-09T19:48:36.730850Z",
     "start_time": "2024-11-09T19:48:36.720363Z"
    }
   },
   "id": "bf0117ead57a356c"
  },
  {
   "cell_type": "code",
   "execution_count": 16,
   "outputs": [
    {
     "data": {
      "text/plain": "{'0': {'precision': 0.718065693430657,\n  'recall': 0.7372858672376874,\n  'f1-score': 0.7275488642366614,\n  'support': 7472.0},\n '1': {'precision': 0.669374779229954,\n  'recall': 0.5341037204058624,\n  'f1-score': 0.5941370120708575,\n  'support': 3548.0},\n '2': {'precision': 0.7066404152496868,\n  'recall': 0.778698224852071,\n  'f1-score': 0.7409214600731914,\n  'support': 5070.0},\n 'accuracy': 0.7055313859540087,\n 'macro avg': {'precision': 0.6980269626367659,\n  'recall': 0.683362604165207,\n  'f1-score': 0.6875357787935701,\n  'support': 16090.0},\n 'weighted avg': {'precision': 0.7037287435262684,\n  'recall': 0.7055313859540087,\n  'f1-score': 0.7023440046597151,\n  'support': 16090.0}}"
     },
     "execution_count": 16,
     "metadata": {},
     "output_type": "execute_result"
    }
   ],
   "source": [
    "classification_report(y_true, y_pred, output_dict=True)"
   ],
   "metadata": {
    "collapsed": false,
    "ExecuteTime": {
     "end_time": "2024-11-09T19:48:36.769547Z",
     "start_time": "2024-11-09T19:48:36.732670Z"
    }
   },
   "id": "d5ce0993bb7e1cc1"
  },
  {
   "cell_type": "code",
   "execution_count": 17,
   "outputs": [
    {
     "data": {
      "text/plain": "0.8529498039730058"
     },
     "execution_count": 17,
     "metadata": {},
     "output_type": "execute_result"
    }
   ],
   "source": [
    "roc_auc_score(y_true, y_pred_prob, multi_class='ovo')"
   ],
   "metadata": {
    "collapsed": false,
    "ExecuteTime": {
     "end_time": "2024-11-09T19:48:36.770330Z",
     "start_time": "2024-11-09T19:48:36.752764Z"
    }
   },
   "id": "a2bacb2f4a374d1b"
  },
  {
   "cell_type": "markdown",
   "source": [
    "## Save trained model weights"
   ],
   "metadata": {
    "collapsed": false
   },
   "id": "835a39dbdc137c03"
  },
  {
   "cell_type": "code",
   "execution_count": 18,
   "outputs": [],
   "source": [
    "torch.save(model.state_dict(), '../model-weights/nn_model.pt')"
   ],
   "metadata": {
    "collapsed": false,
    "ExecuteTime": {
     "end_time": "2024-11-09T19:48:36.776987Z",
     "start_time": "2024-11-09T19:48:36.772847Z"
    }
   },
   "id": "7226f411ee409711"
  },
  {
   "cell_type": "markdown",
   "source": [
    "### Load model"
   ],
   "metadata": {
    "collapsed": false
   },
   "id": "10e5bfa7270f3997"
  },
  {
   "cell_type": "code",
   "execution_count": 19,
   "outputs": [
    {
     "data": {
      "text/plain": "MentalHealthClassifier(\n  (linear_relu_stack): Sequential(\n    (0): Linear(in_features=26, out_features=256, bias=True)\n    (1): Tanh()\n    (2): Linear(in_features=256, out_features=128, bias=True)\n    (3): Tanh()\n    (4): Linear(in_features=128, out_features=64, bias=True)\n    (5): ReLU()\n    (6): Linear(in_features=64, out_features=3, bias=True)\n    (7): Softmax(dim=1)\n  )\n)"
     },
     "execution_count": 19,
     "metadata": {},
     "output_type": "execute_result"
    }
   ],
   "source": [
    "model.load_state_dict(torch.load('../model-weights/nn_model.pt', weights_only=True))\n",
    "model.eval()"
   ],
   "metadata": {
    "collapsed": false,
    "ExecuteTime": {
     "end_time": "2024-11-09T19:48:36.782862Z",
     "start_time": "2024-11-09T19:48:36.776954Z"
    }
   },
   "id": "a9be3c7344386db4"
  },
  {
   "cell_type": "markdown",
   "source": [
    "## Model understanding"
   ],
   "metadata": {
    "collapsed": false
   },
   "id": "95064135b4ecf3c"
  },
  {
   "cell_type": "markdown",
   "source": [
    "### Using Captum package to calculate feature attributions"
   ],
   "metadata": {
    "collapsed": false
   },
   "id": "9bc04c0139d06b6f"
  },
  {
   "cell_type": "code",
   "execution_count": 20,
   "outputs": [],
   "source": [
    "ig = IntegratedGradients(model.to('cpu'))\n",
    "attribution_tensors = []\n",
    "    \n",
    "for target_class_index in range(3):\n",
    "    for X, y in train_loader:\n",
    "        attribution_tensors += ig.attribute(X.to('cpu'), target=target_class_index)"
   ],
   "metadata": {
    "collapsed": false,
    "ExecuteTime": {
     "end_time": "2024-11-09T19:50:03.896707Z",
     "start_time": "2024-11-09T19:48:36.782709Z"
    }
   },
   "id": "6fc9d215fd1b995a"
  },
  {
   "cell_type": "code",
   "execution_count": 21,
   "outputs": [
    {
     "data": {
      "text/plain": "       column  attribution\n0    SDLONELY     1.000000\n1    ADDEPEV3     0.605694\n2    _SMOKER3     0.594207\n3    _RFCHOL3     0.588797\n4   _DRNKWK21     0.581030\n5    _IMPRACE     0.580703\n6     CHCSCNC     0.577773\n7    _ASTHMS1     0.570693\n8    CVDSTRK3     0.567871\n9    POORHLTH     0.566505\n10   CHCCOPD3     0.565017\n11   CHCKDNY2     0.564806\n12   _CHLDCNT     0.563924\n13    _EDUCAG     0.561017\n14   _RFHYPE6     0.560346\n15     _MICHD     0.556756\n16   _INCOMG1     0.551102\n17   _BMI5CAT     0.550427\n18   DIABETE4     0.549674\n19   _DRDXAR2     0.548397\n20    GENHLTH     0.535925\n21     SEXVAR     0.511334\n22   _TOTINDA     0.473360\n23   _AGEG5YR     0.370488\n24   _PHYS14D     0.217849\n25   SDHSTRE1     0.000000",
      "text/html": "<div>\n<style scoped>\n    .dataframe tbody tr th:only-of-type {\n        vertical-align: middle;\n    }\n\n    .dataframe tbody tr th {\n        vertical-align: top;\n    }\n\n    .dataframe thead th {\n        text-align: right;\n    }\n</style>\n<table border=\"1\" class=\"dataframe\">\n  <thead>\n    <tr style=\"text-align: right;\">\n      <th></th>\n      <th>column</th>\n      <th>attribution</th>\n    </tr>\n  </thead>\n  <tbody>\n    <tr>\n      <th>0</th>\n      <td>SDLONELY</td>\n      <td>1.000000</td>\n    </tr>\n    <tr>\n      <th>1</th>\n      <td>ADDEPEV3</td>\n      <td>0.605694</td>\n    </tr>\n    <tr>\n      <th>2</th>\n      <td>_SMOKER3</td>\n      <td>0.594207</td>\n    </tr>\n    <tr>\n      <th>3</th>\n      <td>_RFCHOL3</td>\n      <td>0.588797</td>\n    </tr>\n    <tr>\n      <th>4</th>\n      <td>_DRNKWK21</td>\n      <td>0.581030</td>\n    </tr>\n    <tr>\n      <th>5</th>\n      <td>_IMPRACE</td>\n      <td>0.580703</td>\n    </tr>\n    <tr>\n      <th>6</th>\n      <td>CHCSCNC</td>\n      <td>0.577773</td>\n    </tr>\n    <tr>\n      <th>7</th>\n      <td>_ASTHMS1</td>\n      <td>0.570693</td>\n    </tr>\n    <tr>\n      <th>8</th>\n      <td>CVDSTRK3</td>\n      <td>0.567871</td>\n    </tr>\n    <tr>\n      <th>9</th>\n      <td>POORHLTH</td>\n      <td>0.566505</td>\n    </tr>\n    <tr>\n      <th>10</th>\n      <td>CHCCOPD3</td>\n      <td>0.565017</td>\n    </tr>\n    <tr>\n      <th>11</th>\n      <td>CHCKDNY2</td>\n      <td>0.564806</td>\n    </tr>\n    <tr>\n      <th>12</th>\n      <td>_CHLDCNT</td>\n      <td>0.563924</td>\n    </tr>\n    <tr>\n      <th>13</th>\n      <td>_EDUCAG</td>\n      <td>0.561017</td>\n    </tr>\n    <tr>\n      <th>14</th>\n      <td>_RFHYPE6</td>\n      <td>0.560346</td>\n    </tr>\n    <tr>\n      <th>15</th>\n      <td>_MICHD</td>\n      <td>0.556756</td>\n    </tr>\n    <tr>\n      <th>16</th>\n      <td>_INCOMG1</td>\n      <td>0.551102</td>\n    </tr>\n    <tr>\n      <th>17</th>\n      <td>_BMI5CAT</td>\n      <td>0.550427</td>\n    </tr>\n    <tr>\n      <th>18</th>\n      <td>DIABETE4</td>\n      <td>0.549674</td>\n    </tr>\n    <tr>\n      <th>19</th>\n      <td>_DRDXAR2</td>\n      <td>0.548397</td>\n    </tr>\n    <tr>\n      <th>20</th>\n      <td>GENHLTH</td>\n      <td>0.535925</td>\n    </tr>\n    <tr>\n      <th>21</th>\n      <td>SEXVAR</td>\n      <td>0.511334</td>\n    </tr>\n    <tr>\n      <th>22</th>\n      <td>_TOTINDA</td>\n      <td>0.473360</td>\n    </tr>\n    <tr>\n      <th>23</th>\n      <td>_AGEG5YR</td>\n      <td>0.370488</td>\n    </tr>\n    <tr>\n      <th>24</th>\n      <td>_PHYS14D</td>\n      <td>0.217849</td>\n    </tr>\n    <tr>\n      <th>25</th>\n      <td>SDHSTRE1</td>\n      <td>0.000000</td>\n    </tr>\n  </tbody>\n</table>\n</div>"
     },
     "execution_count": 21,
     "metadata": {},
     "output_type": "execute_result"
    }
   ],
   "source": [
    "# Calculate mean attribution per column\n",
    "attributions = torch.vstack(attribution_tensors).mean(dim=0)\n",
    "\n",
    "# Rescale values between 0 and 1 for better visualization\n",
    "attributions -= attributions.min()\n",
    "attributions /= (attributions.max() - attributions.min())\n",
    "\n",
    "columns_attribution = pd.DataFrame({\n",
    "    \"column\": [X_train.columns[i] for i in attributions.sort(descending=True)[1].tolist()],\n",
    "    \"attribution\": attributions.sort(descending=True)[0].tolist()\n",
    "})\n",
    "columns_attribution"
   ],
   "metadata": {
    "collapsed": false,
    "ExecuteTime": {
     "end_time": "2024-11-09T19:50:04.070613Z",
     "start_time": "2024-11-09T19:50:03.895984Z"
    }
   },
   "id": "e1dfe427f0d54182"
  },
  {
   "cell_type": "code",
   "execution_count": 22,
   "outputs": [
    {
     "data": {
      "text/plain": "<Figure size 1000x600 with 1 Axes>",
      "image/png": "[encoded data removed]"
     },
     "metadata": {},
     "output_type": "display_data"
    }
   ],
   "source": [
    "plt.figure(figsize=(10, 6))\n",
    "barplot = sns.barplot(\n",
    "    x='attribution',\n",
    "    y='column',\n",
    "    data=columns_attribution,\n",
    "    palette=\"viridis\",\n",
    "    orient=\"h\"\n",
    ")\n",
    "\n",
    "plt.title(\"Variable Importance Based on Attribution Values\")\n",
    "plt.xlabel(\"Attribution (0 to 1)\")\n",
    "plt.ylabel(\"Variables\")\n",
    "\n",
    "plt.show()"
   ],
   "metadata": {
    "collapsed": false,
    "ExecuteTime": {
     "end_time": "2024-11-09T19:50:04.468160Z",
     "start_time": "2024-11-09T19:50:04.067821Z"
    }
   },
   "id": "6fe22057986d0ad"
  }
 ],
 "metadata": {
  "kernelspec": {
   "display_name": "Python 3",
   "language": "python",
   "name": "python3"
  },
  "language_info": {
   "codemirror_mode": {
    "name": "ipython",
    "version": 2
   },
   "file_extension": ".py",
   "mimetype": "text/x-python",
   "name": "python",
   "nbconvert_exporter": "python",
   "pygments_lexer": "ipython2",
   "version": "2.7.6"
  }
 },
 "nbformat": 4,
 "nbformat_minor": 5
}
