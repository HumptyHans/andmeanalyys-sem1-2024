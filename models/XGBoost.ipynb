{
  "nbformat": 4,
  "nbformat_minor": 0,
  "metadata": {
    "colab": {
      "provenance": []
    },
    "kernelspec": {
      "name": "python3",
      "display_name": "Python 3"
    },
    "language_info": {
      "name": "python"
    }
  },
  "cells": [
    {
      "cell_type": "code",
      "execution_count": 1,
      "metadata": {
        "id": "pGX2_zSZXIrS"
      },
      "outputs": [],
      "source": [
        "import pandas as pd\n",
        "import numpy as np\n",
        "from sklearn.model_selection import train_test_split\n",
        "from sklearn.preprocessing import LabelEncoder\n",
        "from sklearn.metrics import accuracy_score, f1_score, classification_report, roc_auc_score\n",
        "from xgboost import XGBClassifier\n",
        "import joblib\n",
        "import matplotlib.pyplot as plt\n",
        "import seaborn as sns\n",
        "import shap"
      ]
    },
    {
      "cell_type": "markdown",
      "source": [
        "Training"
      ],
      "metadata": {
        "id": "uUUPol-dXeyp"
      }
    },
    {
      "cell_type": "code",
      "source": [
        "#Загрузка данных\n",
        "df = pd.read_csv('LLCP2023_clean.csv', keep_default_na=False, dtype='category')"
      ],
      "metadata": {
        "id": "SuP2Pw8dXolN"
      },
      "execution_count": 2,
      "outputs": []
    },
    {
      "cell_type": "code",
      "source": [
        "label_encoders = {}\n",
        "for column in df.columns:\n",
        "    le = LabelEncoder()\n",
        "    df[column] = le.fit_transform(df[column])\n",
        "    label_encoders[column] = le"
      ],
      "metadata": {
        "id": "fRU_pnUjXqLA"
      },
      "execution_count": 3,
      "outputs": []
    },
    {
      "cell_type": "code",
      "source": [
        "X = df.drop(columns=['_MENT14D'])  # Признаки\n",
        "y = df['_MENT14D']  # Целевая переменная"
      ],
      "metadata": {
        "id": "bvHlGw4SXu89"
      },
      "execution_count": 4,
      "outputs": []
    },
    {
      "cell_type": "code",
      "source": [
        "X_train, X_test, y_train, y_test = train_test_split(X, y, test_size=0.2, random_state=42)"
      ],
      "metadata": {
        "id": "3xT0jG52YWVu"
      },
      "execution_count": 5,
      "outputs": []
    },
    {
      "cell_type": "code",
      "source": [
        "model = XGBClassifier(\n",
        "    n_estimators=100,          # количество деревьев\n",
        "    learning_rate=0.1,         # скорость обучения\n",
        "    max_depth=6,               # максимальная глубина деревьев\n",
        "    min_child_weight=1,        # минимальный вес для дочернего узла\n",
        "    gamma=0,                   # минимальное уменьшение потерь для создания нового разбиения\n",
        "    subsample=0.8,             # доля выборки для построения каждого дерева\n",
        "    colsample_bytree=0.8,      # доля признаков для построения каждого дерева\n",
        "    objective='multi:softprob', # функция потерь для мультиклассовой классификации\n",
        "    num_class=len(y.unique()), # количество классов\n",
        "    random_state=42\n",
        ")"
      ],
      "metadata": {
        "id": "0DtHqFCbYZcu"
      },
      "execution_count": 7,
      "outputs": []
    },
    {
      "cell_type": "code",
      "source": [
        "# Функция обучения с выводом метрик\n",
        "def train_model(model, X_train, X_test, y_train, y_test):\n",
        "    print(\"Начало обучения модели...\")\n",
        "\n",
        "    # Обучение модели с отслеживанием прогресса\n",
        "    model.fit(\n",
        "        X_train, y_train,\n",
        "        eval_set=[(X_train, y_train), (X_test, y_test)],\n",
        "        #eval_metric=eval_metric,\n",
        "        verbose=True\n",
        "    )\n",
        "\n",
        "    print(\"\\nОбучение завершено!\")\n",
        "    return model"
      ],
      "metadata": {
        "id": "xFJiTCZvbsOy"
      },
      "execution_count": 8,
      "outputs": []
    },
    {
      "cell_type": "code",
      "source": [
        "# Функция оценки модели\n",
        "def evaluate_model(model, X_test, y_test):\n",
        "    # Получение предсказаний\n",
        "    y_pred = model.predict(X_test)\n",
        "    y_pred_prob = model.predict_proba(X_test)\n",
        "\n",
        "    # Расчет метрик\n",
        "    accuracy = accuracy_score(y_test, y_pred)\n",
        "    f1 = f1_score(y_test, y_pred, average='weighted')\n",
        "    roc_auc = roc_auc_score(y_test, y_pred_prob, multi_class='ovo')\n",
        "\n",
        "    print(\"\\nРезультаты оценки модели:\")\n",
        "    print(f\"Accuracy: {accuracy:.4f}\")\n",
        "    print(f\"F1 Score (weighted): {f1:.4f}\")\n",
        "    print(f\"ROC AUC Score: {roc_auc:.4f}\")\n",
        "\n",
        "    # Подробный отчет о классификации\n",
        "    print(\"\\nПодробный отчет о классификации:\")\n",
        "    print(classification_report(y_test, y_pred))\n",
        "\n",
        "    return {\n",
        "        'accuracy': accuracy,\n",
        "        'f1_score': f1,\n",
        "        'roc_auc': roc_auc,\n",
        "        'classification_report': classification_report(y_test, y_pred, output_dict=True)\n",
        "    }"
      ],
      "metadata": {
        "id": "fTxEHUW2bvov"
      },
      "execution_count": 9,
      "outputs": []
    },
    {
      "cell_type": "code",
      "source": [
        "# Обучение модели\n",
        "trained_model = train_model(model, X_train, X_test, y_train, y_test)"
      ],
      "metadata": {
        "colab": {
          "base_uri": "https://localhost:8080/"
        },
        "id": "TCvnbxdfbzxn",
        "outputId": "473643fc-30c3-4b5b-d202-ddae1b3820cc"
      },
      "execution_count": 10,
      "outputs": [
        {
          "output_type": "stream",
          "name": "stdout",
          "text": [
            "Начало обучения модели...\n",
            "[0]\tvalidation_0-mlogloss:1.04456\tvalidation_1-mlogloss:1.04456\n",
            "[1]\tvalidation_0-mlogloss:0.99989\tvalidation_1-mlogloss:0.99994\n",
            "[2]\tvalidation_0-mlogloss:0.96032\tvalidation_1-mlogloss:0.96040\n",
            "[3]\tvalidation_0-mlogloss:0.92627\tvalidation_1-mlogloss:0.92637\n",
            "[4]\tvalidation_0-mlogloss:0.90261\tvalidation_1-mlogloss:0.90275\n",
            "[5]\tvalidation_0-mlogloss:0.88296\tvalidation_1-mlogloss:0.88302\n",
            "[6]\tvalidation_0-mlogloss:0.85953\tvalidation_1-mlogloss:0.85957\n",
            "[7]\tvalidation_0-mlogloss:0.83894\tvalidation_1-mlogloss:0.83909\n",
            "[8]\tvalidation_0-mlogloss:0.82027\tvalidation_1-mlogloss:0.82049\n",
            "[9]\tvalidation_0-mlogloss:0.80487\tvalidation_1-mlogloss:0.80520\n",
            "[10]\tvalidation_0-mlogloss:0.78967\tvalidation_1-mlogloss:0.79014\n",
            "[11]\tvalidation_0-mlogloss:0.77628\tvalidation_1-mlogloss:0.77701\n",
            "[12]\tvalidation_0-mlogloss:0.76451\tvalidation_1-mlogloss:0.76543\n",
            "[13]\tvalidation_0-mlogloss:0.75448\tvalidation_1-mlogloss:0.75556\n",
            "[14]\tvalidation_0-mlogloss:0.74520\tvalidation_1-mlogloss:0.74645\n",
            "[15]\tvalidation_0-mlogloss:0.73708\tvalidation_1-mlogloss:0.73845\n",
            "[16]\tvalidation_0-mlogloss:0.73017\tvalidation_1-mlogloss:0.73172\n",
            "[17]\tvalidation_0-mlogloss:0.72319\tvalidation_1-mlogloss:0.72491\n",
            "[18]\tvalidation_0-mlogloss:0.71708\tvalidation_1-mlogloss:0.71907\n",
            "[19]\tvalidation_0-mlogloss:0.71127\tvalidation_1-mlogloss:0.71350\n",
            "[20]\tvalidation_0-mlogloss:0.70607\tvalidation_1-mlogloss:0.70845\n",
            "[21]\tvalidation_0-mlogloss:0.70271\tvalidation_1-mlogloss:0.70537\n",
            "[22]\tvalidation_0-mlogloss:0.69846\tvalidation_1-mlogloss:0.70139\n",
            "[23]\tvalidation_0-mlogloss:0.69448\tvalidation_1-mlogloss:0.69763\n",
            "[24]\tvalidation_0-mlogloss:0.69118\tvalidation_1-mlogloss:0.69460\n",
            "[25]\tvalidation_0-mlogloss:0.68773\tvalidation_1-mlogloss:0.69144\n",
            "[26]\tvalidation_0-mlogloss:0.68444\tvalidation_1-mlogloss:0.68834\n",
            "[27]\tvalidation_0-mlogloss:0.68170\tvalidation_1-mlogloss:0.68595\n",
            "[28]\tvalidation_0-mlogloss:0.67967\tvalidation_1-mlogloss:0.68414\n",
            "[29]\tvalidation_0-mlogloss:0.67688\tvalidation_1-mlogloss:0.68155\n",
            "[30]\tvalidation_0-mlogloss:0.67493\tvalidation_1-mlogloss:0.68008\n",
            "[31]\tvalidation_0-mlogloss:0.67264\tvalidation_1-mlogloss:0.67805\n",
            "[32]\tvalidation_0-mlogloss:0.67100\tvalidation_1-mlogloss:0.67674\n",
            "[33]\tvalidation_0-mlogloss:0.66880\tvalidation_1-mlogloss:0.67486\n",
            "[34]\tvalidation_0-mlogloss:0.66682\tvalidation_1-mlogloss:0.67315\n",
            "[35]\tvalidation_0-mlogloss:0.66484\tvalidation_1-mlogloss:0.67143\n",
            "[36]\tvalidation_0-mlogloss:0.66314\tvalidation_1-mlogloss:0.66998\n",
            "[37]\tvalidation_0-mlogloss:0.66154\tvalidation_1-mlogloss:0.66872\n",
            "[38]\tvalidation_0-mlogloss:0.66041\tvalidation_1-mlogloss:0.66797\n",
            "[39]\tvalidation_0-mlogloss:0.65890\tvalidation_1-mlogloss:0.66677\n",
            "[40]\tvalidation_0-mlogloss:0.65745\tvalidation_1-mlogloss:0.66560\n",
            "[41]\tvalidation_0-mlogloss:0.65616\tvalidation_1-mlogloss:0.66458\n",
            "[42]\tvalidation_0-mlogloss:0.65482\tvalidation_1-mlogloss:0.66357\n",
            "[43]\tvalidation_0-mlogloss:0.65354\tvalidation_1-mlogloss:0.66269\n",
            "[44]\tvalidation_0-mlogloss:0.65246\tvalidation_1-mlogloss:0.66195\n",
            "[45]\tvalidation_0-mlogloss:0.65138\tvalidation_1-mlogloss:0.66123\n",
            "[46]\tvalidation_0-mlogloss:0.65029\tvalidation_1-mlogloss:0.66043\n",
            "[47]\tvalidation_0-mlogloss:0.64921\tvalidation_1-mlogloss:0.65969\n",
            "[48]\tvalidation_0-mlogloss:0.64821\tvalidation_1-mlogloss:0.65906\n",
            "[49]\tvalidation_0-mlogloss:0.64738\tvalidation_1-mlogloss:0.65871\n",
            "[50]\tvalidation_0-mlogloss:0.64669\tvalidation_1-mlogloss:0.65838\n",
            "[51]\tvalidation_0-mlogloss:0.64567\tvalidation_1-mlogloss:0.65776\n",
            "[52]\tvalidation_0-mlogloss:0.64478\tvalidation_1-mlogloss:0.65725\n",
            "[53]\tvalidation_0-mlogloss:0.64391\tvalidation_1-mlogloss:0.65672\n",
            "[54]\tvalidation_0-mlogloss:0.64322\tvalidation_1-mlogloss:0.65639\n",
            "[55]\tvalidation_0-mlogloss:0.64251\tvalidation_1-mlogloss:0.65614\n",
            "[56]\tvalidation_0-mlogloss:0.64169\tvalidation_1-mlogloss:0.65567\n",
            "[57]\tvalidation_0-mlogloss:0.64113\tvalidation_1-mlogloss:0.65558\n",
            "[58]\tvalidation_0-mlogloss:0.64049\tvalidation_1-mlogloss:0.65539\n",
            "[59]\tvalidation_0-mlogloss:0.63969\tvalidation_1-mlogloss:0.65491\n",
            "[60]\tvalidation_0-mlogloss:0.63911\tvalidation_1-mlogloss:0.65485\n",
            "[61]\tvalidation_0-mlogloss:0.63834\tvalidation_1-mlogloss:0.65447\n",
            "[62]\tvalidation_0-mlogloss:0.63766\tvalidation_1-mlogloss:0.65410\n",
            "[63]\tvalidation_0-mlogloss:0.63697\tvalidation_1-mlogloss:0.65374\n",
            "[64]\tvalidation_0-mlogloss:0.63619\tvalidation_1-mlogloss:0.65335\n",
            "[65]\tvalidation_0-mlogloss:0.63562\tvalidation_1-mlogloss:0.65323\n",
            "[66]\tvalidation_0-mlogloss:0.63509\tvalidation_1-mlogloss:0.65314\n",
            "[67]\tvalidation_0-mlogloss:0.63437\tvalidation_1-mlogloss:0.65291\n",
            "[68]\tvalidation_0-mlogloss:0.63374\tvalidation_1-mlogloss:0.65264\n",
            "[69]\tvalidation_0-mlogloss:0.63326\tvalidation_1-mlogloss:0.65259\n",
            "[70]\tvalidation_0-mlogloss:0.63264\tvalidation_1-mlogloss:0.65233\n",
            "[71]\tvalidation_0-mlogloss:0.63207\tvalidation_1-mlogloss:0.65212\n",
            "[72]\tvalidation_0-mlogloss:0.63158\tvalidation_1-mlogloss:0.65193\n",
            "[73]\tvalidation_0-mlogloss:0.63107\tvalidation_1-mlogloss:0.65180\n",
            "[74]\tvalidation_0-mlogloss:0.63048\tvalidation_1-mlogloss:0.65163\n",
            "[75]\tvalidation_0-mlogloss:0.63000\tvalidation_1-mlogloss:0.65161\n",
            "[76]\tvalidation_0-mlogloss:0.62949\tvalidation_1-mlogloss:0.65149\n",
            "[77]\tvalidation_0-mlogloss:0.62897\tvalidation_1-mlogloss:0.65142\n",
            "[78]\tvalidation_0-mlogloss:0.62847\tvalidation_1-mlogloss:0.65125\n",
            "[79]\tvalidation_0-mlogloss:0.62797\tvalidation_1-mlogloss:0.65108\n",
            "[80]\tvalidation_0-mlogloss:0.62746\tvalidation_1-mlogloss:0.65093\n",
            "[81]\tvalidation_0-mlogloss:0.62696\tvalidation_1-mlogloss:0.65076\n",
            "[82]\tvalidation_0-mlogloss:0.62646\tvalidation_1-mlogloss:0.65067\n",
            "[83]\tvalidation_0-mlogloss:0.62602\tvalidation_1-mlogloss:0.65056\n",
            "[84]\tvalidation_0-mlogloss:0.62561\tvalidation_1-mlogloss:0.65057\n",
            "[85]\tvalidation_0-mlogloss:0.62514\tvalidation_1-mlogloss:0.65050\n",
            "[86]\tvalidation_0-mlogloss:0.62468\tvalidation_1-mlogloss:0.65038\n",
            "[87]\tvalidation_0-mlogloss:0.62429\tvalidation_1-mlogloss:0.65031\n",
            "[88]\tvalidation_0-mlogloss:0.62388\tvalidation_1-mlogloss:0.65017\n",
            "[89]\tvalidation_0-mlogloss:0.62345\tvalidation_1-mlogloss:0.65005\n",
            "[90]\tvalidation_0-mlogloss:0.62300\tvalidation_1-mlogloss:0.64999\n",
            "[91]\tvalidation_0-mlogloss:0.62256\tvalidation_1-mlogloss:0.64999\n",
            "[92]\tvalidation_0-mlogloss:0.62214\tvalidation_1-mlogloss:0.64986\n",
            "[93]\tvalidation_0-mlogloss:0.62172\tvalidation_1-mlogloss:0.64982\n",
            "[94]\tvalidation_0-mlogloss:0.62131\tvalidation_1-mlogloss:0.64972\n",
            "[95]\tvalidation_0-mlogloss:0.62090\tvalidation_1-mlogloss:0.64973\n",
            "[96]\tvalidation_0-mlogloss:0.62046\tvalidation_1-mlogloss:0.64967\n",
            "[97]\tvalidation_0-mlogloss:0.62007\tvalidation_1-mlogloss:0.64955\n",
            "[98]\tvalidation_0-mlogloss:0.61970\tvalidation_1-mlogloss:0.64946\n",
            "[99]\tvalidation_0-mlogloss:0.61927\tvalidation_1-mlogloss:0.64941\n",
            "\n",
            "Обучение завершено!\n"
          ]
        }
      ]
    },
    {
      "cell_type": "code",
      "source": [
        "# Оценка модели\n",
        "metrics = evaluate_model(trained_model, X_test, y_test)"
      ],
      "metadata": {
        "colab": {
          "base_uri": "https://localhost:8080/"
        },
        "id": "n16swdx9b423",
        "outputId": "bd008c82-0b54-44e8-e4a8-e91f314ed5c6"
      },
      "execution_count": 11,
      "outputs": [
        {
          "output_type": "stream",
          "name": "stdout",
          "text": [
            "\n",
            "Результаты оценки модели:\n",
            "Accuracy: 0.7122\n",
            "F1 Score (weighted): 0.7093\n",
            "ROC AUC Score: 0.8710\n",
            "\n",
            "Подробный отчет о классификации:\n",
            "              precision    recall  f1-score   support\n",
            "\n",
            "           0       0.73      0.74      0.73      7497\n",
            "           1       0.69      0.55      0.61      3511\n",
            "           2       0.71      0.79      0.75      5082\n",
            "\n",
            "    accuracy                           0.71     16090\n",
            "   macro avg       0.71      0.69      0.70     16090\n",
            "weighted avg       0.71      0.71      0.71     16090\n",
            "\n"
          ]
        }
      ]
    },
    {
      "cell_type": "code",
      "source": [
        "y_pred_prob = model.predict_proba(X_test)\n",
        "y_pred = model.predict(X_test)\n",
        "y_true = y_test\n",
        "\n",
        "# Расчет accuracy\n",
        "accuracy = accuracy_score(y_true, y_pred)\n",
        "print(f\"Accuracy: {accuracy}\")\n",
        "\n",
        "# Если нужны списки вместо numpy массивов:\n",
        "y_pred_prob = y_pred_prob.tolist()\n",
        "y_pred = y_pred.tolist()\n",
        "y_true = y_true.tolist()"
      ],
      "metadata": {
        "colab": {
          "base_uri": "https://localhost:8080/"
        },
        "id": "KwitlGC2b8QC",
        "outputId": "70e40ff9-b2bd-4b06-c359-d0f0e39fada4"
      },
      "execution_count": 12,
      "outputs": [
        {
          "output_type": "stream",
          "name": "stdout",
          "text": [
            "Accuracy: 0.7122436295835923\n"
          ]
        }
      ]
    },
    {
      "cell_type": "code",
      "source": [
        "# 1. Feature importance на основе gain (наиболее популярный метод)\n",
        "feature_importance = model.get_booster().get_score(importance_type='gain')\n",
        "importance_df = pd.DataFrame({\n",
        "    'feature': list(feature_importance.keys()),\n",
        "    'importance': list(feature_importance.values())\n",
        "})\n",
        "importance_df = importance_df.sort_values('importance', ascending=False)\n",
        "\n",
        "# Визуализация\n",
        "plt.figure(figsize=(12, 6))\n",
        "sns.barplot(data=importance_df.head(20), x='importance', y='feature')\n",
        "plt.title('Top 20 Most Important Features (gain)')\n",
        "plt.xlabel('Feature Importance Score')\n",
        "plt.xticks(rotation=45)\n",
        "plt.tight_layout()\n",
        "plt.show()"
      ],
      "metadata": {
        "colab": {
          "base_uri": "https://localhost:8080/",
          "height": 510
        },
        "id": "RhodRb7zcGp7",
        "outputId": "9d0c310f-dcc0-4497-b2a7-3dbd002f1033"
      },
      "execution_count": 13,
      "outputs": [
        {
          "output_type": "display_data",
          "data": {
            "text/plain": [
              "<Figure size 1200x600 with 1 Axes>"
            ],
            "image/png": "[encoded data removed]"
          },
          "metadata": {}
        }
      ]
    }
  ]
}