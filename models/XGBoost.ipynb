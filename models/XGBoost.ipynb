{
  "nbformat": 4,
  "nbformat_minor": 0,
  "metadata": {
    "colab": {
      "provenance": []
    },
    "kernelspec": {
      "name": "python3",
      "display_name": "Python 3"
    },
    "language_info": {
      "name": "python"
    }
  },
  "cells": [
    {
      "cell_type": "code",
      "execution_count": 12,
      "metadata": {
        "id": "pGX2_zSZXIrS"
      },
      "outputs": [],
      "source": [
        "import pandas as pd\n",
        "import numpy as np\n",
        "from sklearn.model_selection import train_test_split\n",
        "from sklearn.preprocessing import LabelEncoder\n",
        "from sklearn.metrics import accuracy_score, f1_score, classification_report, roc_auc_score\n",
        "from xgboost import XGBClassifier\n",
        "import joblib\n",
        "import matplotlib.pyplot as plt\n",
        "import seaborn as sns\n",
        "import shap\n",
        "import xgboost as xgb"
      ]
    },
    {
      "cell_type": "markdown",
      "source": [
        "Training"
      ],
      "metadata": {
        "id": "uUUPol-dXeyp"
      }
    },
    {
      "cell_type": "code",
      "source": [
        "df = pd.read_csv('LLCP2023_clean.csv', keep_default_na=False, dtype='category')"
      ],
      "metadata": {
        "id": "SuP2Pw8dXolN"
      },
      "execution_count": 13,
      "outputs": []
    },
    {
      "cell_type": "code",
      "source": [
        "label_encoders = {}\n",
        "for column in df.columns:\n",
        "    le = LabelEncoder()\n",
        "    df[column] = le.fit_transform(df[column])\n",
        "    label_encoders[column] = le"
      ],
      "metadata": {
        "id": "fRU_pnUjXqLA"
      },
      "execution_count": 14,
      "outputs": []
    },
    {
      "cell_type": "code",
      "source": [
        "X = df.drop(columns=['_MENT14D'])\n",
        "y = df['_MENT14D']"
      ],
      "metadata": {
        "id": "bvHlGw4SXu89"
      },
      "execution_count": 15,
      "outputs": []
    },
    {
      "cell_type": "code",
      "source": [
        "X_train, X_test, y_train, y_test = train_test_split(X, y, test_size=0.2, random_state=42, stratify=y)"
      ],
      "metadata": {
        "id": "3xT0jG52YWVu"
      },
      "execution_count": 16,
      "outputs": []
    },
    {
      "cell_type": "code",
      "source": [
        "model = XGBClassifier(\n",
        "    n_estimators=100,\n",
        "    learning_rate=0.1,\n",
        "    max_depth=6,\n",
        "    min_child_weight=1,\n",
        "    gamma=0,\n",
        "    subsample=0.8,\n",
        "    colsample_bytree=0.8,\n",
        "    objective='multi:softprob',\n",
        "    num_class=len(y.unique()),\n",
        "    random_state=42\n",
        ")"
      ],
      "metadata": {
        "id": "0DtHqFCbYZcu"
      },
      "execution_count": 17,
      "outputs": []
    },
    {
      "cell_type": "code",
      "source": [
        "def train_model(model, X_train, X_test, y_train, y_test):\n",
        "    print(\"Model training start...\")\n",
        "\n",
        "    model.fit(\n",
        "        X_train, y_train,\n",
        "        eval_set=[(X_train, y_train), (X_test, y_test)],\n",
        "        verbose=True\n",
        "    )\n",
        "\n",
        "    print(\"\\nTraining completed!\")\n",
        "    return model"
      ],
      "metadata": {
        "id": "xFJiTCZvbsOy"
      },
      "execution_count": 19,
      "outputs": []
    },
    {
      "cell_type": "code",
      "source": [
        "def evaluate_model(model, X_test, y_test):\n",
        "\n",
        "    y_pred = model.predict(X_test)\n",
        "    y_pred_prob = model.predict_proba(X_test)\n",
        "\n",
        "    accuracy = accuracy_score(y_test, y_pred)\n",
        "    f1 = f1_score(y_test, y_pred, average='weighted')\n",
        "    roc_auc = roc_auc_score(y_test, y_pred_prob, multi_class='ovo')\n",
        "\n",
        "    print(\"\\nModel evaluation results:\")\n",
        "    print(f\"Accuracy: {accuracy:.4f}\")\n",
        "    print(f\"F1 Score (weighted): {f1:.4f}\")\n",
        "    print(f\"ROC AUC Score: {roc_auc:.4f}\")\n",
        "\n",
        "    print(\"\\nDetailed classification report:\")\n",
        "    print(classification_report(y_test, y_pred))\n",
        "\n",
        "    return {\n",
        "        'accuracy': accuracy,\n",
        "        'f1_score': f1,\n",
        "        'roc_auc': roc_auc,\n",
        "        'classification_report': classification_report(y_test, y_pred, output_dict=True)\n",
        "    }"
      ],
      "metadata": {
        "id": "fTxEHUW2bvov"
      },
      "execution_count": 20,
      "outputs": []
    },
    {
      "cell_type": "code",
      "source": [
        "trained_model = train_model(model, X_train, X_test, y_train, y_test)"
      ],
      "metadata": {
        "colab": {
          "base_uri": "https://localhost:8080/"
        },
        "id": "TCvnbxdfbzxn",
        "outputId": "4a67d10b-d9f7-4ee9-c2d9-58101a5403fa"
      },
      "execution_count": 21,
      "outputs": [
        {
          "output_type": "stream",
          "name": "stdout",
          "text": [
            "Model training start...\n",
            "[0]\tvalidation_0-mlogloss:1.04466\tvalidation_1-mlogloss:1.04487\n",
            "[1]\tvalidation_0-mlogloss:1.00019\tvalidation_1-mlogloss:1.00029\n",
            "[2]\tvalidation_0-mlogloss:0.96065\tvalidation_1-mlogloss:0.96084\n",
            "[3]\tvalidation_0-mlogloss:0.92680\tvalidation_1-mlogloss:0.92724\n",
            "[4]\tvalidation_0-mlogloss:0.90318\tvalidation_1-mlogloss:0.90378\n",
            "[5]\tvalidation_0-mlogloss:0.88339\tvalidation_1-mlogloss:0.88411\n",
            "[6]\tvalidation_0-mlogloss:0.85984\tvalidation_1-mlogloss:0.86087\n",
            "[7]\tvalidation_0-mlogloss:0.83910\tvalidation_1-mlogloss:0.84020\n",
            "[8]\tvalidation_0-mlogloss:0.82045\tvalidation_1-mlogloss:0.82173\n",
            "[9]\tvalidation_0-mlogloss:0.80498\tvalidation_1-mlogloss:0.80652\n",
            "[10]\tvalidation_0-mlogloss:0.78993\tvalidation_1-mlogloss:0.79169\n",
            "[11]\tvalidation_0-mlogloss:0.77642\tvalidation_1-mlogloss:0.77843\n",
            "[12]\tvalidation_0-mlogloss:0.76453\tvalidation_1-mlogloss:0.76691\n",
            "[13]\tvalidation_0-mlogloss:0.75445\tvalidation_1-mlogloss:0.75700\n",
            "[14]\tvalidation_0-mlogloss:0.74496\tvalidation_1-mlogloss:0.74787\n",
            "[15]\tvalidation_0-mlogloss:0.73686\tvalidation_1-mlogloss:0.74005\n",
            "[16]\tvalidation_0-mlogloss:0.72988\tvalidation_1-mlogloss:0.73345\n",
            "[17]\tvalidation_0-mlogloss:0.72285\tvalidation_1-mlogloss:0.72673\n",
            "[18]\tvalidation_0-mlogloss:0.71661\tvalidation_1-mlogloss:0.72083\n",
            "[19]\tvalidation_0-mlogloss:0.71082\tvalidation_1-mlogloss:0.71541\n",
            "[20]\tvalidation_0-mlogloss:0.70563\tvalidation_1-mlogloss:0.71048\n",
            "[21]\tvalidation_0-mlogloss:0.70223\tvalidation_1-mlogloss:0.70747\n",
            "[22]\tvalidation_0-mlogloss:0.69799\tvalidation_1-mlogloss:0.70355\n",
            "[23]\tvalidation_0-mlogloss:0.69386\tvalidation_1-mlogloss:0.69970\n",
            "[24]\tvalidation_0-mlogloss:0.69044\tvalidation_1-mlogloss:0.69680\n",
            "[25]\tvalidation_0-mlogloss:0.68689\tvalidation_1-mlogloss:0.69355\n",
            "[26]\tvalidation_0-mlogloss:0.68362\tvalidation_1-mlogloss:0.69062\n",
            "[27]\tvalidation_0-mlogloss:0.68071\tvalidation_1-mlogloss:0.68813\n",
            "[28]\tvalidation_0-mlogloss:0.67885\tvalidation_1-mlogloss:0.68673\n",
            "[29]\tvalidation_0-mlogloss:0.67606\tvalidation_1-mlogloss:0.68432\n",
            "[30]\tvalidation_0-mlogloss:0.67417\tvalidation_1-mlogloss:0.68288\n",
            "[31]\tvalidation_0-mlogloss:0.67188\tvalidation_1-mlogloss:0.68098\n",
            "[32]\tvalidation_0-mlogloss:0.67033\tvalidation_1-mlogloss:0.67973\n",
            "[33]\tvalidation_0-mlogloss:0.66807\tvalidation_1-mlogloss:0.67782\n",
            "[34]\tvalidation_0-mlogloss:0.66603\tvalidation_1-mlogloss:0.67618\n",
            "[35]\tvalidation_0-mlogloss:0.66404\tvalidation_1-mlogloss:0.67449\n",
            "[36]\tvalidation_0-mlogloss:0.66228\tvalidation_1-mlogloss:0.67312\n",
            "[37]\tvalidation_0-mlogloss:0.66063\tvalidation_1-mlogloss:0.67196\n",
            "[38]\tvalidation_0-mlogloss:0.65947\tvalidation_1-mlogloss:0.67127\n",
            "[39]\tvalidation_0-mlogloss:0.65789\tvalidation_1-mlogloss:0.67009\n",
            "[40]\tvalidation_0-mlogloss:0.65644\tvalidation_1-mlogloss:0.66900\n",
            "[41]\tvalidation_0-mlogloss:0.65517\tvalidation_1-mlogloss:0.66813\n",
            "[42]\tvalidation_0-mlogloss:0.65384\tvalidation_1-mlogloss:0.66715\n",
            "[43]\tvalidation_0-mlogloss:0.65263\tvalidation_1-mlogloss:0.66631\n",
            "[44]\tvalidation_0-mlogloss:0.65156\tvalidation_1-mlogloss:0.66559\n",
            "[45]\tvalidation_0-mlogloss:0.65046\tvalidation_1-mlogloss:0.66491\n",
            "[46]\tvalidation_0-mlogloss:0.64940\tvalidation_1-mlogloss:0.66423\n",
            "[47]\tvalidation_0-mlogloss:0.64833\tvalidation_1-mlogloss:0.66353\n",
            "[48]\tvalidation_0-mlogloss:0.64732\tvalidation_1-mlogloss:0.66294\n",
            "[49]\tvalidation_0-mlogloss:0.64650\tvalidation_1-mlogloss:0.66247\n",
            "[50]\tvalidation_0-mlogloss:0.64577\tvalidation_1-mlogloss:0.66222\n",
            "[51]\tvalidation_0-mlogloss:0.64475\tvalidation_1-mlogloss:0.66156\n",
            "[52]\tvalidation_0-mlogloss:0.64384\tvalidation_1-mlogloss:0.66101\n",
            "[53]\tvalidation_0-mlogloss:0.64290\tvalidation_1-mlogloss:0.66044\n",
            "[54]\tvalidation_0-mlogloss:0.64218\tvalidation_1-mlogloss:0.66008\n",
            "[55]\tvalidation_0-mlogloss:0.64150\tvalidation_1-mlogloss:0.65995\n",
            "[56]\tvalidation_0-mlogloss:0.64077\tvalidation_1-mlogloss:0.65951\n",
            "[57]\tvalidation_0-mlogloss:0.64019\tvalidation_1-mlogloss:0.65933\n",
            "[58]\tvalidation_0-mlogloss:0.63961\tvalidation_1-mlogloss:0.65915\n",
            "[59]\tvalidation_0-mlogloss:0.63885\tvalidation_1-mlogloss:0.65872\n",
            "[60]\tvalidation_0-mlogloss:0.63828\tvalidation_1-mlogloss:0.65855\n",
            "[61]\tvalidation_0-mlogloss:0.63752\tvalidation_1-mlogloss:0.65811\n",
            "[62]\tvalidation_0-mlogloss:0.63684\tvalidation_1-mlogloss:0.65772\n",
            "[63]\tvalidation_0-mlogloss:0.63615\tvalidation_1-mlogloss:0.65742\n",
            "[64]\tvalidation_0-mlogloss:0.63543\tvalidation_1-mlogloss:0.65708\n",
            "[65]\tvalidation_0-mlogloss:0.63492\tvalidation_1-mlogloss:0.65692\n",
            "[66]\tvalidation_0-mlogloss:0.63434\tvalidation_1-mlogloss:0.65677\n",
            "[67]\tvalidation_0-mlogloss:0.63365\tvalidation_1-mlogloss:0.65647\n",
            "[68]\tvalidation_0-mlogloss:0.63308\tvalidation_1-mlogloss:0.65626\n",
            "[69]\tvalidation_0-mlogloss:0.63259\tvalidation_1-mlogloss:0.65622\n",
            "[70]\tvalidation_0-mlogloss:0.63199\tvalidation_1-mlogloss:0.65596\n",
            "[71]\tvalidation_0-mlogloss:0.63134\tvalidation_1-mlogloss:0.65560\n",
            "[72]\tvalidation_0-mlogloss:0.63080\tvalidation_1-mlogloss:0.65539\n",
            "[73]\tvalidation_0-mlogloss:0.63025\tvalidation_1-mlogloss:0.65522\n",
            "[74]\tvalidation_0-mlogloss:0.62967\tvalidation_1-mlogloss:0.65498\n",
            "[75]\tvalidation_0-mlogloss:0.62923\tvalidation_1-mlogloss:0.65490\n",
            "[76]\tvalidation_0-mlogloss:0.62871\tvalidation_1-mlogloss:0.65469\n",
            "[77]\tvalidation_0-mlogloss:0.62820\tvalidation_1-mlogloss:0.65462\n",
            "[78]\tvalidation_0-mlogloss:0.62769\tvalidation_1-mlogloss:0.65452\n",
            "[79]\tvalidation_0-mlogloss:0.62722\tvalidation_1-mlogloss:0.65438\n",
            "[80]\tvalidation_0-mlogloss:0.62670\tvalidation_1-mlogloss:0.65423\n",
            "[81]\tvalidation_0-mlogloss:0.62623\tvalidation_1-mlogloss:0.65414\n",
            "[82]\tvalidation_0-mlogloss:0.62573\tvalidation_1-mlogloss:0.65400\n",
            "[83]\tvalidation_0-mlogloss:0.62527\tvalidation_1-mlogloss:0.65389\n",
            "[84]\tvalidation_0-mlogloss:0.62484\tvalidation_1-mlogloss:0.65387\n",
            "[85]\tvalidation_0-mlogloss:0.62439\tvalidation_1-mlogloss:0.65378\n",
            "[86]\tvalidation_0-mlogloss:0.62390\tvalidation_1-mlogloss:0.65375\n",
            "[87]\tvalidation_0-mlogloss:0.62349\tvalidation_1-mlogloss:0.65369\n",
            "[88]\tvalidation_0-mlogloss:0.62306\tvalidation_1-mlogloss:0.65355\n",
            "[89]\tvalidation_0-mlogloss:0.62261\tvalidation_1-mlogloss:0.65345\n",
            "[90]\tvalidation_0-mlogloss:0.62219\tvalidation_1-mlogloss:0.65333\n",
            "[91]\tvalidation_0-mlogloss:0.62169\tvalidation_1-mlogloss:0.65323\n",
            "[92]\tvalidation_0-mlogloss:0.62128\tvalidation_1-mlogloss:0.65312\n",
            "[93]\tvalidation_0-mlogloss:0.62082\tvalidation_1-mlogloss:0.65308\n",
            "[94]\tvalidation_0-mlogloss:0.62040\tvalidation_1-mlogloss:0.65295\n",
            "[95]\tvalidation_0-mlogloss:0.61992\tvalidation_1-mlogloss:0.65302\n",
            "[96]\tvalidation_0-mlogloss:0.61953\tvalidation_1-mlogloss:0.65301\n",
            "[97]\tvalidation_0-mlogloss:0.61911\tvalidation_1-mlogloss:0.65294\n",
            "[98]\tvalidation_0-mlogloss:0.61870\tvalidation_1-mlogloss:0.65292\n",
            "[99]\tvalidation_0-mlogloss:0.61825\tvalidation_1-mlogloss:0.65281\n",
            "\n",
            "Training completed!\n"
          ]
        }
      ]
    },
    {
      "cell_type": "code",
      "source": [
        "metrics = evaluate_model(trained_model, X_test, y_test)"
      ],
      "metadata": {
        "colab": {
          "base_uri": "https://localhost:8080/"
        },
        "id": "n16swdx9b423",
        "outputId": "9843f5d8-2e9e-4f92-ca36-a14ae67ff282"
      },
      "execution_count": 22,
      "outputs": [
        {
          "output_type": "stream",
          "name": "stdout",
          "text": [
            "\n",
            "Model evaluation results:\n",
            "Accuracy: 0.7114\n",
            "F1 Score (weighted): 0.7075\n",
            "ROC AUC Score: 0.8688\n",
            "\n",
            "Detailed classification report:\n",
            "              precision    recall  f1-score   support\n",
            "\n",
            "           0       0.72      0.74      0.73      7472\n",
            "           1       0.68      0.53      0.59      3548\n",
            "           2       0.71      0.80      0.75      5070\n",
            "\n",
            "    accuracy                           0.71     16090\n",
            "   macro avg       0.71      0.69      0.69     16090\n",
            "weighted avg       0.71      0.71      0.71     16090\n",
            "\n"
          ]
        }
      ]
    },
    {
      "cell_type": "code",
      "source": [
        "model_path = \"model-weights/xgb_model.json\"\n",
        "\n",
        "model.save_model(model_path)\n",
        "print(f\"Model saved in {model_path}\")"
      ],
      "metadata": {
        "colab": {
          "base_uri": "https://localhost:8080/"
        },
        "id": "mV6Zh_c_EgBF",
        "outputId": "ce73240b-e8e7-4c5f-f901-0862ef6e81a5"
      },
      "execution_count": 23,
      "outputs": [
        {
          "output_type": "stream",
          "name": "stdout",
          "text": [
            "Model saved in model-weights/xgb_model.json\n"
          ]
        }
      ]
    },
    {
      "cell_type": "code",
      "source": [
        "loaded_model = xgb.XGBClassifier()\n",
        "\n",
        "loaded_model.load_model(model_path)\n",
        "print(\"Model successfully loaded\")\n"
      ],
      "metadata": {
        "colab": {
          "base_uri": "https://localhost:8080/"
        },
        "id": "T6_2vYbtEg44",
        "outputId": "aa2d77ea-dae0-4bf2-f1b8-4c1a08522ac3"
      },
      "execution_count": 24,
      "outputs": [
        {
          "output_type": "stream",
          "name": "stdout",
          "text": [
            "Model successfully loaded\n"
          ]
        }
      ]
    },
    {
      "cell_type": "code",
      "source": [
        "feature_importance = model.get_booster().get_score(importance_type='gain')\n",
        "importance_df = pd.DataFrame({\n",
        "    'feature': list(feature_importance.keys()),\n",
        "    'importance': list(feature_importance.values())\n",
        "})\n",
        "importance_df = importance_df.sort_values('importance', ascending=False)\n",
        "\n",
        "plt.figure(figsize=(12, 6))\n",
        "sns.barplot(data=importance_df.head(20), x='importance', y='feature')\n",
        "plt.title('Top 20 Most Important Features (gain)')\n",
        "plt.xlabel('Feature Importance Score')\n",
        "plt.xticks(rotation=45)\n",
        "plt.tight_layout()\n",
        "plt.show()"
      ],
      "metadata": {
        "colab": {
          "base_uri": "https://localhost:8080/",
          "height": 474
        },
        "id": "RhodRb7zcGp7",
        "outputId": "089cc475-fede-4756-dcaf-2f513249dec5"
      },
      "execution_count": 25,
      "outputs": [
        {
          "output_type": "display_data",
          "data": {
            "text/plain": [
              "<Figure size 1200x600 with 1 Axes>"
            ],
            "image/png": "[encoded data removed]"
          },
          "metadata": {}
        }
      ]
    }
  ]
}